{
 "cells": [
  {
   "cell_type": "code",
   "execution_count": 16,
   "id": "ddde08e3",
   "metadata": {},
   "outputs": [
    {
     "name": "stderr",
     "output_type": "stream",
     "text": [
      "C:\\Users\\82109\\AppData\\Local\\Temp\\ipykernel_8484\\1008087480.py:9: MatplotlibDeprecationWarning:\n",
      "\n",
      "\n",
      "The get_fontconfig_fonts function was deprecated in Matplotlib 3.5 and will be removed two minor releases later.\n",
      "\n"
     ]
    }
   ],
   "source": [
    "import pandas as pd\n",
    "import numpy as np\n",
    "import matplotlib.pyplot as plt\n",
    "\n",
    "# 글꼴깨짐 방지\n",
    "import matplotlib\n",
    "import matplotlib.font_manager as fm\n",
    "\n",
    "fm.get_fontconfig_fonts()\n",
    "font_location = 'C:/Windows/Fonts/malgun.ttf' # For Windows\n",
    "font_name = fm.FontProperties(fname=font_location).get_name()\n",
    "matplotlib.rc('font', family=font_name)"
   ]
  },
  {
   "cell_type": "code",
   "execution_count": 17,
   "id": "b97d0770",
   "metadata": {},
   "outputs": [],
   "source": [
    "지역_위경도 = pd.read_csv('지역_위경도.csv',encoding = 'cp949')\n",
    "df = pd.read_csv('train.csv')\n",
    "df = pd.merge(df,지역_위경도, on='지역')"
   ]
  },
  {
   "cell_type": "code",
   "execution_count": 18,
   "id": "13ff1e5c",
   "metadata": {},
   "outputs": [],
   "source": [
    "def preprocessing_visualize(df):\n",
    "    # 오류 단지코드가 존재하는 행들을  사전에 제거\n",
    "    df_error =  ['C1095', 'C2051', 'C1218', 'C1894', 'C2483', 'C1502', 'C1988']\n",
    "    #df_error =  ['C2335', 'C1327']\n",
    "    df = df[~df['단지코드'].isin(df_error)].reset_index(drop=True)\n",
    "    #df = pd.merge(df,지역_위경도, on='지역')\n",
    "    df.rename(columns = {'도보 10분거리 내 지하철역 수(환승노선 수 반영)':'지하철','도보 10분거리 내 버스정류장 수':'버스'},inplace=True)\n",
    "    df.drop(columns=['임대보증금','임대료','자격유형','임대건물구분'],axis = 1,inplace=True)\n",
    "    지역_비율 = (df.groupby(['지역'])['총세대수'].count())/(df.groupby(['지역'])['총세대수'].count().sum())*100\n",
    "    지역_비율=지역_비율.reset_index(name='지역_비율')\n",
    "    공급유형_비율 = (df.groupby(['공급유형'])['총세대수'].count())/(df.groupby(['공급유형'])['총세대수'].count().sum())*100\n",
    "    공급유형_비율=공급유형_비율.reset_index(name='공급유형_비율')\n",
    "    df = pd.merge(df,지역_비율, on='지역')\n",
    "    df = pd.merge(df,공급유형_비율, on='공급유형')\n",
    "    df.drop(columns=['공급유형','단지코드'],axis = 1,inplace=True)\n",
    "    df=df.dropna(axis=0)\n",
    "    df = df[['지역','총세대수', '전용면적', '전용면적별세대수', '공가수', '지하철', '버스', '단지내주차면수', '공급유형_비율',\n",
    "       '지역_비율', '등록차량수','위도','경도']]\n",
    "    return df"
   ]
  },
  {
   "cell_type": "code",
   "execution_count": 19,
   "id": "b1e7501e",
   "metadata": {
    "scrolled": true
   },
   "outputs": [],
   "source": [
    "df = preprocessing_visualize(df)\n",
    "df = df.groupby('지역').mean()\n",
    "df = df.reset_index()"
   ]
  },
  {
   "cell_type": "code",
   "execution_count": 23,
   "id": "a5cd3bf1",
   "metadata": {},
   "outputs": [
    {
     "data": {
      "application/vnd.plotly.v1+json": {
       "config": {
        "plotlyServerURL": "https://plot.ly"
       },
       "data": [
        {
         "customdata": [
          [
           960.9667774086379,
           44.31441860465116,
           115.5016611295681,
           12.83388704318937,
           0.20764119601328904,
           4.347176079734219,
           824.405315614618,
           49.886130763825264,
           22.22222222222222
          ],
          [
           696.9671232876713,
           41.75276712328767,
           97.76164383561644,
           11.523287671232877,
           0,
           3.824657534246575,
           469.2712328767123,
           39.101928123909644,
           13.621262458471762
          ],
          [
           610.6936936936937,
           45.26189189189189,
           108.8108108108108,
           21.117117117117118,
           0,
           3.018018018018018,
           571.3153153153153,
           55.007499193545705,
           4.097452934662237
          ],
          [
           776.3687943262412,
           43.744184397163124,
           122.02836879432624,
           17.06382978723404,
           0,
           3.49645390070922,
           673.531914893617,
           44.418787912108044,
           5.204872646733112
          ],
          [
           862.8627450980392,
           47.85460784313725,
           142.13725490196077,
           17.862745098039216,
           0.46078431372549017,
           3.735294117647059,
           801.7549019607843,
           37.05006550423787,
           3.7652270210409746
          ],
          [
           1388.5086705202311,
           45.34063583815029,
           99.98265895953757,
           10.947976878612717,
           0.7225433526011561,
           5.07514450867052,
           757.3699421965318,
           36.57984410773764,
           9.819121447028424
          ],
          [
           1511.0701219512196,
           47.214390243902436,
           87.95426829268293,
           13.689024390243903,
           0.5335365853658537,
           2.448170731707317,
           467.7134146341463,
           27.065720408034643,
           12.107788851974899
          ],
          [
           778.875,
           52.27515625,
           83.953125,
           8.46875,
           0.1875,
           4.09375,
           866.609375,
           15.470999446290143,
           2.3624953857511994
          ],
          [
           1344.75,
           59.01958333333334,
           175.08333333333334,
           8.5,
           0,
           2,
           1397.25,
           15.35006767564907,
           0.8859357696566997
          ],
          [
           490.7647058823529,
           43.502941176470586,
           115.17647058823529,
           19.205882352941178,
           0,
           2.9411764705882355,
           406.44117647058823,
           37.76301218161683,
           1.2550756736803248
          ],
          [
           634.0748299319728,
           42.374761904761904,
           94.94557823129252,
           13.850340136054422,
           0,
           3.435374149659864,
           531.2585034013606,
           50.31427114958201,
           5.426356589147287
          ],
          [
           597.9174311926605,
           43.34,
           109.11926605504587,
           9.26605504587156,
           0,
           3.073394495412844,
           482.76146788990826,
           51.55462085267931,
           4.023624953857512
          ],
          [
           557.8461538461538,
           38.5543956043956,
           79.01098901098901,
           7.8901098901098905,
           0,
           5.274725274725275,
           377.3736263736264,
           33.42906631943177,
           3.359173126614987
          ],
          [
           434.4318181818182,
           42.94159090909091,
           71.25,
           11.363636363636363,
           0,
           2.3636363636363638,
           338.3863636363636,
           55.56478405315614,
           5.832410483573273
          ],
          [
           700.6319018404907,
           44.94024539877301,
           117.11042944785277,
           20.368098159509202,
           0,
           2.9447852760736195,
           652.5644171779142,
           46.38525976805331,
           6.016980435585087
          ]
         ],
         "hovertemplate": "<b>%{hovertext}</b><br><br>등록차량수=%{marker.color}<br>위도=%{lat}<br>경도=%{lon}<br>총세대수=%{customdata[0]}<br>전용면적=%{customdata[1]}<br>전용면적별세대수=%{customdata[2]}<br>공가수=%{customdata[3]}<br>지하철=%{customdata[4]}<br>버스=%{customdata[5]}<br>단지내주차면수=%{customdata[6]}<br>공급유형_비율=%{customdata[7]}<br>지역_비율=%{customdata[8]}<extra></extra>",
         "hovertext": [
          "경기도",
          "경상남도",
          "경상북도",
          "광주광역시",
          "대구광역시",
          "대전광역시",
          "부산광역시",
          "서울특별시",
          "세종특별자치시",
          "울산광역시",
          "전라남도",
          "전라북도",
          "제주특별자치도",
          "충청남도",
          "충청북도"
         ],
         "lat": [
          37.4363177,
          35.4414209,
          36.6308397,
          35.160032,
          35.87139,
          36.3504396,
          35.179816,
          37.5666103,
          36.4803512,
          35.5394773,
          34.9007274,
          35.6910153,
          33.4273366,
          36.6173379,
          36.7853718
         ],
         "legendgroup": "",
         "lon": [
          127.550802,
          128.2417453,
          128.962578,
          126.85133800000001,
          128.601763,
          127.3849508,
          129.0750223,
          126.9783882,
          127.28943250000002,
          129.3112994,
          126.9571667,
          127.2368291,
          126.5758344,
          126.8453965,
          127.6551404
         ],
         "marker": {
          "color": [
           803,
           409.4082191780822,
           613.8558558558559,
           731.8581560283687,
           873.5196078431372,
           523.849710982659,
           316.5457317073171,
           882.328125,
           1785.7083333333333,
           337.11764705882354,
           509.68027210884355,
           482.42201834862385,
           333.2197802197802,
           379.6363636363636,
           563.1840490797546
          ],
          "coloraxis": "coloraxis",
          "size": [
           803,
           409.4082191780822,
           613.8558558558559,
           731.8581560283687,
           873.5196078431372,
           523.849710982659,
           316.5457317073171,
           882.328125,
           1785.7083333333333,
           337.11764705882354,
           509.68027210884355,
           482.42201834862385,
           333.2197802197802,
           379.6363636363636,
           563.1840490797546
          ],
          "sizemode": "area",
          "sizeref": 4.464270833333333
         },
         "mode": "markers",
         "name": "",
         "showlegend": false,
         "subplot": "mapbox",
         "type": "scattermapbox"
        }
       ],
       "layout": {
        "coloraxis": {
         "colorbar": {
          "title": {
           "text": "등록차량수"
          }
         },
         "colorscale": [
          [
           0,
           "rgb(0,0,131)"
          ],
          [
           0.2,
           "rgb(0,60,170)"
          ],
          [
           0.4,
           "rgb(5,255,255)"
          ],
          [
           0.6,
           "rgb(255,255,0)"
          ],
          [
           0.8,
           "rgb(250,0,0)"
          ],
          [
           1,
           "rgb(128,0,0)"
          ]
         ]
        },
        "font": {
         "color": "#000000",
         "family": "Courier New, Monospace",
         "size": 12
        },
        "height": 300,
        "legend": {
         "itemsizing": "constant",
         "tracegroupgap": 0
        },
        "mapbox": {
         "center": {
          "lat": 35.938565579999995,
          "lon": 127.70117910666667
         },
         "domain": {
          "x": [
           0,
           1
          ],
          "y": [
           0,
           1
          ]
         },
         "style": "open-street-map",
         "zoom": 5
        },
        "margin": {
         "b": 10,
         "l": 10,
         "r": 10,
         "t": 0
        },
        "showlegend": false,
        "template": {
         "data": {
          "bar": [
           {
            "error_x": {
             "color": "#2a3f5f"
            },
            "error_y": {
             "color": "#2a3f5f"
            },
            "marker": {
             "line": {
              "color": "#E5ECF6",
              "width": 0.5
             },
             "pattern": {
              "fillmode": "overlay",
              "size": 10,
              "solidity": 0.2
             }
            },
            "type": "bar"
           }
          ],
          "barpolar": [
           {
            "marker": {
             "line": {
              "color": "#E5ECF6",
              "width": 0.5
             },
             "pattern": {
              "fillmode": "overlay",
              "size": 10,
              "solidity": 0.2
             }
            },
            "type": "barpolar"
           }
          ],
          "carpet": [
           {
            "aaxis": {
             "endlinecolor": "#2a3f5f",
             "gridcolor": "white",
             "linecolor": "white",
             "minorgridcolor": "white",
             "startlinecolor": "#2a3f5f"
            },
            "baxis": {
             "endlinecolor": "#2a3f5f",
             "gridcolor": "white",
             "linecolor": "white",
             "minorgridcolor": "white",
             "startlinecolor": "#2a3f5f"
            },
            "type": "carpet"
           }
          ],
          "choropleth": [
           {
            "colorbar": {
             "outlinewidth": 0,
             "ticks": ""
            },
            "type": "choropleth"
           }
          ],
          "contour": [
           {
            "colorbar": {
             "outlinewidth": 0,
             "ticks": ""
            },
            "colorscale": [
             [
              0,
              "#0d0887"
             ],
             [
              0.1111111111111111,
              "#46039f"
             ],
             [
              0.2222222222222222,
              "#7201a8"
             ],
             [
              0.3333333333333333,
              "#9c179e"
             ],
             [
              0.4444444444444444,
              "#bd3786"
             ],
             [
              0.5555555555555556,
              "#d8576b"
             ],
             [
              0.6666666666666666,
              "#ed7953"
             ],
             [
              0.7777777777777778,
              "#fb9f3a"
             ],
             [
              0.8888888888888888,
              "#fdca26"
             ],
             [
              1,
              "#f0f921"
             ]
            ],
            "type": "contour"
           }
          ],
          "contourcarpet": [
           {
            "colorbar": {
             "outlinewidth": 0,
             "ticks": ""
            },
            "type": "contourcarpet"
           }
          ],
          "heatmap": [
           {
            "colorbar": {
             "outlinewidth": 0,
             "ticks": ""
            },
            "colorscale": [
             [
              0,
              "#0d0887"
             ],
             [
              0.1111111111111111,
              "#46039f"
             ],
             [
              0.2222222222222222,
              "#7201a8"
             ],
             [
              0.3333333333333333,
              "#9c179e"
             ],
             [
              0.4444444444444444,
              "#bd3786"
             ],
             [
              0.5555555555555556,
              "#d8576b"
             ],
             [
              0.6666666666666666,
              "#ed7953"
             ],
             [
              0.7777777777777778,
              "#fb9f3a"
             ],
             [
              0.8888888888888888,
              "#fdca26"
             ],
             [
              1,
              "#f0f921"
             ]
            ],
            "type": "heatmap"
           }
          ],
          "heatmapgl": [
           {
            "colorbar": {
             "outlinewidth": 0,
             "ticks": ""
            },
            "colorscale": [
             [
              0,
              "#0d0887"
             ],
             [
              0.1111111111111111,
              "#46039f"
             ],
             [
              0.2222222222222222,
              "#7201a8"
             ],
             [
              0.3333333333333333,
              "#9c179e"
             ],
             [
              0.4444444444444444,
              "#bd3786"
             ],
             [
              0.5555555555555556,
              "#d8576b"
             ],
             [
              0.6666666666666666,
              "#ed7953"
             ],
             [
              0.7777777777777778,
              "#fb9f3a"
             ],
             [
              0.8888888888888888,
              "#fdca26"
             ],
             [
              1,
              "#f0f921"
             ]
            ],
            "type": "heatmapgl"
           }
          ],
          "histogram": [
           {
            "marker": {
             "pattern": {
              "fillmode": "overlay",
              "size": 10,
              "solidity": 0.2
             }
            },
            "type": "histogram"
           }
          ],
          "histogram2d": [
           {
            "colorbar": {
             "outlinewidth": 0,
             "ticks": ""
            },
            "colorscale": [
             [
              0,
              "#0d0887"
             ],
             [
              0.1111111111111111,
              "#46039f"
             ],
             [
              0.2222222222222222,
              "#7201a8"
             ],
             [
              0.3333333333333333,
              "#9c179e"
             ],
             [
              0.4444444444444444,
              "#bd3786"
             ],
             [
              0.5555555555555556,
              "#d8576b"
             ],
             [
              0.6666666666666666,
              "#ed7953"
             ],
             [
              0.7777777777777778,
              "#fb9f3a"
             ],
             [
              0.8888888888888888,
              "#fdca26"
             ],
             [
              1,
              "#f0f921"
             ]
            ],
            "type": "histogram2d"
           }
          ],
          "histogram2dcontour": [
           {
            "colorbar": {
             "outlinewidth": 0,
             "ticks": ""
            },
            "colorscale": [
             [
              0,
              "#0d0887"
             ],
             [
              0.1111111111111111,
              "#46039f"
             ],
             [
              0.2222222222222222,
              "#7201a8"
             ],
             [
              0.3333333333333333,
              "#9c179e"
             ],
             [
              0.4444444444444444,
              "#bd3786"
             ],
             [
              0.5555555555555556,
              "#d8576b"
             ],
             [
              0.6666666666666666,
              "#ed7953"
             ],
             [
              0.7777777777777778,
              "#fb9f3a"
             ],
             [
              0.8888888888888888,
              "#fdca26"
             ],
             [
              1,
              "#f0f921"
             ]
            ],
            "type": "histogram2dcontour"
           }
          ],
          "mesh3d": [
           {
            "colorbar": {
             "outlinewidth": 0,
             "ticks": ""
            },
            "type": "mesh3d"
           }
          ],
          "parcoords": [
           {
            "line": {
             "colorbar": {
              "outlinewidth": 0,
              "ticks": ""
             }
            },
            "type": "parcoords"
           }
          ],
          "pie": [
           {
            "automargin": true,
            "type": "pie"
           }
          ],
          "scatter": [
           {
            "marker": {
             "colorbar": {
              "outlinewidth": 0,
              "ticks": ""
             }
            },
            "type": "scatter"
           }
          ],
          "scatter3d": [
           {
            "line": {
             "colorbar": {
              "outlinewidth": 0,
              "ticks": ""
             }
            },
            "marker": {
             "colorbar": {
              "outlinewidth": 0,
              "ticks": ""
             }
            },
            "type": "scatter3d"
           }
          ],
          "scattercarpet": [
           {
            "marker": {
             "colorbar": {
              "outlinewidth": 0,
              "ticks": ""
             }
            },
            "type": "scattercarpet"
           }
          ],
          "scattergeo": [
           {
            "marker": {
             "colorbar": {
              "outlinewidth": 0,
              "ticks": ""
             }
            },
            "type": "scattergeo"
           }
          ],
          "scattergl": [
           {
            "marker": {
             "colorbar": {
              "outlinewidth": 0,
              "ticks": ""
             }
            },
            "type": "scattergl"
           }
          ],
          "scattermapbox": [
           {
            "marker": {
             "colorbar": {
              "outlinewidth": 0,
              "ticks": ""
             }
            },
            "type": "scattermapbox"
           }
          ],
          "scatterpolar": [
           {
            "marker": {
             "colorbar": {
              "outlinewidth": 0,
              "ticks": ""
             }
            },
            "type": "scatterpolar"
           }
          ],
          "scatterpolargl": [
           {
            "marker": {
             "colorbar": {
              "outlinewidth": 0,
              "ticks": ""
             }
            },
            "type": "scatterpolargl"
           }
          ],
          "scatterternary": [
           {
            "marker": {
             "colorbar": {
              "outlinewidth": 0,
              "ticks": ""
             }
            },
            "type": "scatterternary"
           }
          ],
          "surface": [
           {
            "colorbar": {
             "outlinewidth": 0,
             "ticks": ""
            },
            "colorscale": [
             [
              0,
              "#0d0887"
             ],
             [
              0.1111111111111111,
              "#46039f"
             ],
             [
              0.2222222222222222,
              "#7201a8"
             ],
             [
              0.3333333333333333,
              "#9c179e"
             ],
             [
              0.4444444444444444,
              "#bd3786"
             ],
             [
              0.5555555555555556,
              "#d8576b"
             ],
             [
              0.6666666666666666,
              "#ed7953"
             ],
             [
              0.7777777777777778,
              "#fb9f3a"
             ],
             [
              0.8888888888888888,
              "#fdca26"
             ],
             [
              1,
              "#f0f921"
             ]
            ],
            "type": "surface"
           }
          ],
          "table": [
           {
            "cells": {
             "fill": {
              "color": "#EBF0F8"
             },
             "line": {
              "color": "white"
             }
            },
            "header": {
             "fill": {
              "color": "#C8D4E3"
             },
             "line": {
              "color": "white"
             }
            },
            "type": "table"
           }
          ]
         },
         "layout": {
          "annotationdefaults": {
           "arrowcolor": "#2a3f5f",
           "arrowhead": 0,
           "arrowwidth": 1
          },
          "autotypenumbers": "strict",
          "coloraxis": {
           "colorbar": {
            "outlinewidth": 0,
            "ticks": ""
           }
          },
          "colorscale": {
           "diverging": [
            [
             0,
             "#8e0152"
            ],
            [
             0.1,
             "#c51b7d"
            ],
            [
             0.2,
             "#de77ae"
            ],
            [
             0.3,
             "#f1b6da"
            ],
            [
             0.4,
             "#fde0ef"
            ],
            [
             0.5,
             "#f7f7f7"
            ],
            [
             0.6,
             "#e6f5d0"
            ],
            [
             0.7,
             "#b8e186"
            ],
            [
             0.8,
             "#7fbc41"
            ],
            [
             0.9,
             "#4d9221"
            ],
            [
             1,
             "#276419"
            ]
           ],
           "sequential": [
            [
             0,
             "#0d0887"
            ],
            [
             0.1111111111111111,
             "#46039f"
            ],
            [
             0.2222222222222222,
             "#7201a8"
            ],
            [
             0.3333333333333333,
             "#9c179e"
            ],
            [
             0.4444444444444444,
             "#bd3786"
            ],
            [
             0.5555555555555556,
             "#d8576b"
            ],
            [
             0.6666666666666666,
             "#ed7953"
            ],
            [
             0.7777777777777778,
             "#fb9f3a"
            ],
            [
             0.8888888888888888,
             "#fdca26"
            ],
            [
             1,
             "#f0f921"
            ]
           ],
           "sequentialminus": [
            [
             0,
             "#0d0887"
            ],
            [
             0.1111111111111111,
             "#46039f"
            ],
            [
             0.2222222222222222,
             "#7201a8"
            ],
            [
             0.3333333333333333,
             "#9c179e"
            ],
            [
             0.4444444444444444,
             "#bd3786"
            ],
            [
             0.5555555555555556,
             "#d8576b"
            ],
            [
             0.6666666666666666,
             "#ed7953"
            ],
            [
             0.7777777777777778,
             "#fb9f3a"
            ],
            [
             0.8888888888888888,
             "#fdca26"
            ],
            [
             1,
             "#f0f921"
            ]
           ]
          },
          "colorway": [
           "#636efa",
           "#EF553B",
           "#00cc96",
           "#ab63fa",
           "#FFA15A",
           "#19d3f3",
           "#FF6692",
           "#B6E880",
           "#FF97FF",
           "#FECB52"
          ],
          "font": {
           "color": "#2a3f5f"
          },
          "geo": {
           "bgcolor": "white",
           "lakecolor": "white",
           "landcolor": "#E5ECF6",
           "showlakes": true,
           "showland": true,
           "subunitcolor": "white"
          },
          "hoverlabel": {
           "align": "left"
          },
          "hovermode": "closest",
          "mapbox": {
           "style": "light"
          },
          "paper_bgcolor": "white",
          "plot_bgcolor": "#E5ECF6",
          "polar": {
           "angularaxis": {
            "gridcolor": "white",
            "linecolor": "white",
            "ticks": ""
           },
           "bgcolor": "#E5ECF6",
           "radialaxis": {
            "gridcolor": "white",
            "linecolor": "white",
            "ticks": ""
           }
          },
          "scene": {
           "xaxis": {
            "backgroundcolor": "#E5ECF6",
            "gridcolor": "white",
            "gridwidth": 2,
            "linecolor": "white",
            "showbackground": true,
            "ticks": "",
            "zerolinecolor": "white"
           },
           "yaxis": {
            "backgroundcolor": "#E5ECF6",
            "gridcolor": "white",
            "gridwidth": 2,
            "linecolor": "white",
            "showbackground": true,
            "ticks": "",
            "zerolinecolor": "white"
           },
           "zaxis": {
            "backgroundcolor": "#E5ECF6",
            "gridcolor": "white",
            "gridwidth": 2,
            "linecolor": "white",
            "showbackground": true,
            "ticks": "",
            "zerolinecolor": "white"
           }
          },
          "shapedefaults": {
           "line": {
            "color": "#2a3f5f"
           }
          },
          "ternary": {
           "aaxis": {
            "gridcolor": "white",
            "linecolor": "white",
            "ticks": ""
           },
           "baxis": {
            "gridcolor": "white",
            "linecolor": "white",
            "ticks": ""
           },
           "bgcolor": "#E5ECF6",
           "caxis": {
            "gridcolor": "white",
            "linecolor": "white",
            "ticks": ""
           }
          },
          "title": {
           "x": 0.05
          },
          "xaxis": {
           "automargin": true,
           "gridcolor": "white",
           "linecolor": "white",
           "ticks": "",
           "title": {
            "standoff": 15
           },
           "zerolinecolor": "white",
           "zerolinewidth": 2
          },
          "yaxis": {
           "automargin": true,
           "gridcolor": "white",
           "linecolor": "white",
           "ticks": "",
           "title": {
            "standoff": 15
           },
           "zerolinecolor": "white",
           "zerolinewidth": 2
          }
         }
        },
        "title": {
         "font": {
          "color": "#000000",
          "family": "Arial",
          "size": 25
         },
         "text": "<b>지역별 등록차량수 분포도</b><br><sup>Number of registered vehicles by region</sup>",
         "x": 0.5,
         "y": 0.87
        },
        "xaxis": {
         "title": {
          "text": "<b>Fail Point</b>"
         }
        },
        "yaxis": {
         "title": {
          "text": "<b>Portion(%)</b>"
         }
        }
       }
      },
      "text/html": [
       "<div>                            <div id=\"ce1f6964-fcd3-4adb-bf1e-c7c75f771656\" class=\"plotly-graph-div\" style=\"height:300px; width:100%;\"></div>            <script type=\"text/javascript\">                require([\"plotly\"], function(Plotly) {                    window.PLOTLYENV=window.PLOTLYENV || {};                                    if (document.getElementById(\"ce1f6964-fcd3-4adb-bf1e-c7c75f771656\")) {                    Plotly.newPlot(                        \"ce1f6964-fcd3-4adb-bf1e-c7c75f771656\",                        [{\"customdata\":[[960.9667774086379,44.31441860465116,115.5016611295681,12.83388704318937,0.20764119601328904,4.347176079734219,824.405315614618,49.886130763825264,22.22222222222222],[696.9671232876713,41.75276712328767,97.76164383561644,11.523287671232877,0.0,3.824657534246575,469.2712328767123,39.101928123909644,13.621262458471762],[610.6936936936937,45.26189189189189,108.8108108108108,21.117117117117118,0.0,3.018018018018018,571.3153153153153,55.007499193545705,4.097452934662237],[776.3687943262412,43.744184397163124,122.02836879432624,17.06382978723404,0.0,3.49645390070922,673.531914893617,44.418787912108044,5.204872646733112],[862.8627450980392,47.85460784313725,142.13725490196077,17.862745098039216,0.46078431372549017,3.735294117647059,801.7549019607843,37.05006550423787,3.7652270210409746],[1388.5086705202311,45.34063583815029,99.98265895953757,10.947976878612717,0.7225433526011561,5.07514450867052,757.3699421965318,36.57984410773764,9.819121447028424],[1511.0701219512196,47.214390243902436,87.95426829268293,13.689024390243903,0.5335365853658537,2.448170731707317,467.7134146341463,27.065720408034643,12.107788851974899],[778.875,52.27515625,83.953125,8.46875,0.1875,4.09375,866.609375,15.470999446290143,2.3624953857511994],[1344.75,59.01958333333334,175.08333333333334,8.5,0.0,2.0,1397.25,15.35006767564907,0.8859357696566997],[490.7647058823529,43.502941176470586,115.17647058823529,19.205882352941178,0.0,2.9411764705882355,406.44117647058823,37.76301218161683,1.2550756736803248],[634.0748299319728,42.374761904761904,94.94557823129252,13.850340136054422,0.0,3.435374149659864,531.2585034013606,50.31427114958201,5.426356589147287],[597.9174311926605,43.34,109.11926605504587,9.26605504587156,0.0,3.073394495412844,482.76146788990826,51.55462085267931,4.023624953857512],[557.8461538461538,38.5543956043956,79.01098901098901,7.8901098901098905,0.0,5.274725274725275,377.3736263736264,33.42906631943177,3.359173126614987],[434.4318181818182,42.94159090909091,71.25,11.363636363636363,0.0,2.3636363636363638,338.3863636363636,55.56478405315614,5.832410483573273],[700.6319018404907,44.94024539877301,117.11042944785277,20.368098159509202,0.0,2.9447852760736195,652.5644171779142,46.38525976805331,6.016980435585087]],\"hovertemplate\":\"<b>%{hovertext}</b><br><br>\\ub4f1\\ub85d\\ucc28\\ub7c9\\uc218=%{marker.color}<br>\\uc704\\ub3c4=%{lat}<br>\\uacbd\\ub3c4=%{lon}<br>\\ucd1d\\uc138\\ub300\\uc218=%{customdata[0]}<br>\\uc804\\uc6a9\\uba74\\uc801=%{customdata[1]}<br>\\uc804\\uc6a9\\uba74\\uc801\\ubcc4\\uc138\\ub300\\uc218=%{customdata[2]}<br>\\uacf5\\uac00\\uc218=%{customdata[3]}<br>\\uc9c0\\ud558\\ucca0=%{customdata[4]}<br>\\ubc84\\uc2a4=%{customdata[5]}<br>\\ub2e8\\uc9c0\\ub0b4\\uc8fc\\ucc28\\uba74\\uc218=%{customdata[6]}<br>\\uacf5\\uae09\\uc720\\ud615_\\ube44\\uc728=%{customdata[7]}<br>\\uc9c0\\uc5ed_\\ube44\\uc728=%{customdata[8]}<extra></extra>\",\"hovertext\":[\"\\uacbd\\uae30\\ub3c4\",\"\\uacbd\\uc0c1\\ub0a8\\ub3c4\",\"\\uacbd\\uc0c1\\ubd81\\ub3c4\",\"\\uad11\\uc8fc\\uad11\\uc5ed\\uc2dc\",\"\\ub300\\uad6c\\uad11\\uc5ed\\uc2dc\",\"\\ub300\\uc804\\uad11\\uc5ed\\uc2dc\",\"\\ubd80\\uc0b0\\uad11\\uc5ed\\uc2dc\",\"\\uc11c\\uc6b8\\ud2b9\\ubcc4\\uc2dc\",\"\\uc138\\uc885\\ud2b9\\ubcc4\\uc790\\uce58\\uc2dc\",\"\\uc6b8\\uc0b0\\uad11\\uc5ed\\uc2dc\",\"\\uc804\\ub77c\\ub0a8\\ub3c4\",\"\\uc804\\ub77c\\ubd81\\ub3c4\",\"\\uc81c\\uc8fc\\ud2b9\\ubcc4\\uc790\\uce58\\ub3c4\",\"\\ucda9\\uccad\\ub0a8\\ub3c4\",\"\\ucda9\\uccad\\ubd81\\ub3c4\"],\"lat\":[37.4363177,35.4414209,36.6308397,35.160032,35.87139,36.3504396,35.179816,37.5666103,36.4803512,35.5394773,34.9007274,35.6910153,33.4273366,36.6173379,36.7853718],\"legendgroup\":\"\",\"lon\":[127.550802,128.2417453,128.962578,126.85133800000001,128.601763,127.3849508,129.0750223,126.9783882,127.28943250000002,129.3112994,126.9571667,127.2368291,126.5758344,126.8453965,127.6551404],\"marker\":{\"color\":[803.0,409.4082191780822,613.8558558558559,731.8581560283687,873.5196078431372,523.849710982659,316.5457317073171,882.328125,1785.7083333333333,337.11764705882354,509.68027210884355,482.42201834862385,333.2197802197802,379.6363636363636,563.1840490797546],\"coloraxis\":\"coloraxis\",\"size\":[803.0,409.4082191780822,613.8558558558559,731.8581560283687,873.5196078431372,523.849710982659,316.5457317073171,882.328125,1785.7083333333333,337.11764705882354,509.68027210884355,482.42201834862385,333.2197802197802,379.6363636363636,563.1840490797546],\"sizemode\":\"area\",\"sizeref\":4.464270833333333},\"mode\":\"markers\",\"name\":\"\",\"showlegend\":false,\"subplot\":\"mapbox\",\"type\":\"scattermapbox\"}],                        {\"template\":{\"data\":{\"bar\":[{\"error_x\":{\"color\":\"#2a3f5f\"},\"error_y\":{\"color\":\"#2a3f5f\"},\"marker\":{\"line\":{\"color\":\"#E5ECF6\",\"width\":0.5},\"pattern\":{\"fillmode\":\"overlay\",\"size\":10,\"solidity\":0.2}},\"type\":\"bar\"}],\"barpolar\":[{\"marker\":{\"line\":{\"color\":\"#E5ECF6\",\"width\":0.5},\"pattern\":{\"fillmode\":\"overlay\",\"size\":10,\"solidity\":0.2}},\"type\":\"barpolar\"}],\"carpet\":[{\"aaxis\":{\"endlinecolor\":\"#2a3f5f\",\"gridcolor\":\"white\",\"linecolor\":\"white\",\"minorgridcolor\":\"white\",\"startlinecolor\":\"#2a3f5f\"},\"baxis\":{\"endlinecolor\":\"#2a3f5f\",\"gridcolor\":\"white\",\"linecolor\":\"white\",\"minorgridcolor\":\"white\",\"startlinecolor\":\"#2a3f5f\"},\"type\":\"carpet\"}],\"choropleth\":[{\"colorbar\":{\"outlinewidth\":0,\"ticks\":\"\"},\"type\":\"choropleth\"}],\"contour\":[{\"colorbar\":{\"outlinewidth\":0,\"ticks\":\"\"},\"colorscale\":[[0.0,\"#0d0887\"],[0.1111111111111111,\"#46039f\"],[0.2222222222222222,\"#7201a8\"],[0.3333333333333333,\"#9c179e\"],[0.4444444444444444,\"#bd3786\"],[0.5555555555555556,\"#d8576b\"],[0.6666666666666666,\"#ed7953\"],[0.7777777777777778,\"#fb9f3a\"],[0.8888888888888888,\"#fdca26\"],[1.0,\"#f0f921\"]],\"type\":\"contour\"}],\"contourcarpet\":[{\"colorbar\":{\"outlinewidth\":0,\"ticks\":\"\"},\"type\":\"contourcarpet\"}],\"heatmap\":[{\"colorbar\":{\"outlinewidth\":0,\"ticks\":\"\"},\"colorscale\":[[0.0,\"#0d0887\"],[0.1111111111111111,\"#46039f\"],[0.2222222222222222,\"#7201a8\"],[0.3333333333333333,\"#9c179e\"],[0.4444444444444444,\"#bd3786\"],[0.5555555555555556,\"#d8576b\"],[0.6666666666666666,\"#ed7953\"],[0.7777777777777778,\"#fb9f3a\"],[0.8888888888888888,\"#fdca26\"],[1.0,\"#f0f921\"]],\"type\":\"heatmap\"}],\"heatmapgl\":[{\"colorbar\":{\"outlinewidth\":0,\"ticks\":\"\"},\"colorscale\":[[0.0,\"#0d0887\"],[0.1111111111111111,\"#46039f\"],[0.2222222222222222,\"#7201a8\"],[0.3333333333333333,\"#9c179e\"],[0.4444444444444444,\"#bd3786\"],[0.5555555555555556,\"#d8576b\"],[0.6666666666666666,\"#ed7953\"],[0.7777777777777778,\"#fb9f3a\"],[0.8888888888888888,\"#fdca26\"],[1.0,\"#f0f921\"]],\"type\":\"heatmapgl\"}],\"histogram\":[{\"marker\":{\"pattern\":{\"fillmode\":\"overlay\",\"size\":10,\"solidity\":0.2}},\"type\":\"histogram\"}],\"histogram2d\":[{\"colorbar\":{\"outlinewidth\":0,\"ticks\":\"\"},\"colorscale\":[[0.0,\"#0d0887\"],[0.1111111111111111,\"#46039f\"],[0.2222222222222222,\"#7201a8\"],[0.3333333333333333,\"#9c179e\"],[0.4444444444444444,\"#bd3786\"],[0.5555555555555556,\"#d8576b\"],[0.6666666666666666,\"#ed7953\"],[0.7777777777777778,\"#fb9f3a\"],[0.8888888888888888,\"#fdca26\"],[1.0,\"#f0f921\"]],\"type\":\"histogram2d\"}],\"histogram2dcontour\":[{\"colorbar\":{\"outlinewidth\":0,\"ticks\":\"\"},\"colorscale\":[[0.0,\"#0d0887\"],[0.1111111111111111,\"#46039f\"],[0.2222222222222222,\"#7201a8\"],[0.3333333333333333,\"#9c179e\"],[0.4444444444444444,\"#bd3786\"],[0.5555555555555556,\"#d8576b\"],[0.6666666666666666,\"#ed7953\"],[0.7777777777777778,\"#fb9f3a\"],[0.8888888888888888,\"#fdca26\"],[1.0,\"#f0f921\"]],\"type\":\"histogram2dcontour\"}],\"mesh3d\":[{\"colorbar\":{\"outlinewidth\":0,\"ticks\":\"\"},\"type\":\"mesh3d\"}],\"parcoords\":[{\"line\":{\"colorbar\":{\"outlinewidth\":0,\"ticks\":\"\"}},\"type\":\"parcoords\"}],\"pie\":[{\"automargin\":true,\"type\":\"pie\"}],\"scatter\":[{\"marker\":{\"colorbar\":{\"outlinewidth\":0,\"ticks\":\"\"}},\"type\":\"scatter\"}],\"scatter3d\":[{\"line\":{\"colorbar\":{\"outlinewidth\":0,\"ticks\":\"\"}},\"marker\":{\"colorbar\":{\"outlinewidth\":0,\"ticks\":\"\"}},\"type\":\"scatter3d\"}],\"scattercarpet\":[{\"marker\":{\"colorbar\":{\"outlinewidth\":0,\"ticks\":\"\"}},\"type\":\"scattercarpet\"}],\"scattergeo\":[{\"marker\":{\"colorbar\":{\"outlinewidth\":0,\"ticks\":\"\"}},\"type\":\"scattergeo\"}],\"scattergl\":[{\"marker\":{\"colorbar\":{\"outlinewidth\":0,\"ticks\":\"\"}},\"type\":\"scattergl\"}],\"scattermapbox\":[{\"marker\":{\"colorbar\":{\"outlinewidth\":0,\"ticks\":\"\"}},\"type\":\"scattermapbox\"}],\"scatterpolar\":[{\"marker\":{\"colorbar\":{\"outlinewidth\":0,\"ticks\":\"\"}},\"type\":\"scatterpolar\"}],\"scatterpolargl\":[{\"marker\":{\"colorbar\":{\"outlinewidth\":0,\"ticks\":\"\"}},\"type\":\"scatterpolargl\"}],\"scatterternary\":[{\"marker\":{\"colorbar\":{\"outlinewidth\":0,\"ticks\":\"\"}},\"type\":\"scatterternary\"}],\"surface\":[{\"colorbar\":{\"outlinewidth\":0,\"ticks\":\"\"},\"colorscale\":[[0.0,\"#0d0887\"],[0.1111111111111111,\"#46039f\"],[0.2222222222222222,\"#7201a8\"],[0.3333333333333333,\"#9c179e\"],[0.4444444444444444,\"#bd3786\"],[0.5555555555555556,\"#d8576b\"],[0.6666666666666666,\"#ed7953\"],[0.7777777777777778,\"#fb9f3a\"],[0.8888888888888888,\"#fdca26\"],[1.0,\"#f0f921\"]],\"type\":\"surface\"}],\"table\":[{\"cells\":{\"fill\":{\"color\":\"#EBF0F8\"},\"line\":{\"color\":\"white\"}},\"header\":{\"fill\":{\"color\":\"#C8D4E3\"},\"line\":{\"color\":\"white\"}},\"type\":\"table\"}]},\"layout\":{\"annotationdefaults\":{\"arrowcolor\":\"#2a3f5f\",\"arrowhead\":0,\"arrowwidth\":1},\"autotypenumbers\":\"strict\",\"coloraxis\":{\"colorbar\":{\"outlinewidth\":0,\"ticks\":\"\"}},\"colorscale\":{\"diverging\":[[0,\"#8e0152\"],[0.1,\"#c51b7d\"],[0.2,\"#de77ae\"],[0.3,\"#f1b6da\"],[0.4,\"#fde0ef\"],[0.5,\"#f7f7f7\"],[0.6,\"#e6f5d0\"],[0.7,\"#b8e186\"],[0.8,\"#7fbc41\"],[0.9,\"#4d9221\"],[1,\"#276419\"]],\"sequential\":[[0.0,\"#0d0887\"],[0.1111111111111111,\"#46039f\"],[0.2222222222222222,\"#7201a8\"],[0.3333333333333333,\"#9c179e\"],[0.4444444444444444,\"#bd3786\"],[0.5555555555555556,\"#d8576b\"],[0.6666666666666666,\"#ed7953\"],[0.7777777777777778,\"#fb9f3a\"],[0.8888888888888888,\"#fdca26\"],[1.0,\"#f0f921\"]],\"sequentialminus\":[[0.0,\"#0d0887\"],[0.1111111111111111,\"#46039f\"],[0.2222222222222222,\"#7201a8\"],[0.3333333333333333,\"#9c179e\"],[0.4444444444444444,\"#bd3786\"],[0.5555555555555556,\"#d8576b\"],[0.6666666666666666,\"#ed7953\"],[0.7777777777777778,\"#fb9f3a\"],[0.8888888888888888,\"#fdca26\"],[1.0,\"#f0f921\"]]},\"colorway\":[\"#636efa\",\"#EF553B\",\"#00cc96\",\"#ab63fa\",\"#FFA15A\",\"#19d3f3\",\"#FF6692\",\"#B6E880\",\"#FF97FF\",\"#FECB52\"],\"font\":{\"color\":\"#2a3f5f\"},\"geo\":{\"bgcolor\":\"white\",\"lakecolor\":\"white\",\"landcolor\":\"#E5ECF6\",\"showlakes\":true,\"showland\":true,\"subunitcolor\":\"white\"},\"hoverlabel\":{\"align\":\"left\"},\"hovermode\":\"closest\",\"mapbox\":{\"style\":\"light\"},\"paper_bgcolor\":\"white\",\"plot_bgcolor\":\"#E5ECF6\",\"polar\":{\"angularaxis\":{\"gridcolor\":\"white\",\"linecolor\":\"white\",\"ticks\":\"\"},\"bgcolor\":\"#E5ECF6\",\"radialaxis\":{\"gridcolor\":\"white\",\"linecolor\":\"white\",\"ticks\":\"\"}},\"scene\":{\"xaxis\":{\"backgroundcolor\":\"#E5ECF6\",\"gridcolor\":\"white\",\"gridwidth\":2,\"linecolor\":\"white\",\"showbackground\":true,\"ticks\":\"\",\"zerolinecolor\":\"white\"},\"yaxis\":{\"backgroundcolor\":\"#E5ECF6\",\"gridcolor\":\"white\",\"gridwidth\":2,\"linecolor\":\"white\",\"showbackground\":true,\"ticks\":\"\",\"zerolinecolor\":\"white\"},\"zaxis\":{\"backgroundcolor\":\"#E5ECF6\",\"gridcolor\":\"white\",\"gridwidth\":2,\"linecolor\":\"white\",\"showbackground\":true,\"ticks\":\"\",\"zerolinecolor\":\"white\"}},\"shapedefaults\":{\"line\":{\"color\":\"#2a3f5f\"}},\"ternary\":{\"aaxis\":{\"gridcolor\":\"white\",\"linecolor\":\"white\",\"ticks\":\"\"},\"baxis\":{\"gridcolor\":\"white\",\"linecolor\":\"white\",\"ticks\":\"\"},\"bgcolor\":\"#E5ECF6\",\"caxis\":{\"gridcolor\":\"white\",\"linecolor\":\"white\",\"ticks\":\"\"}},\"title\":{\"x\":0.05},\"xaxis\":{\"automargin\":true,\"gridcolor\":\"white\",\"linecolor\":\"white\",\"ticks\":\"\",\"title\":{\"standoff\":15},\"zerolinecolor\":\"white\",\"zerolinewidth\":2},\"yaxis\":{\"automargin\":true,\"gridcolor\":\"white\",\"linecolor\":\"white\",\"ticks\":\"\",\"title\":{\"standoff\":15},\"zerolinecolor\":\"white\",\"zerolinewidth\":2}}},\"mapbox\":{\"domain\":{\"x\":[0.0,1.0],\"y\":[0.0,1.0]},\"center\":{\"lat\":35.938565579999995,\"lon\":127.70117910666667},\"zoom\":5,\"style\":\"open-street-map\"},\"coloraxis\":{\"colorbar\":{\"title\":{\"text\":\"\\ub4f1\\ub85d\\ucc28\\ub7c9\\uc218\"}},\"colorscale\":[[0.0,\"rgb(0,0,131)\"],[0.2,\"rgb(0,60,170)\"],[0.4,\"rgb(5,255,255)\"],[0.6,\"rgb(255,255,0)\"],[0.8,\"rgb(250,0,0)\"],[1.0,\"rgb(128,0,0)\"]]},\"legend\":{\"tracegroupgap\":0,\"itemsizing\":\"constant\"},\"margin\":{\"t\":0,\"r\":10,\"l\":10,\"b\":10},\"height\":300,\"title\":{\"font\":{\"family\":\"Arial\",\"size\":25,\"color\":\"#000000\"},\"text\":\"<b>\\uc9c0\\uc5ed\\ubcc4 \\ub4f1\\ub85d\\ucc28\\ub7c9\\uc218 \\ubd84\\ud3ec\\ub3c4</b><br><sup>Number of registered vehicles by region</sup>\",\"x\":0.5,\"y\":0.87},\"xaxis\":{\"title\":{\"text\":\"<b>Fail Point</b>\"}},\"font\":{\"family\":\"Courier New, Monospace\",\"size\":12,\"color\":\"#000000\"},\"yaxis\":{\"title\":{\"text\":\"<b>Portion(%)</b>\"}},\"showlegend\":false},                        {\"responsive\": true}                    ).then(function(){\n",
       "                            \n",
       "var gd = document.getElementById('ce1f6964-fcd3-4adb-bf1e-c7c75f771656');\n",
       "var x = new MutationObserver(function (mutations, observer) {{\n",
       "        var display = window.getComputedStyle(gd).display;\n",
       "        if (!display || display === 'none') {{\n",
       "            console.log([gd, 'removed!']);\n",
       "            Plotly.purge(gd);\n",
       "            observer.disconnect();\n",
       "        }}\n",
       "}});\n",
       "\n",
       "// Listen for the removal of the full notebook cells\n",
       "var notebookContainer = gd.closest('#notebook-container');\n",
       "if (notebookContainer) {{\n",
       "    x.observe(notebookContainer, {childList: true});\n",
       "}}\n",
       "\n",
       "// Listen for the clearing of the current output cell\n",
       "var outputEl = gd.closest('.output');\n",
       "if (outputEl) {{\n",
       "    x.observe(outputEl, {childList: true});\n",
       "}}\n",
       "\n",
       "                        })                };                });            </script>        </div>"
      ]
     },
     "metadata": {},
     "output_type": "display_data"
    }
   ],
   "source": [
    "import numpy as np\n",
    "import pandas as pd\n",
    "# plotly 라이브러리 불러오기\n",
    "import plotly.offline as pyo\n",
    "import plotly.graph_objs as go\n",
    "import plotly.express as px\n",
    "\n",
    "fig = px.scatter_mapbox(df, lat=\"위도\", lon=\"경도\", hover_name=\"지역\", hover_data=['총세대수', '전용면적', '전용면적별세대수', '공가수', '지하철', '버스', '단지내주차면수',\n",
    "       '공급유형_비율', '지역_비율'],\n",
    "                        color=\"등록차량수\",color_continuous_scale=px.colors.sequential.Jet,size=df[\"등록차량수\"], size_max=20, zoom=5, height=300)\n",
    "fig.update_layout(mapbox_style=\"open-street-map\")\n",
    "fig.update_layout(margin={\"r\":0,\"t\":0,\"l\":0,\"b\":0})\n",
    "fig.update_layout(\n",
    "    title=dict(\n",
    "        # <br> 태크와 <sup>태그 사용해서 서브 타이틀을 작성할 수 있음\n",
    "        text='<b>지역별 등록차량수 분포도</b><br><sup>Number of registered vehicles by region</sup>',\n",
    "        x=0.5,\n",
    "        y=0.87,\n",
    "        font=dict(\n",
    "            family=\"Arial\",\n",
    "            size=25,\n",
    "            color=\"#000000\"\n",
    "        )\n",
    "    ),\n",
    "    xaxis_title=dict(\n",
    "        text=\"<b>Fail Point</b>\"\n",
    "    ),\n",
    "    yaxis_title=\"<b>Portion(%)</b>\",\n",
    "    font=dict(\n",
    "        family=\"Courier New, Monospace\",\n",
    "        size=12,\n",
    "        color=\"#000000\"\n",
    "    ),\n",
    "    showlegend=False,\n",
    "    margin = dict(l=10, r=10, b=10)\n",
    ")"
   ]
  },
  {
   "cell_type": "code",
   "execution_count": null,
   "id": "9f759d01",
   "metadata": {},
   "outputs": [],
   "source": []
  }
 ],
 "metadata": {
  "kernelspec": {
   "display_name": "Python 3 (ipykernel)",
   "language": "python",
   "name": "python3"
  },
  "language_info": {
   "codemirror_mode": {
    "name": "ipython",
    "version": 3
   },
   "file_extension": ".py",
   "mimetype": "text/x-python",
   "name": "python",
   "nbconvert_exporter": "python",
   "pygments_lexer": "ipython3",
   "version": "3.9.12"
  },
  "toc": {
   "base_numbering": 1,
   "nav_menu": {},
   "number_sections": true,
   "sideBar": true,
   "skip_h1_title": false,
   "title_cell": "Table of Contents",
   "title_sidebar": "Contents",
   "toc_cell": false,
   "toc_position": {},
   "toc_section_display": true,
   "toc_window_display": false
  },
  "varInspector": {
   "cols": {
    "lenName": 16,
    "lenType": 16,
    "lenVar": 40
   },
   "kernels_config": {
    "python": {
     "delete_cmd_postfix": "",
     "delete_cmd_prefix": "del ",
     "library": "var_list.py",
     "varRefreshCmd": "print(var_dic_list())"
    },
    "r": {
     "delete_cmd_postfix": ") ",
     "delete_cmd_prefix": "rm(",
     "library": "var_list.r",
     "varRefreshCmd": "cat(var_dic_list()) "
    }
   },
   "types_to_exclude": [
    "module",
    "function",
    "builtin_function_or_method",
    "instance",
    "_Feature"
   ],
   "window_display": false
  }
 },
 "nbformat": 4,
 "nbformat_minor": 5
}
