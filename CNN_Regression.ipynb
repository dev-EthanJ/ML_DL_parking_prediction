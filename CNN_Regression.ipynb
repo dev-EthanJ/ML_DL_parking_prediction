{
  "nbformat": 4,
  "nbformat_minor": 0,
  "metadata": {
    "colab": {
      "provenance": []
    },
    "kernelspec": {
      "name": "python3",
      "display_name": "Python 3"
    },
    "language_info": {
      "name": "python"
    },
    "accelerator": "GPU",
    "gpuClass": "standard"
  },
  "cells": [
    {
      "cell_type": "code",
      "execution_count": null,
      "metadata": {
        "colab": {
          "base_uri": "https://localhost:8080/"
        },
        "id": "XHpzw-m6wc_s",
        "outputId": "6427fb80-47d7-4af1-b06b-7f943d17dfba"
      },
      "outputs": [
        {
          "output_type": "stream",
          "name": "stdout",
          "text": [
            "Mounted at /content/drive/\n"
          ]
        }
      ],
      "source": [
        "from google.colab import drive\n",
        "drive.mount('/content/drive/')"
      ]
    },
    {
      "cell_type": "code",
      "source": [
        "%cd /content/drive/MyDrive/PD_ML/project2"
      ],
      "metadata": {
        "colab": {
          "base_uri": "https://localhost:8080/"
        },
        "id": "c8W4d-vrwd0s",
        "outputId": "7877d9f4-6ead-4732-af5f-7269a8e1d421"
      },
      "execution_count": null,
      "outputs": [
        {
          "output_type": "stream",
          "name": "stdout",
          "text": [
            "/content/drive/MyDrive/PD_ML/project2\n"
          ]
        }
      ]
    },
    {
      "cell_type": "code",
      "source": [
        "import pandas as pd\n",
        "import numpy as np\n",
        "import matplotlib.pyplot as plt\n",
        "\n",
        "# 글꼴깨짐 방지\n",
        "import matplotlib\n",
        "import matplotlib.font_manager as fm\n",
        "\n",
        "import warnings\n",
        "\n",
        "# 경고 메시지를 무시하고 숨기거나\n",
        "warnings.filterwarnings(action='ignore')\n",
        "\n",
        "from sklearn.model_selection import train_test_split\n",
        "\n",
        "import torch\n",
        "import torch.optim as optim"
      ],
      "metadata": {
        "id": "VLqbP8PRwgPj"
      },
      "execution_count": null,
      "outputs": []
    },
    {
      "cell_type": "code",
      "source": [
        "!sudo apt-get install -y fonts-nanum\n",
        "!sudo fc-cache -fv\n",
        "!rm ~/.cache/matplotlib -rf"
      ],
      "metadata": {
        "colab": {
          "base_uri": "https://localhost:8080/"
        },
        "id": "r22-_Vzlw68x",
        "outputId": "06fd70c8-7376-4362-bd0f-56fe016fea74"
      },
      "execution_count": null,
      "outputs": [
        {
          "output_type": "stream",
          "name": "stdout",
          "text": [
            "Reading package lists... Done\n",
            "Building dependency tree       \n",
            "Reading state information... Done\n",
            "The following package was automatically installed and is no longer required:\n",
            "  libnvidia-common-460\n",
            "Use 'sudo apt autoremove' to remove it.\n",
            "The following NEW packages will be installed:\n",
            "  fonts-nanum\n",
            "0 upgraded, 1 newly installed, 0 to remove and 5 not upgraded.\n",
            "Need to get 9,604 kB of archives.\n",
            "After this operation, 29.5 MB of additional disk space will be used.\n",
            "Get:1 http://archive.ubuntu.com/ubuntu bionic/universe amd64 fonts-nanum all 20170925-1 [9,604 kB]\n",
            "Fetched 9,604 kB in 0s (44.6 MB/s)\n",
            "debconf: unable to initialize frontend: Dialog\n",
            "debconf: (No usable dialog-like program is installed, so the dialog based frontend cannot be used. at /usr/share/perl5/Debconf/FrontEnd/Dialog.pm line 76, <> line 1.)\n",
            "debconf: falling back to frontend: Readline\n",
            "debconf: unable to initialize frontend: Readline\n",
            "debconf: (This frontend requires a controlling tty.)\n",
            "debconf: falling back to frontend: Teletype\n",
            "dpkg-preconfigure: unable to re-open stdin: \n",
            "Selecting previously unselected package fonts-nanum.\n",
            "(Reading database ... 123991 files and directories currently installed.)\n",
            "Preparing to unpack .../fonts-nanum_20170925-1_all.deb ...\n",
            "Unpacking fonts-nanum (20170925-1) ...\n",
            "Setting up fonts-nanum (20170925-1) ...\n",
            "Processing triggers for fontconfig (2.12.6-0ubuntu2) ...\n",
            "/usr/share/fonts: caching, new cache contents: 0 fonts, 1 dirs\n",
            "/usr/share/fonts/truetype: caching, new cache contents: 0 fonts, 3 dirs\n",
            "/usr/share/fonts/truetype/humor-sans: caching, new cache contents: 1 fonts, 0 dirs\n",
            "/usr/share/fonts/truetype/liberation: caching, new cache contents: 16 fonts, 0 dirs\n",
            "/usr/share/fonts/truetype/nanum: caching, new cache contents: 10 fonts, 0 dirs\n",
            "/usr/local/share/fonts: caching, new cache contents: 0 fonts, 0 dirs\n",
            "/root/.local/share/fonts: skipping, no such directory\n",
            "/root/.fonts: skipping, no such directory\n",
            "/var/cache/fontconfig: cleaning cache directory\n",
            "/root/.cache/fontconfig: not cleaning non-existent cache directory\n",
            "/root/.fontconfig: not cleaning non-existent cache directory\n",
            "fc-cache: succeeded\n"
          ]
        }
      ]
    },
    {
      "cell_type": "code",
      "source": [
        "dataset = pd.read_csv('train.csv')"
      ],
      "metadata": {
        "id": "dH8VJfKqwnzA"
      },
      "execution_count": null,
      "outputs": []
    },
    {
      "cell_type": "code",
      "source": [
        "def preprocessing(df):\n",
        "    # 오류 단지코드가 존재하는 행들을  사전에 제거\n",
        "    df_error =  ['C1095', 'C2051', 'C1218', 'C1894', 'C2483', 'C1502', 'C1988']\n",
        "    #df_error =  ['C2335', 'C1327']\n",
        "    df = df[~df['단지코드'].isin(df_error)].reset_index(drop=True)\n",
        "    df.rename(columns = {'도보 10분거리 내 지하철역 수(환승노선 수 반영)':'지하철','도보 10분거리 내 버스정류장 수':'버스'},inplace=True)\n",
        "    df.drop(columns=['임대보증금','임대료','자격유형','임대건물구분'],axis = 1,inplace=True)\n",
        "    지역_비율 = (df.groupby(['지역'])['총세대수'].count())/(df.groupby(['지역'])['총세대수'].count().sum())*100\n",
        "    지역_비율=지역_비율.reset_index(name='지역_비율')\n",
        "    공급유형_비율 = (df.groupby(['공급유형'])['총세대수'].count())/(df.groupby(['공급유형'])['총세대수'].count().sum())*100\n",
        "    공급유형_비율=공급유형_비율.reset_index(name='공급유형_비율')\n",
        "    df = pd.merge(df,지역_비율, on='지역')\n",
        "    df = pd.merge(df,공급유형_비율, on='공급유형')\n",
        "    df.drop(columns=['지역','공급유형','단지코드'],axis = 1,inplace=True)\n",
        "    df=df.dropna(axis=0)\n",
        "    df = df[['총세대수', '전용면적', '전용면적별세대수', '공가수', '지하철', '버스', '단지내주차면수', '공급유형_비율',\n",
        "       '지역_비율', '등록차량수']]\n",
        "    return df"
      ],
      "metadata": {
        "id": "a7c8PknawrfG"
      },
      "execution_count": null,
      "outputs": []
    },
    {
      "cell_type": "code",
      "source": [
        "dataset = preprocessing(dataset)"
      ],
      "metadata": {
        "id": "-BDCzxeHws63"
      },
      "execution_count": null,
      "outputs": []
    },
    {
      "cell_type": "code",
      "source": [
        "import torch\n",
        "\n",
        "# import 1D convolutional layer\n",
        "from torch.nn import Conv1d\n",
        "\n",
        "# import max pooling layer\n",
        "from torch.nn import MaxPool1d\n",
        "\n",
        "# import the flatten layer \n",
        "from torch.nn import Flatten\n",
        "\n",
        "# import linear layer\n",
        "from torch.nn import Linear\n",
        "\n",
        "# import activation function (ReLU)\n",
        "from torch.nn.functional import relu\n",
        "\n",
        "# import libraries required for working with dataset from pytorch\n",
        "from torch.utils.data import DataLoader, TensorDataset"
      ],
      "metadata": {
        "id": "J_3F3IuBw0m3"
      },
      "execution_count": null,
      "outputs": []
    },
    {
      "cell_type": "code",
      "source": [
        "# defined model named as CnnRegressor and\n",
        "# this model should be the subclass of torch.nn.Module \n",
        "class CnnRegressor(torch.nn.Module):\n",
        "  # defined the initialization method\n",
        "  def __init__(self, batch_size, inputs, outputs):\n",
        "    # initialization of the superclass\n",
        "    super(CnnRegressor, self).__init__()\n",
        "    # store the parameters\n",
        "    self.batch_size = batch_size\n",
        "    self.inputs = inputs\n",
        "    self.outputs = outputs\n",
        "    # define the input layer\n",
        "    self.input_layer = Conv1d(inputs, batch_size, 1, stride = 1)\n",
        "   \n",
        "    # define max pooling layer\n",
        "    self.max_pooling_layer = MaxPool1d(1)\n",
        "\n",
        "    # define other convolutional layers\n",
        "    self.conv_layer1 = Conv1d(batch_size, 128, 1, stride = 3)\n",
        "    self.conv_layer2 = Conv1d(128, 256, 1, stride = 3)\n",
        "    self.conv_layer3 = Conv1d(256, 512, 1, stride = 3)\n",
        "\n",
        "    # define the flatten layer\n",
        "    self.flatten_layer = Flatten()\n",
        "\n",
        "    # define the linear layer\n",
        "    self.linear_layer = Linear(512, 128)\n",
        "\n",
        "    # define the output layer\n",
        "    self.output_layer = Linear(128, outputs)\n",
        "\n",
        "  # define the method to feed the inputs to the model\n",
        "  def feed(self, input):\n",
        "    # input is reshaped to the 1D array and fed into the input layer\n",
        "    input = input.reshape((self.batch_size, self.inputs, 1))\n",
        "\n",
        "    # ReLU is applied on the output of input layer\n",
        "    output = relu(self.input_layer(input))\n",
        "\n",
        "    # max pooling is applied and then Convolutions are done with ReLU\n",
        "    output = self.max_pooling_layer(output)\n",
        "    output = relu(self.conv_layer1(output))\n",
        "\n",
        "    output = self.max_pooling_layer(output)\n",
        "    output = relu(self.conv_layer2(output))\n",
        "\n",
        "    output = self.max_pooling_layer(output)\n",
        "    output = relu(self.conv_layer3(output))\n",
        "\n",
        "    # flatten layer is applied\n",
        "    output = self.flatten_layer(output)\n",
        "\n",
        "    # linear layer and ReLu is applied\n",
        "    output = relu(self.linear_layer(output))\n",
        "\n",
        "    # finally, output layer is applied\n",
        "    output = self.output_layer(output)\n",
        "    return output"
      ],
      "metadata": {
        "id": "OVyKwZg960ZB"
      },
      "execution_count": null,
      "outputs": []
    },
    {
      "cell_type": "code",
      "source": [
        "# import SGD for optimizer\n",
        "from torch.optim import SGD\n",
        "\n",
        "# import Adam for optimizer\n",
        "from torch.optim import Adam\n",
        "\n",
        "# to measure the performance import L1Loss\n",
        "from torch.nn import L1Loss\n",
        "\n",
        "# install pytorch's ignite and then import R2 score package\n",
        "!pip install pytorch-ignite\n",
        "from ignite.contrib.metrics.regression.r2_score import R2Score"
      ],
      "metadata": {
        "colab": {
          "base_uri": "https://localhost:8080/"
        },
        "id": "xlCrumrRxboK",
        "outputId": "967d3673-0bad-4140-f4d5-2233d5796e3c"
      },
      "execution_count": null,
      "outputs": [
        {
          "output_type": "stream",
          "name": "stdout",
          "text": [
            "Looking in indexes: https://pypi.org/simple, https://us-python.pkg.dev/colab-wheels/public/simple/\n",
            "Collecting pytorch-ignite\n",
            "  Downloading pytorch_ignite-0.4.10-py3-none-any.whl (264 kB)\n",
            "\u001b[K     |████████████████████████████████| 264 kB 15.2 MB/s \n",
            "\u001b[?25hRequirement already satisfied: torch<2,>=1.3 in /usr/local/lib/python3.7/dist-packages (from pytorch-ignite) (1.12.1+cu113)\n",
            "Requirement already satisfied: packaging in /usr/local/lib/python3.7/dist-packages (from pytorch-ignite) (21.3)\n",
            "Requirement already satisfied: typing-extensions in /usr/local/lib/python3.7/dist-packages (from torch<2,>=1.3->pytorch-ignite) (4.1.1)\n",
            "Requirement already satisfied: pyparsing!=3.0.5,>=2.0.2 in /usr/local/lib/python3.7/dist-packages (from packaging->pytorch-ignite) (3.0.9)\n",
            "Installing collected packages: pytorch-ignite\n",
            "Successfully installed pytorch-ignite-0.4.10\n"
          ]
        }
      ]
    },
    {
      "cell_type": "code",
      "source": [
        "X = dataset.iloc[:, 1:-1].to_numpy()\n",
        "y = dataset.iloc[:,-1].to_numpy()\n",
        "X_train, X_test, y_train, y_test = train_test_split(X, y, test_size=0.2, random_state=42)"
      ],
      "metadata": {
        "id": "Q28IN275xkcz"
      },
      "execution_count": null,
      "outputs": []
    },
    {
      "cell_type": "code",
      "source": [
        "# define the batch size  \n",
        "batch_size = 100\n",
        "model = CnnRegressor(batch_size, X.shape[1], 1)\n",
        "\n",
        "# we are using GPU so we have to set the model for that\n",
        "model.cuda()"
      ],
      "metadata": {
        "colab": {
          "base_uri": "https://localhost:8080/"
        },
        "id": "BRpX71Wvxc-I",
        "outputId": "30365f2a-c3cc-4c44-adcd-63e658aaf719"
      },
      "execution_count": null,
      "outputs": [
        {
          "output_type": "execute_result",
          "data": {
            "text/plain": [
              "CnnRegressor(\n",
              "  (input_layer): Conv1d(8, 100, kernel_size=(1,), stride=(1,))\n",
              "  (max_pooling_layer): MaxPool1d(kernel_size=1, stride=1, padding=0, dilation=1, ceil_mode=False)\n",
              "  (conv_layer1): Conv1d(100, 128, kernel_size=(1,), stride=(3,))\n",
              "  (conv_layer2): Conv1d(128, 256, kernel_size=(1,), stride=(3,))\n",
              "  (conv_layer3): Conv1d(256, 512, kernel_size=(1,), stride=(3,))\n",
              "  (flatten_layer): Flatten(start_dim=1, end_dim=-1)\n",
              "  (linear_layer): Linear(in_features=512, out_features=128, bias=True)\n",
              "  (output_layer): Linear(in_features=128, out_features=1, bias=True)\n",
              ")"
            ]
          },
          "metadata": {},
          "execution_count": 12
        }
      ]
    },
    {
      "cell_type": "code",
      "source": [
        "def model_loss(model, dataset, train = False, optimizer = None):\n",
        "  # first calculated for the batches and at the end get the average\n",
        "  performance = L1Loss()\n",
        "  score_metric = R2Score()\n",
        "\n",
        "  avg_loss = 0\n",
        "  avg_score = 0\n",
        "  count = 0\n",
        "\n",
        "  for input, output in iter(dataset):\n",
        "    # get predictions of the model for training set\n",
        "    predictions = model.feed(input)\n",
        "\n",
        "    # calculate loss of the model\n",
        "    loss = performance(predictions, output)\n",
        "\n",
        "    # compute the R2 score\n",
        "    score_metric.update([predictions, output])\n",
        "    score = score_metric.compute()\n",
        "\n",
        "    if(train):\n",
        "      # clear the errors\n",
        "      optimizer.zero_grad()\n",
        "\n",
        "      # compute the gradients for optimizer\n",
        "      loss.backward()\n",
        "\n",
        "      # use optimizer in order to update parameters\n",
        "      # of the model based on gradients\n",
        "      optimizer.step()\n",
        "\n",
        "    # store the loss and update values\n",
        "    avg_loss += loss.item()\n",
        "    avg_score += score\n",
        "    count += 1\n",
        "\n",
        "  return avg_loss/count, avg_score/count"
      ],
      "metadata": {
        "id": "xETYhux-xftz"
      },
      "execution_count": null,
      "outputs": []
    },
    {
      "cell_type": "code",
      "source": [
        "# define the number of epochs\n",
        "epochs = 100\n",
        "\n",
        "# define the performance measure and optimizer\n",
        "# optimizer = SGD( model.parameters(), lr= 1e-5)\n",
        "optimizer = Adam(model.parameters())\n",
        "scheduler = optim.lr_scheduler.CosineAnnealingLR(optimizer, T_max=100, eta_min=0)\n",
        "\n",
        "# to process with GPU, training set is converted into torch variable\n",
        "inputs = torch.from_numpy(X_train).cuda().float()\n",
        "outputs = torch.from_numpy(y_train.reshape(y_train.shape[0],1)).cuda().float()\n",
        "\n",
        "# create the DataLoader instance to work with batches\n",
        "tensor = TensorDataset(inputs, outputs)\n",
        "loader = DataLoader(tensor, batch_size, shuffle = True, drop_last = True)\n",
        "\n",
        "\n",
        "loss_list = []\n",
        "r2_list = []\n",
        "\n",
        "# loop for number of epochs and calculate average loss\n",
        "for epoch in range(epochs):\n",
        "   # model is cycled through the batches\n",
        "  avg_loss, avg_r2_score = model_loss(model, loader, train = True, optimizer = optimizer)\n",
        "  print(\"Epoch \" + str(epoch + 1) + \":\\n\\tLoss = \" + str(avg_loss) + \"\\n\\tR^2 Score = \" + str(avg_r2_score))\n",
        "  loss_list.append(avg_loss)\n",
        "  r2_list.append(avg_r2_score)"
      ],
      "metadata": {
        "colab": {
          "base_uri": "https://localhost:8080/"
        },
        "id": "kPuUD12ax3BM",
        "outputId": "d2867843-4781-421c-a1c3-dbdda22b0ce0"
      },
      "execution_count": null,
      "outputs": [
        {
          "output_type": "stream",
          "name": "stdout",
          "text": [
            "Epoch 1:\n",
            "\tLoss = 307.7783442905971\n",
            "\tR^2 Score = -0.873643850183939\n",
            "Epoch 2:\n",
            "\tLoss = 162.72005716959634\n",
            "\tR^2 Score = 0.6852317894930684\n",
            "Epoch 3:\n",
            "\tLoss = 154.07449849446616\n",
            "\tR^2 Score = 0.7342859257079265\n",
            "Epoch 4:\n",
            "\tLoss = 158.98826599121094\n",
            "\tR^2 Score = 0.7066293859181363\n",
            "Epoch 5:\n",
            "\tLoss = 154.44920276460192\n",
            "\tR^2 Score = 0.7198930632036148\n",
            "Epoch 6:\n",
            "\tLoss = 148.36241258893693\n",
            "\tR^2 Score = 0.7467256017061449\n",
            "Epoch 7:\n",
            "\tLoss = 148.47577122279577\n",
            "\tR^2 Score = 0.7242790967190488\n",
            "Epoch 8:\n",
            "\tLoss = 145.08572750999815\n",
            "\tR^2 Score = 0.7394290472638299\n",
            "Epoch 9:\n",
            "\tLoss = 144.7211198352632\n",
            "\tR^2 Score = 0.7563495469344853\n",
            "Epoch 10:\n",
            "\tLoss = 138.82718767438615\n",
            "\tR^2 Score = 0.7622950399164916\n",
            "Epoch 11:\n",
            "\tLoss = 138.62760307675316\n",
            "\tR^2 Score = 0.7640662240838535\n",
            "Epoch 12:\n",
            "\tLoss = 141.26862189883278\n",
            "\tR^2 Score = 0.7428539519691472\n",
            "Epoch 13:\n",
            "\tLoss = 135.0912849789574\n",
            "\tR^2 Score = 0.7696425065371654\n",
            "Epoch 14:\n",
            "\tLoss = 143.59986950102308\n",
            "\tR^2 Score = 0.7433343553379433\n",
            "Epoch 15:\n",
            "\tLoss = 142.55948529924666\n",
            "\tR^2 Score = 0.7577091861954732\n",
            "Epoch 16:\n",
            "\tLoss = 133.10254233224052\n",
            "\tR^2 Score = 0.7795858730267466\n",
            "Epoch 17:\n",
            "\tLoss = 131.10929071335565\n",
            "\tR^2 Score = 0.7967227986274313\n",
            "Epoch 18:\n",
            "\tLoss = 134.4086430867513\n",
            "\tR^2 Score = 0.7803529094604824\n",
            "Epoch 19:\n",
            "\tLoss = 132.96578834170387\n",
            "\tR^2 Score = 0.7557166159554065\n",
            "Epoch 20:\n",
            "\tLoss = 133.522218250093\n",
            "\tR^2 Score = 0.7646456549287812\n",
            "Epoch 21:\n",
            "\tLoss = 129.86177971249535\n",
            "\tR^2 Score = 0.7897680374711878\n",
            "Epoch 22:\n",
            "\tLoss = 128.52552141462053\n",
            "\tR^2 Score = 0.7789936926930892\n",
            "Epoch 23:\n",
            "\tLoss = 131.3755831037249\n",
            "\tR^2 Score = 0.7887681158509242\n",
            "Epoch 24:\n",
            "\tLoss = 127.63061559767951\n",
            "\tR^2 Score = 0.7979140190855386\n",
            "Epoch 25:\n",
            "\tLoss = 128.40984853108725\n",
            "\tR^2 Score = 0.7843558709908175\n",
            "Epoch 26:\n",
            "\tLoss = 129.73600042433966\n",
            "\tR^2 Score = 0.7895132087612259\n",
            "Epoch 27:\n",
            "\tLoss = 132.65804908389137\n",
            "\tR^2 Score = 0.7919897737776379\n",
            "Epoch 28:\n",
            "\tLoss = 127.07603091285343\n",
            "\tR^2 Score = 0.8039504257344552\n",
            "Epoch 29:\n",
            "\tLoss = 130.25408172607422\n",
            "\tR^2 Score = 0.7670043075148221\n",
            "Epoch 30:\n",
            "\tLoss = 124.88787769135975\n",
            "\tR^2 Score = 0.7975673255690403\n",
            "Epoch 31:\n",
            "\tLoss = 125.13227916899181\n",
            "\tR^2 Score = 0.793965443617016\n",
            "Epoch 32:\n",
            "\tLoss = 128.04576038178942\n",
            "\tR^2 Score = 0.7915966376231703\n",
            "Epoch 33:\n",
            "\tLoss = 124.22119903564453\n",
            "\tR^2 Score = 0.8001341555322871\n",
            "Epoch 34:\n",
            "\tLoss = 123.87733386811756\n",
            "\tR^2 Score = 0.8155441106822152\n",
            "Epoch 35:\n",
            "\tLoss = 125.41304452078683\n",
            "\tR^2 Score = 0.7843396354138074\n",
            "Epoch 36:\n",
            "\tLoss = 122.58524540492466\n",
            "\tR^2 Score = 0.8044986264332076\n",
            "Epoch 37:\n",
            "\tLoss = 127.41610281808036\n",
            "\tR^2 Score = 0.8002826636372036\n",
            "Epoch 38:\n",
            "\tLoss = 128.12820834205263\n",
            "\tR^2 Score = 0.7681927622597325\n",
            "Epoch 39:\n",
            "\tLoss = 121.83914184570312\n",
            "\tR^2 Score = 0.808720399856484\n",
            "Epoch 40:\n",
            "\tLoss = 124.36676279703777\n",
            "\tR^2 Score = 0.820674787574093\n",
            "Epoch 41:\n",
            "\tLoss = 123.54632205054874\n",
            "\tR^2 Score = 0.8107734665913314\n",
            "Epoch 42:\n",
            "\tLoss = 132.97989073253814\n",
            "\tR^2 Score = 0.7952276411937982\n",
            "Epoch 43:\n",
            "\tLoss = 127.45744977678571\n",
            "\tR^2 Score = 0.7746741923835968\n",
            "Epoch 44:\n",
            "\tLoss = 122.12353006998698\n",
            "\tR^2 Score = 0.8034737703115262\n",
            "Epoch 45:\n",
            "\tLoss = 120.2666244506836\n",
            "\tR^2 Score = 0.8183454660557056\n",
            "Epoch 46:\n",
            "\tLoss = 129.1746346609933\n",
            "\tR^2 Score = 0.7928655890983729\n",
            "Epoch 47:\n",
            "\tLoss = 124.89343225388299\n",
            "\tR^2 Score = 0.7999430185619361\n",
            "Epoch 48:\n",
            "\tLoss = 119.42814272925968\n",
            "\tR^2 Score = 0.8031402753528086\n",
            "Epoch 49:\n",
            "\tLoss = 120.75611114501953\n",
            "\tR^2 Score = 0.8124708085509903\n",
            "Epoch 50:\n",
            "\tLoss = 118.9690457298642\n",
            "\tR^2 Score = 0.8185299535943303\n",
            "Epoch 51:\n",
            "\tLoss = 123.89384605771019\n",
            "\tR^2 Score = 0.8053705241378016\n",
            "Epoch 52:\n",
            "\tLoss = 122.97865222749256\n",
            "\tR^2 Score = 0.7831987377086613\n",
            "Epoch 53:\n",
            "\tLoss = 122.10053471156529\n",
            "\tR^2 Score = 0.8145386173773588\n",
            "Epoch 54:\n",
            "\tLoss = 118.5583724975586\n",
            "\tR^2 Score = 0.8206801511436155\n",
            "Epoch 55:\n",
            "\tLoss = 120.81416611444382\n",
            "\tR^2 Score = 0.8126873425179006\n",
            "Epoch 56:\n",
            "\tLoss = 118.89666094098773\n",
            "\tR^2 Score = 0.8135725712373685\n",
            "Epoch 57:\n",
            "\tLoss = 119.14306313650948\n",
            "\tR^2 Score = 0.8217733081708704\n",
            "Epoch 58:\n",
            "\tLoss = 120.21477581205822\n",
            "\tR^2 Score = 0.8060983738262525\n",
            "Epoch 59:\n",
            "\tLoss = 120.22686476934524\n",
            "\tR^2 Score = 0.803645888021907\n",
            "Epoch 60:\n",
            "\tLoss = 123.32249269031342\n",
            "\tR^2 Score = 0.8145643750507706\n",
            "Epoch 61:\n",
            "\tLoss = 118.49754587809245\n",
            "\tR^2 Score = 0.8161306595271972\n",
            "Epoch 62:\n",
            "\tLoss = 116.24108014787946\n",
            "\tR^2 Score = 0.8156111096996174\n",
            "Epoch 63:\n",
            "\tLoss = 115.99059804280598\n",
            "\tR^2 Score = 0.830924769218736\n",
            "Epoch 64:\n",
            "\tLoss = 122.0958484468006\n",
            "\tR^2 Score = 0.8129705929565956\n",
            "Epoch 65:\n",
            "\tLoss = 129.43315233503068\n",
            "\tR^2 Score = 0.7952762836376293\n",
            "Epoch 66:\n",
            "\tLoss = 118.94266292027065\n",
            "\tR^2 Score = 0.8021495554151291\n",
            "Epoch 67:\n",
            "\tLoss = 115.22813015892392\n",
            "\tR^2 Score = 0.8263555886459907\n",
            "Epoch 68:\n",
            "\tLoss = 120.72965821765717\n",
            "\tR^2 Score = 0.7908389117372623\n",
            "Epoch 69:\n",
            "\tLoss = 117.23838769821893\n",
            "\tR^2 Score = 0.8043558442129447\n",
            "Epoch 70:\n",
            "\tLoss = 116.26116289411273\n",
            "\tR^2 Score = 0.8258805662948356\n",
            "Epoch 71:\n",
            "\tLoss = 114.28439549037388\n",
            "\tR^2 Score = 0.8275482587208661\n",
            "Epoch 72:\n",
            "\tLoss = 120.29088156563895\n",
            "\tR^2 Score = 0.8083429028536632\n",
            "Epoch 73:\n",
            "\tLoss = 120.68031747000558\n",
            "\tR^2 Score = 0.813150842280352\n",
            "Epoch 74:\n",
            "\tLoss = 124.83377402169364\n",
            "\tR^2 Score = 0.7724457530866463\n",
            "Epoch 75:\n",
            "\tLoss = 120.40570540655227\n",
            "\tR^2 Score = 0.8285572186578856\n",
            "Epoch 76:\n",
            "\tLoss = 122.3385750906808\n",
            "\tR^2 Score = 0.8179151064739769\n",
            "Epoch 77:\n",
            "\tLoss = 117.45941852387928\n",
            "\tR^2 Score = 0.8179510847983555\n",
            "Epoch 78:\n",
            "\tLoss = 117.95288739885602\n",
            "\tR^2 Score = 0.8089940702413059\n",
            "Epoch 79:\n",
            "\tLoss = 116.9734373546782\n",
            "\tR^2 Score = 0.8075280000066282\n",
            "Epoch 80:\n",
            "\tLoss = 114.14782097226097\n",
            "\tR^2 Score = 0.829934592096758\n",
            "Epoch 81:\n",
            "\tLoss = 115.01163083031064\n",
            "\tR^2 Score = 0.8200303224304029\n",
            "Epoch 82:\n",
            "\tLoss = 113.24883633568173\n",
            "\tR^2 Score = 0.819494286805524\n",
            "Epoch 83:\n",
            "\tLoss = 114.3920429774693\n",
            "\tR^2 Score = 0.8287459759106965\n",
            "Epoch 84:\n",
            "\tLoss = 115.87862541562035\n",
            "\tR^2 Score = 0.8112150755457115\n",
            "Epoch 85:\n",
            "\tLoss = 116.20960126604352\n",
            "\tR^2 Score = 0.8196018614699087\n",
            "Epoch 86:\n",
            "\tLoss = 114.57823762439546\n",
            "\tR^2 Score = 0.837817112504211\n",
            "Epoch 87:\n",
            "\tLoss = 112.65872228713263\n",
            "\tR^2 Score = 0.841362673286134\n",
            "Epoch 88:\n",
            "\tLoss = 117.0678216843378\n",
            "\tR^2 Score = 0.815810029897271\n",
            "Epoch 89:\n",
            "\tLoss = 115.53142910911923\n",
            "\tR^2 Score = 0.8373240844314132\n",
            "Epoch 90:\n",
            "\tLoss = 114.13777305966332\n",
            "\tR^2 Score = 0.8347976374521833\n",
            "Epoch 91:\n",
            "\tLoss = 117.00997161865234\n",
            "\tR^2 Score = 0.8109125404926548\n",
            "Epoch 92:\n",
            "\tLoss = 112.44676281156994\n",
            "\tR^2 Score = 0.8271656596210318\n",
            "Epoch 93:\n",
            "\tLoss = 115.85258556547619\n",
            "\tR^2 Score = 0.8247482018040642\n",
            "Epoch 94:\n",
            "\tLoss = 125.26140594482422\n",
            "\tR^2 Score = 0.798279780217567\n",
            "Epoch 95:\n",
            "\tLoss = 118.47490801130023\n",
            "\tR^2 Score = 0.787210866648984\n",
            "Epoch 96:\n",
            "\tLoss = 113.0530991327195\n",
            "\tR^2 Score = 0.8441338768553398\n",
            "Epoch 97:\n",
            "\tLoss = 120.61258079892113\n",
            "\tR^2 Score = 0.8056676394492839\n",
            "Epoch 98:\n",
            "\tLoss = 117.2837894984654\n",
            "\tR^2 Score = 0.8157426313919833\n",
            "Epoch 99:\n",
            "\tLoss = 115.59634217761811\n",
            "\tR^2 Score = 0.8277160639813355\n",
            "Epoch 100:\n",
            "\tLoss = 112.02821568080357\n",
            "\tR^2 Score = 0.8377608581541816\n"
          ]
        }
      ]
    },
    {
      "cell_type": "code",
      "source": [
        "torch.save(model.state_dict(),'conv_reg.h')"
      ],
      "metadata": {
        "id": "rmC948zux6FC"
      },
      "execution_count": null,
      "outputs": []
    },
    {
      "cell_type": "code",
      "source": [
        "# to process with GPU, testing set is converted into torch variable\n",
        "inputs = torch.from_numpy(X_test).cuda().float()\n",
        "outputs = torch.from_numpy(y_test.reshape(y_test.shape[0],1)).cuda().float()\n",
        "\n",
        "# create the DataLoader instance to work with batches\n",
        "tensor = TensorDataset(inputs, outputs)\n",
        "loader = DataLoader(tensor, batch_size, shuffle = True, drop_last = True)\n",
        "\n",
        "# output of the performance of the model\n",
        "avg_loss, avg_r2_score = model_loss(model, loader)\n",
        "print(\"The model's L1 loss is: \" + str(avg_loss))\n",
        "print(\"The model's R^2 score is: \" + str(avg_r2_score))"
      ],
      "metadata": {
        "colab": {
          "base_uri": "https://localhost:8080/"
        },
        "id": "3sGmaODwyRX7",
        "outputId": "8e5d6c46-24aa-417f-ff58-fad08e67aca1"
      },
      "execution_count": null,
      "outputs": [
        {
          "output_type": "stream",
          "name": "stdout",
          "text": [
            "The model's L1 loss is: 117.19342498779297\n",
            "The model's R^2 score is: 0.8275336437131301\n"
          ]
        }
      ]
    },
    {
      "cell_type": "code",
      "source": [
        "plt.figure(figsize=(10,5))\n",
        "plt.subplot(1,2,1)\n",
        "plt.xlabel('Epoch')\n",
        "plt.ylabel('Loss')\n",
        "plt.plot(np.arange(1,101),loss_list)\n",
        "plt.subplot(1,2,2)\n",
        "plt.xlabel('Epoch')\n",
        "plt.ylabel('R2')\n",
        "plt.plot(np.arange(1,101), r2_list)\n",
        "plt.show()"
      ],
      "metadata": {
        "colab": {
          "base_uri": "https://localhost:8080/",
          "height": 334
        },
        "id": "Nf3w9_-Rycpt",
        "outputId": "9fb9546f-422d-4f49-c28b-6049802e9106"
      },
      "execution_count": null,
      "outputs": [
        {
          "output_type": "display_data",
          "data": {
            "text/plain": [
              "<Figure size 720x360 with 2 Axes>"
            ],
            "image/png": "[encoded data removed]"
          },
          "metadata": {
            "needs_background": "light"
          }
        }
      ]
    },
    {
      "cell_type": "code",
      "source": [
        "import os"
      ],
      "metadata": {
        "id": "uUlS636NtpJH"
      },
      "execution_count": null,
      "outputs": []
    },
    {
      "cell_type": "code",
      "source": [
        "print(os.getcwd())"
      ],
      "metadata": {
        "colab": {
          "base_uri": "https://localhost:8080/"
        },
        "id": "ndJT1G0It1QU",
        "outputId": "63ab4d0e-f2b2-41df-bff7-ce307ea01e56"
      },
      "execution_count": null,
      "outputs": [
        {
          "output_type": "stream",
          "name": "stdout",
          "text": [
            "/content/drive/MyDrive/PD_ML/project2\n"
          ]
        }
      ]
    },
    {
      "cell_type": "code",
      "source": [
        "PATH = '/content/drive/MyDrive/PD_ML/project2'\n",
        "torch.save(model.state_dict(), PATH+ 'cnn_regression_state_dict.pt')"
      ],
      "metadata": {
        "id": "zePYg9b8sxZz"
      },
      "execution_count": null,
      "outputs": []
    },
    {
      "cell_type": "code",
      "source": [
        "model = torch.load(PATH + 'cnn_regression_state_dict.pt')"
      ],
      "metadata": {
        "id": "dRD8_mk6w9_o"
      },
      "execution_count": null,
      "outputs": []
    }
  ]
}