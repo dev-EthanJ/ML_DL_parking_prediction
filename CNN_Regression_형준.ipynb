{
  "nbformat": 4,
  "nbformat_minor": 0,
  "metadata": {
    "colab": {
      "provenance": []
    },
    "kernelspec": {
      "name": "python3",
      "display_name": "Python 3"
    },
    "language_info": {
      "name": "python"
    },
    "accelerator": "GPU",
    "gpuClass": "standard"
  },
  "cells": [
    {
      "cell_type": "code",
      "execution_count": 129,
      "metadata": {
        "colab": {
          "base_uri": "https://localhost:8080/"
        },
        "id": "XHpzw-m6wc_s",
        "outputId": "efbc12c4-8db2-48f4-a0a9-59a2bb87102c"
      },
      "outputs": [
        {
          "output_type": "stream",
          "name": "stdout",
          "text": [
            "Drive already mounted at /content/drive/; to attempt to forcibly remount, call drive.mount(\"/content/drive/\", force_remount=True).\n"
          ]
        }
      ],
      "source": [
        "from google.colab import drive\n",
        "drive.mount('/content/drive/')"
      ]
    },
    {
      "cell_type": "code",
      "source": [
        "%cd /content/drive/MyDrive/PD_ML/project2"
      ],
      "metadata": {
        "colab": {
          "base_uri": "https://localhost:8080/"
        },
        "id": "c8W4d-vrwd0s",
        "outputId": "adab4937-e1db-4c0c-8f47-95e2ae26f4af"
      },
      "execution_count": 130,
      "outputs": [
        {
          "output_type": "stream",
          "name": "stdout",
          "text": [
            "/content/drive/MyDrive/PD_ML/project2\n"
          ]
        }
      ]
    },
    {
      "cell_type": "code",
      "source": [
        "import pandas as pd\n",
        "import numpy as np\n",
        "import matplotlib.pyplot as plt\n",
        "\n",
        "# 글꼴깨짐 방지\n",
        "import matplotlib\n",
        "import matplotlib.font_manager as fm\n",
        "\n",
        "import warnings\n",
        "\n",
        "# 경고 메시지를 무시하고 숨기거나\n",
        "warnings.filterwarnings(action='ignore')\n",
        "\n",
        "from sklearn.model_selection import train_test_split\n",
        "\n",
        "import torch\n",
        "import torch.optim as optim"
      ],
      "metadata": {
        "id": "VLqbP8PRwgPj"
      },
      "execution_count": 131,
      "outputs": []
    },
    {
      "cell_type": "code",
      "source": [
        "!sudo apt-get install -y fonts-nanum\n",
        "!sudo fc-cache -fv\n",
        "!rm ~/.cache/matplotlib -rf"
      ],
      "metadata": {
        "colab": {
          "base_uri": "https://localhost:8080/"
        },
        "id": "r22-_Vzlw68x",
        "outputId": "175cee38-ca27-4409-e0aa-f8d07947799b"
      },
      "execution_count": 132,
      "outputs": [
        {
          "output_type": "stream",
          "name": "stdout",
          "text": [
            "Reading package lists... Done\n",
            "Building dependency tree       \n",
            "Reading state information... Done\n",
            "fonts-nanum is already the newest version (20170925-1).\n",
            "The following package was automatically installed and is no longer required:\n",
            "  libnvidia-common-460\n",
            "Use 'sudo apt autoremove' to remove it.\n",
            "0 upgraded, 0 newly installed, 0 to remove and 5 not upgraded.\n",
            "/usr/share/fonts: caching, new cache contents: 0 fonts, 1 dirs\n",
            "/usr/share/fonts/truetype: caching, new cache contents: 0 fonts, 3 dirs\n",
            "/usr/share/fonts/truetype/humor-sans: caching, new cache contents: 1 fonts, 0 dirs\n",
            "/usr/share/fonts/truetype/liberation: caching, new cache contents: 16 fonts, 0 dirs\n",
            "/usr/share/fonts/truetype/nanum: caching, new cache contents: 10 fonts, 0 dirs\n",
            "/usr/local/share/fonts: caching, new cache contents: 0 fonts, 0 dirs\n",
            "/root/.local/share/fonts: skipping, no such directory\n",
            "/root/.fonts: skipping, no such directory\n",
            "/var/cache/fontconfig: cleaning cache directory\n",
            "/root/.cache/fontconfig: not cleaning non-existent cache directory\n",
            "/root/.fontconfig: not cleaning non-existent cache directory\n",
            "fc-cache: succeeded\n"
          ]
        }
      ]
    },
    {
      "cell_type": "code",
      "source": [
        "dataset = pd.read_csv('train.csv')"
      ],
      "metadata": {
        "id": "dH8VJfKqwnzA"
      },
      "execution_count": 133,
      "outputs": []
    },
    {
      "cell_type": "code",
      "source": [
        "def preprocessing(df):\n",
        "    # 오류 단지코드가 존재하는 행들을  사전에 제거\n",
        "    df_error =  ['C1095', 'C2051', 'C1218', 'C1894', 'C2483', 'C1502', 'C1988']\n",
        "    #df_error =  ['C2335', 'C1327']\n",
        "    df = df[~df['단지코드'].isin(df_error)].reset_index(drop=True)\n",
        "    df.rename(columns = {'도보 10분거리 내 지하철역 수(환승노선 수 반영)':'지하철','도보 10분거리 내 버스정류장 수':'버스'},inplace=True)\n",
        "    df.drop(columns=['임대보증금','임대료','자격유형','임대건물구분'],axis = 1,inplace=True)\n",
        "    지역_비율 = (df.groupby(['지역'])['총세대수'].count())/(df.groupby(['지역'])['총세대수'].count().sum())*100\n",
        "    지역_비율=지역_비율.reset_index(name='지역_비율')\n",
        "    공급유형_비율 = (df.groupby(['공급유형'])['총세대수'].count())/(df.groupby(['공급유형'])['총세대수'].count().sum())*100\n",
        "    공급유형_비율=공급유형_비율.reset_index(name='공급유형_비율')\n",
        "    df = pd.merge(df,지역_비율, on='지역')\n",
        "    df = pd.merge(df,공급유형_비율, on='공급유형')\n",
        "    df.drop(columns=['지역','공급유형','단지코드'],axis = 1,inplace=True)\n",
        "    df=df.dropna(axis=0)\n",
        "    df = df[['총세대수', '전용면적', '전용면적별세대수', '공가수', '지하철', '버스', '단지내주차면수', '공급유형_비율',\n",
        "       '지역_비율', '등록차량수']]\n",
        "    return df"
      ],
      "metadata": {
        "id": "a7c8PknawrfG"
      },
      "execution_count": 134,
      "outputs": []
    },
    {
      "cell_type": "code",
      "source": [
        "dataset = preprocessing(dataset)"
      ],
      "metadata": {
        "id": "-BDCzxeHws63"
      },
      "execution_count": 135,
      "outputs": []
    },
    {
      "cell_type": "code",
      "source": [
        "import torch\n",
        "\n",
        "# import 1D convolutional layer\n",
        "from torch.nn import Conv1d\n",
        "\n",
        "# import max pooling layer\n",
        "from torch.nn import MaxPool1d\n",
        "\n",
        "# import the flatten layer \n",
        "from torch.nn import Flatten\n",
        "\n",
        "# import linear layer\n",
        "from torch.nn import Linear\n",
        "\n",
        "# import activation function (ReLU)\n",
        "from torch.nn.functional import relu\n",
        "\n",
        "# import libraries required for working with dataset from pytorch\n",
        "from torch.utils.data import DataLoader, TensorDataset"
      ],
      "metadata": {
        "id": "J_3F3IuBw0m3"
      },
      "execution_count": 136,
      "outputs": []
    },
    {
      "cell_type": "code",
      "source": [
        "# defined model named as CnnRegressor and\n",
        "# this model should be the subclass of torch.nn.Module \n",
        "class CnnRegressor(torch.nn.Module):\n",
        "  # defined the initialization method\n",
        "  def __init__(self, batch_size, inputs, outputs):\n",
        "    # initialization of the superclass\n",
        "    super(CnnRegressor, self).__init__()\n",
        "    # store the parameters\n",
        "    self.batch_size = batch_size\n",
        "    self.inputs = inputs\n",
        "    self.outputs = outputs\n",
        "    # define the input layer\n",
        "    self.input_layer = Conv1d(inputs, batch_size, 1, stride = 1)\n",
        "   \n",
        "    # define max pooling layer\n",
        "    self.max_pooling_layer = MaxPool1d(1)\n",
        "\n",
        "    # define other convolutional layers\n",
        "    self.conv_layer1 = Conv1d(batch_size, 128, 1, stride = 3)\n",
        "    self.conv_layer2 = Conv1d(128, 256, 1, stride = 3)\n",
        "    self.conv_layer3 = Conv1d(256, 512, 1, stride = 3)\n",
        "\n",
        "    # define the flatten layer\n",
        "    self.flatten_layer = Flatten()\n",
        "\n",
        "    # define the linear layer\n",
        "    self.linear_layer = Linear(512, 128)\n",
        "\n",
        "    # define the output layer\n",
        "    self.output_layer = Linear(128, outputs)\n",
        "\n",
        "  # define the method to feed the inputs to the model\n",
        "  def feed(self, input):\n",
        "    # input is reshaped to the 1D array and fed into the input layer\n",
        "    input = input.reshape((self.batch_size, self.inputs, 1))\n",
        "\n",
        "    # ReLU is applied on the output of input layer\n",
        "    output = relu(self.input_layer(input))\n",
        "\n",
        "    # max pooling is applied and then Convolutions are done with ReLU\n",
        "    output = self.max_pooling_layer(output)\n",
        "    output = relu(self.conv_layer1(output))\n",
        "\n",
        "    output = self.max_pooling_layer(output)\n",
        "    output = relu(self.conv_layer2(output))\n",
        "\n",
        "    output = self.max_pooling_layer(output)\n",
        "    output = relu(self.conv_layer3(output))\n",
        "\n",
        "    # flatten layer is applied\n",
        "    output = self.flatten_layer(output)\n",
        "\n",
        "    # linear layer and ReLu is applied\n",
        "    output = relu(self.linear_layer(output))\n",
        "\n",
        "    # finally, output layer is applied\n",
        "    output = self.output_layer(output)\n",
        "    return output"
      ],
      "metadata": {
        "id": "OVyKwZg960ZB"
      },
      "execution_count": 137,
      "outputs": []
    },
    {
      "cell_type": "code",
      "source": [
        "# import SGD for optimizer\n",
        "from torch.optim import SGD\n",
        "\n",
        "# import Adam for optimizer\n",
        "from torch.optim import Adam\n",
        "\n",
        "# to measure the performance import L1Loss\n",
        "from torch.nn import L1Loss\n",
        "\n",
        "# install pytorch's ignite and then import R2 score package\n",
        "!pip install pytorch-ignite\n",
        "from ignite.contrib.metrics.regression.r2_score import R2Score"
      ],
      "metadata": {
        "colab": {
          "base_uri": "https://localhost:8080/"
        },
        "id": "xlCrumrRxboK",
        "outputId": "ce935d58-9cd5-4c9e-9513-5e5a7f749644"
      },
      "execution_count": 138,
      "outputs": [
        {
          "output_type": "stream",
          "name": "stdout",
          "text": [
            "Looking in indexes: https://pypi.org/simple, https://us-python.pkg.dev/colab-wheels/public/simple/\n",
            "Requirement already satisfied: pytorch-ignite in /usr/local/lib/python3.7/dist-packages (0.4.10)\n",
            "Requirement already satisfied: packaging in /usr/local/lib/python3.7/dist-packages (from pytorch-ignite) (21.3)\n",
            "Requirement already satisfied: torch<2,>=1.3 in /usr/local/lib/python3.7/dist-packages (from pytorch-ignite) (1.12.1+cu113)\n",
            "Requirement already satisfied: typing-extensions in /usr/local/lib/python3.7/dist-packages (from torch<2,>=1.3->pytorch-ignite) (4.1.1)\n",
            "Requirement already satisfied: pyparsing!=3.0.5,>=2.0.2 in /usr/local/lib/python3.7/dist-packages (from packaging->pytorch-ignite) (3.0.9)\n"
          ]
        }
      ]
    },
    {
      "cell_type": "code",
      "source": [
        "X = dataset.iloc[:, 1:-1].to_numpy()\n",
        "y = dataset.iloc[:,-1].to_numpy()\n",
        "X_train, X_test, y_train, y_test = train_test_split(X, y, test_size=0.2, random_state=42)"
      ],
      "metadata": {
        "id": "Q28IN275xkcz"
      },
      "execution_count": 139,
      "outputs": []
    },
    {
      "cell_type": "code",
      "source": [
        "# define the batch size  \n",
        "batch_size = 100\n",
        "model = CnnRegressor(batch_size, X.shape[1], 1)\n",
        "\n",
        "# we are using GPU so we have to set the model for that\n",
        "model.cuda()"
      ],
      "metadata": {
        "colab": {
          "base_uri": "https://localhost:8080/"
        },
        "id": "BRpX71Wvxc-I",
        "outputId": "6bc481a6-100c-4f03-adae-166ef70b4532"
      },
      "execution_count": 140,
      "outputs": [
        {
          "output_type": "execute_result",
          "data": {
            "text/plain": [
              "CnnRegressor(\n",
              "  (input_layer): Conv1d(8, 100, kernel_size=(1,), stride=(1,))\n",
              "  (max_pooling_layer): MaxPool1d(kernel_size=1, stride=1, padding=0, dilation=1, ceil_mode=False)\n",
              "  (conv_layer1): Conv1d(100, 128, kernel_size=(1,), stride=(3,))\n",
              "  (conv_layer2): Conv1d(128, 256, kernel_size=(1,), stride=(3,))\n",
              "  (conv_layer3): Conv1d(256, 512, kernel_size=(1,), stride=(3,))\n",
              "  (flatten_layer): Flatten(start_dim=1, end_dim=-1)\n",
              "  (linear_layer): Linear(in_features=512, out_features=128, bias=True)\n",
              "  (output_layer): Linear(in_features=128, out_features=1, bias=True)\n",
              ")"
            ]
          },
          "metadata": {},
          "execution_count": 140
        }
      ]
    },
    {
      "cell_type": "code",
      "source": [
        "def model_loss(model, dataset, train = False, optimizer = None):\n",
        "  # first calculated for the batches and at the end get the average\n",
        "  performance = L1Loss()\n",
        "  score_metric = R2Score()\n",
        "\n",
        "  avg_loss = 0\n",
        "  avg_score = 0\n",
        "  count = 0\n",
        "\n",
        "  for input, output in iter(dataset):\n",
        "    # get predictions of the model for training set\n",
        "    predictions = model.feed(input)\n",
        "\n",
        "    # calculate loss of the model\n",
        "    loss = performance(predictions, output)\n",
        "\n",
        "    # compute the R2 score\n",
        "    score_metric.update([predictions, output])\n",
        "    score = score_metric.compute()\n",
        "\n",
        "    if(train):\n",
        "      # clear the errors\n",
        "      optimizer.zero_grad()\n",
        "\n",
        "      # compute the gradients for optimizer\n",
        "      loss.backward()\n",
        "\n",
        "      # use optimizer in order to update parameters\n",
        "      # of the model based on gradients\n",
        "      optimizer.step()\n",
        "\n",
        "    # store the loss and update values\n",
        "    avg_loss += loss.item()\n",
        "    avg_score += score\n",
        "    count += 1\n",
        "\n",
        "  return avg_loss/count, avg_score/count"
      ],
      "metadata": {
        "id": "xETYhux-xftz"
      },
      "execution_count": 141,
      "outputs": []
    },
    {
      "cell_type": "code",
      "source": [
        "# define the number of epochs\n",
        "epochs = 100\n",
        "\n",
        "# define the performance measure and optimizer\n",
        "# optimizer = SGD( model.parameters(), lr= 1e-5)\n",
        "optimizer = Adam(model.parameters())\n",
        "scheduler = optim.lr_scheduler.CosineAnnealingLR(optimizer, T_max=100, eta_min=0)\n",
        "\n",
        "# to process with GPU, training set is converted into torch variable\n",
        "inputs = torch.from_numpy(X_train).cuda().float()\n",
        "outputs = torch.from_numpy(y_train.reshape(y_train.shape[0],1)).cuda().float()\n",
        "\n",
        "# create the DataLoader instance to work with batches\n",
        "tensor = TensorDataset(inputs, outputs)\n",
        "loader = DataLoader(tensor, batch_size, shuffle = True, drop_last = True)\n",
        "\n",
        "\n",
        "loss_list = []\n",
        "r2_list = []\n",
        "\n",
        "# loop for number of epochs and calculate average loss\n",
        "for epoch in range(epochs):\n",
        "   # model is cycled through the batches\n",
        "  avg_loss, avg_r2_score = model_loss(model, loader, train = True, optimizer = optimizer)\n",
        "  print(\"Epoch \" + str(epoch + 1) + \":\\n\\tLoss = \" + str(avg_loss) + \"\\n\\tR^2 Score = \" + str(avg_r2_score))\n",
        "  loss_list.append(avg_loss)\n",
        "  r2_list.append(avg_r2_score)"
      ],
      "metadata": {
        "colab": {
          "base_uri": "https://localhost:8080/"
        },
        "id": "kPuUD12ax3BM",
        "outputId": "84e0c64a-0142-497c-d10d-22cfe1f2ed7f"
      },
      "execution_count": 162,
      "outputs": [
        {
          "output_type": "stream",
          "name": "stdout",
          "text": [
            "Epoch 1:\n",
            "\tLoss = 527.1439557756696\n",
            "\tR^2 Score = -1.9333971197389548\n",
            "Epoch 2:\n",
            "\tLoss = 208.4740745907738\n",
            "\tR^2 Score = 0.29685054278256284\n",
            "Epoch 3:\n",
            "\tLoss = 163.07098606654577\n",
            "\tR^2 Score = 0.6650515584877116\n",
            "Epoch 4:\n",
            "\tLoss = 158.79049682617188\n",
            "\tR^2 Score = 0.7030836419850217\n",
            "Epoch 5:\n",
            "\tLoss = 152.8808121454148\n",
            "\tR^2 Score = 0.7245779216178352\n",
            "Epoch 6:\n",
            "\tLoss = 151.20064835321335\n",
            "\tR^2 Score = 0.7020592910925456\n",
            "Epoch 7:\n",
            "\tLoss = 150.58685775030227\n",
            "\tR^2 Score = 0.717131810625307\n",
            "Epoch 8:\n",
            "\tLoss = 146.36517733619326\n",
            "\tR^2 Score = 0.7381267059874168\n",
            "Epoch 9:\n",
            "\tLoss = 142.2853230067662\n",
            "\tR^2 Score = 0.7475855293857119\n",
            "Epoch 10:\n",
            "\tLoss = 140.9726315452939\n",
            "\tR^2 Score = 0.7601686590166863\n",
            "Epoch 11:\n",
            "\tLoss = 138.97242300851005\n",
            "\tR^2 Score = 0.7688401921877203\n",
            "Epoch 12:\n",
            "\tLoss = 140.67366718110583\n",
            "\tR^2 Score = 0.7704357546693856\n",
            "Epoch 13:\n",
            "\tLoss = 136.75274294898622\n",
            "\tR^2 Score = 0.7692644372766376\n",
            "Epoch 14:\n",
            "\tLoss = 143.2701132638114\n",
            "\tR^2 Score = 0.7514241177994969\n",
            "Epoch 15:\n",
            "\tLoss = 138.268672761463\n",
            "\tR^2 Score = 0.7535445797053324\n",
            "Epoch 16:\n",
            "\tLoss = 134.84973725818452\n",
            "\tR^2 Score = 0.7733125549699589\n",
            "Epoch 17:\n",
            "\tLoss = 132.53753371465774\n",
            "\tR^2 Score = 0.792522799556342\n",
            "Epoch 18:\n",
            "\tLoss = 135.59285736083984\n",
            "\tR^2 Score = 0.7925669064397196\n",
            "Epoch 19:\n",
            "\tLoss = 133.85884820847284\n",
            "\tR^2 Score = 0.7467290780330379\n",
            "Epoch 20:\n",
            "\tLoss = 129.75354548863\n",
            "\tR^2 Score = 0.7777887772433368\n",
            "Epoch 21:\n",
            "\tLoss = 128.69720713297525\n",
            "\tR^2 Score = 0.7831963732678825\n",
            "Epoch 22:\n",
            "\tLoss = 130.08678181966147\n",
            "\tR^2 Score = 0.7818769215876364\n",
            "Epoch 23:\n",
            "\tLoss = 125.67791602725075\n",
            "\tR^2 Score = 0.7936858053866787\n",
            "Epoch 24:\n",
            "\tLoss = 125.23901003882999\n",
            "\tR^2 Score = 0.8004016330709735\n",
            "Epoch 25:\n",
            "\tLoss = 125.20296914236886\n",
            "\tR^2 Score = 0.8033122242434545\n",
            "Epoch 26:\n",
            "\tLoss = 124.99301220121838\n",
            "\tR^2 Score = 0.7996006946962223\n",
            "Epoch 27:\n",
            "\tLoss = 126.30214618501209\n",
            "\tR^2 Score = 0.811336127544139\n",
            "Epoch 28:\n",
            "\tLoss = 125.40879967099144\n",
            "\tR^2 Score = 0.7899624666614167\n",
            "Epoch 29:\n",
            "\tLoss = 126.14280373709542\n",
            "\tR^2 Score = 0.8102296758053994\n",
            "Epoch 30:\n",
            "\tLoss = 127.64297812325614\n",
            "\tR^2 Score = 0.7925144934160239\n",
            "Epoch 31:\n",
            "\tLoss = 125.42643410818917\n",
            "\tR^2 Score = 0.7943725681559922\n",
            "Epoch 32:\n",
            "\tLoss = 121.66136569068546\n",
            "\tR^2 Score = 0.8080994109693089\n",
            "Epoch 33:\n",
            "\tLoss = 121.08188992454892\n",
            "\tR^2 Score = 0.8065614958296374\n",
            "Epoch 34:\n",
            "\tLoss = 119.93089948381696\n",
            "\tR^2 Score = 0.8082313927061022\n",
            "Epoch 35:\n",
            "\tLoss = 119.58959779285249\n",
            "\tR^2 Score = 0.8175317289749158\n",
            "Epoch 36:\n",
            "\tLoss = 119.78980800083706\n",
            "\tR^2 Score = 0.8162177577475097\n",
            "Epoch 37:\n",
            "\tLoss = 118.5920893351237\n",
            "\tR^2 Score = 0.8290152327690217\n",
            "Epoch 38:\n",
            "\tLoss = 117.84567042759487\n",
            "\tR^2 Score = 0.8156615059212161\n",
            "Epoch 39:\n",
            "\tLoss = 117.75923374720982\n",
            "\tR^2 Score = 0.8271769544313844\n",
            "Epoch 40:\n",
            "\tLoss = 117.4295912243071\n",
            "\tR^2 Score = 0.8199594349227469\n",
            "Epoch 41:\n",
            "\tLoss = 116.48531196230934\n",
            "\tR^2 Score = 0.8230300555598934\n",
            "Epoch 42:\n",
            "\tLoss = 116.88091641380673\n",
            "\tR^2 Score = 0.8240669256366184\n",
            "Epoch 43:\n",
            "\tLoss = 118.34115164620536\n",
            "\tR^2 Score = 0.8236934142462627\n",
            "Epoch 44:\n",
            "\tLoss = 115.80879465738933\n",
            "\tR^2 Score = 0.8356694507499457\n",
            "Epoch 45:\n",
            "\tLoss = 114.61570776076545\n",
            "\tR^2 Score = 0.8256476151533879\n",
            "Epoch 46:\n",
            "\tLoss = 116.90908522832962\n",
            "\tR^2 Score = 0.8322242926504947\n",
            "Epoch 47:\n",
            "\tLoss = 115.71435147240048\n",
            "\tR^2 Score = 0.8185772184636347\n",
            "Epoch 48:\n",
            "\tLoss = 115.49273209344773\n",
            "\tR^2 Score = 0.8113775256716655\n",
            "Epoch 49:\n",
            "\tLoss = 116.28214300246466\n",
            "\tR^2 Score = 0.8261242840420018\n",
            "Epoch 50:\n",
            "\tLoss = 114.8428217569987\n",
            "\tR^2 Score = 0.8328417554438355\n",
            "Epoch 51:\n",
            "\tLoss = 113.27453140985398\n",
            "\tR^2 Score = 0.8220480689679481\n",
            "Epoch 52:\n",
            "\tLoss = 114.30664571126302\n",
            "\tR^2 Score = 0.8233217168792009\n",
            "Epoch 53:\n",
            "\tLoss = 116.04335058303107\n",
            "\tR^2 Score = 0.8448042472866136\n",
            "Epoch 54:\n",
            "\tLoss = 114.98886980329242\n",
            "\tR^2 Score = 0.816068041089265\n",
            "Epoch 55:\n",
            "\tLoss = 114.44813791910808\n",
            "\tR^2 Score = 0.8356983311507891\n",
            "Epoch 56:\n",
            "\tLoss = 111.50028955368768\n",
            "\tR^2 Score = 0.8306149369551282\n",
            "Epoch 57:\n",
            "\tLoss = 113.44654337565105\n",
            "\tR^2 Score = 0.8310960865845732\n",
            "Epoch 58:\n",
            "\tLoss = 113.93401336669922\n",
            "\tR^2 Score = 0.8385706615583985\n",
            "Epoch 59:\n",
            "\tLoss = 116.93702625093006\n",
            "\tR^2 Score = 0.8235606689507209\n",
            "Epoch 60:\n",
            "\tLoss = 112.69285038539341\n",
            "\tR^2 Score = 0.8327426323299175\n",
            "Epoch 61:\n",
            "\tLoss = 111.2927983601888\n",
            "\tR^2 Score = 0.8150120350726313\n",
            "Epoch 62:\n",
            "\tLoss = 110.91051010858445\n",
            "\tR^2 Score = 0.8305396753514364\n",
            "Epoch 63:\n",
            "\tLoss = 112.433593023391\n",
            "\tR^2 Score = 0.8488056584898407\n",
            "Epoch 64:\n",
            "\tLoss = 111.33830878848121\n",
            "\tR^2 Score = 0.8432224641200627\n",
            "Epoch 65:\n",
            "\tLoss = 110.97942679268974\n",
            "\tR^2 Score = 0.8245242382626276\n",
            "Epoch 66:\n",
            "\tLoss = 111.0534900483631\n",
            "\tR^2 Score = 0.8251675937518319\n",
            "Epoch 67:\n",
            "\tLoss = 110.09733508882069\n",
            "\tR^2 Score = 0.827842791542634\n",
            "Epoch 68:\n",
            "\tLoss = 112.39590672084263\n",
            "\tR^2 Score = 0.8275634474382287\n",
            "Epoch 69:\n",
            "\tLoss = 109.01606023879279\n",
            "\tR^2 Score = 0.8282389594994684\n",
            "Epoch 70:\n",
            "\tLoss = 110.36917259579613\n",
            "\tR^2 Score = 0.8373969816427467\n",
            "Epoch 71:\n",
            "\tLoss = 112.5521254766555\n",
            "\tR^2 Score = 0.846795537895674\n",
            "Epoch 72:\n",
            "\tLoss = 113.03744070870536\n",
            "\tR^2 Score = 0.8357510182507145\n",
            "Epoch 73:\n",
            "\tLoss = 111.8373765491304\n",
            "\tR^2 Score = 0.8334054351469333\n",
            "Epoch 74:\n",
            "\tLoss = 109.04365939185733\n",
            "\tR^2 Score = 0.8471143522167421\n",
            "Epoch 75:\n",
            "\tLoss = 108.47526441301618\n",
            "\tR^2 Score = 0.8457392401861994\n",
            "Epoch 76:\n",
            "\tLoss = 108.08990369524274\n",
            "\tR^2 Score = 0.8298036339675438\n",
            "Epoch 77:\n",
            "\tLoss = 109.68718646821522\n",
            "\tR^2 Score = 0.8259481781916143\n",
            "Epoch 78:\n",
            "\tLoss = 107.44233921595982\n",
            "\tR^2 Score = 0.827721449889604\n",
            "Epoch 79:\n",
            "\tLoss = 109.76974124000186\n",
            "\tR^2 Score = 0.8381283651811101\n",
            "Epoch 80:\n",
            "\tLoss = 107.98272305443173\n",
            "\tR^2 Score = 0.8379721368072953\n",
            "Epoch 81:\n",
            "\tLoss = 107.93918209984189\n",
            "\tR^2 Score = 0.8437935406121888\n",
            "Epoch 82:\n",
            "\tLoss = 108.77825927734375\n",
            "\tR^2 Score = 0.8308844043375901\n",
            "Epoch 83:\n",
            "\tLoss = 107.95897238595145\n",
            "\tR^2 Score = 0.8443131115509628\n",
            "Epoch 84:\n",
            "\tLoss = 108.14769926525298\n",
            "\tR^2 Score = 0.841602063869769\n",
            "Epoch 85:\n",
            "\tLoss = 108.43114725748698\n",
            "\tR^2 Score = 0.8436446551673743\n",
            "Epoch 86:\n",
            "\tLoss = 106.47928219749814\n",
            "\tR^2 Score = 0.8508320741787556\n",
            "Epoch 87:\n",
            "\tLoss = 107.28916567847843\n",
            "\tR^2 Score = 0.8459851664206008\n",
            "Epoch 88:\n",
            "\tLoss = 108.19735899425689\n",
            "\tR^2 Score = 0.8413534652983207\n",
            "Epoch 89:\n",
            "\tLoss = 111.39821225120907\n",
            "\tR^2 Score = 0.825704096006217\n",
            "Epoch 90:\n",
            "\tLoss = 107.68991016206287\n",
            "\tR^2 Score = 0.8372158481397136\n",
            "Epoch 91:\n",
            "\tLoss = 110.28099931989398\n",
            "\tR^2 Score = 0.8308491444422328\n",
            "Epoch 92:\n",
            "\tLoss = 108.9368889218285\n",
            "\tR^2 Score = 0.8280557326505705\n",
            "Epoch 93:\n",
            "\tLoss = 107.50007484072731\n",
            "\tR^2 Score = 0.8449853230624288\n",
            "Epoch 94:\n",
            "\tLoss = 108.07398260207404\n",
            "\tR^2 Score = 0.836828325691763\n",
            "Epoch 95:\n",
            "\tLoss = 110.0716062273298\n",
            "\tR^2 Score = 0.8341184660102927\n",
            "Epoch 96:\n",
            "\tLoss = 106.7661866687593\n",
            "\tR^2 Score = 0.8514826478720879\n",
            "Epoch 97:\n",
            "\tLoss = 105.96491096133278\n",
            "\tR^2 Score = 0.8486988828204765\n",
            "Epoch 98:\n",
            "\tLoss = 109.53280566987537\n",
            "\tR^2 Score = 0.8369851767889371\n",
            "Epoch 99:\n",
            "\tLoss = 106.73000299362909\n",
            "\tR^2 Score = 0.8344371411350295\n",
            "Epoch 100:\n",
            "\tLoss = 104.6860845656622\n",
            "\tR^2 Score = 0.8423737058708202\n"
          ]
        }
      ]
    },
    {
      "cell_type": "code",
      "source": [
        "torch.save(model.state_dict(),'conv_reg.h')"
      ],
      "metadata": {
        "id": "rmC948zux6FC"
      },
      "execution_count": 143,
      "outputs": []
    },
    {
      "cell_type": "code",
      "source": [
        "# to process with GPU, testing set is converted into torch variable\n",
        "inputs = torch.from_numpy(X_test).cuda().float()\n",
        "outputs = torch.from_numpy(y_test.reshape(y_test.shape[0],1)).cuda().float()\n",
        "\n",
        "# create the DataLoader instance to work with batches\n",
        "tensor = TensorDataset(inputs, outputs)\n",
        "loader = DataLoader(tensor, batch_size, shuffle = True, drop_last = True)\n",
        "\n",
        "# output of the performance of the model\n",
        "avg_loss, avg_r2_score = model_loss(model, loader)\n",
        "print(\"The model's L1 loss is: \" + str(avg_loss))\n",
        "print(\"The model's R^2 score is: \" + str(avg_r2_score))"
      ],
      "metadata": {
        "colab": {
          "base_uri": "https://localhost:8080/"
        },
        "id": "3sGmaODwyRX7",
        "outputId": "f17ae8ca-dcee-41f1-be26-53465f9b2977"
      },
      "execution_count": 163,
      "outputs": [
        {
          "output_type": "stream",
          "name": "stdout",
          "text": [
            "The model's L1 loss is: 123.86143341064454\n",
            "The model's R^2 score is: 0.7929343312377688\n"
          ]
        }
      ]
    },
    {
      "cell_type": "code",
      "source": [
        "plt.figure(figsize=(10,5))\n",
        "plt.subplot(1,2,1)\n",
        "plt.xlabel('Epoch')\n",
        "plt.ylabel('Loss')\n",
        "plt.plot(np.arange(1,101),loss_list)\n",
        "plt.subplot(1,2,2)\n",
        "plt.xlabel('Epoch')\n",
        "plt.ylabel('R2')\n",
        "plt.plot(np.arange(1,101), r2_list)\n",
        "plt.show()"
      ],
      "metadata": {
        "colab": {
          "base_uri": "https://localhost:8080/",
          "height": 334
        },
        "id": "Nf3w9_-Rycpt",
        "outputId": "e85788a2-ea44-4d7a-c548-e5026466ab4c"
      },
      "execution_count": 171,
      "outputs": [
        {
          "output_type": "display_data",
          "data": {
            "text/plain": [
              "<Figure size 720x360 with 2 Axes>"
            ],
            "image/png": "[encoded data removed]"
          },
          "metadata": {
            "needs_background": "light"
          }
        }
      ]
    }
  ]
}