{
 "cells": [
  {
   "cell_type": "markdown",
   "id": "c547577a",
   "metadata": {},
   "source": [
    "## Comparing model score"
   ]
  },
  {
   "cell_type": "code",
   "execution_count": 1,
   "id": "b614a63b",
   "metadata": {},
   "outputs": [],
   "source": [
    "import pandas as pd\n",
    "import numpy as np\n",
    "import matplotlib.pyplot as plt\n",
    "\n",
    "# 글꼴깨짐 방지\n",
    "import matplotlib\n",
    "import matplotlib.font_manager as fm\n",
    "\n",
    "import warnings\n",
    "\n",
    "# 경고 메시지를 무시하고 숨기거나\n",
    "warnings.filterwarnings(action='ignore')\n",
    "\n",
    "fm.get_fontconfig_fonts()\n",
    "font_location = 'C:/Windows/Fonts/malgun.ttf' # For Windows\n",
    "font_name = fm.FontProperties(fname=font_location).get_name()\n",
    "matplotlib.rc('font', family=font_name)\n",
    "font_name = fm.FontProperties(fname=font_location).get_name()\n",
    "matplotlib.rc('font', family=font_name)"
   ]
  },
  {
   "cell_type": "code",
   "execution_count": 2,
   "id": "5b64045e",
   "metadata": {},
   "outputs": [],
   "source": [
    "from sklearn.metrics import explained_variance_score,mean_absolute_error,r2_score"
   ]
  },
  {
   "cell_type": "code",
   "execution_count": 3,
   "id": "afc5cf56",
   "metadata": {},
   "outputs": [],
   "source": [
    "import joblib\n",
    "import xgboost as xgb\n",
    "\n",
    "catboost_model = joblib.load('./Catboost_GridSearchCV_model.pkl')\n",
    "xgboost_model = xgb.XGBRegressor()\n",
    "xgboost_model.load_model('xgb_model.model')\n",
    "lightgbm_model = joblib.load('./lightgbm.pkl')"
   ]
  },
  {
   "cell_type": "code",
   "execution_count": 4,
   "id": "ed602fcf",
   "metadata": {},
   "outputs": [],
   "source": [
    "df = pd.read_csv('train.csv')"
   ]
  },
  {
   "cell_type": "code",
   "execution_count": 5,
   "id": "39a13202",
   "metadata": {},
   "outputs": [],
   "source": [
    "def preprocessing(df):\n",
    "    # 오류 단지코드가 존재하는 행들을  사전에 제거\n",
    "    df_error =  ['C1095', 'C2051', 'C1218', 'C1894', 'C2483', 'C1502', 'C1988']\n",
    "    #df_error =  ['C2335', 'C1327']\n",
    "    df = df[~df['단지코드'].isin(df_error)].reset_index(drop=True)\n",
    "    df.rename(columns = {'도보 10분거리 내 지하철역 수(환승노선 수 반영)':'지하철','도보 10분거리 내 버스정류장 수':'버스'},inplace=True)\n",
    "    df.drop(columns=['임대보증금','임대료','자격유형','임대건물구분'],axis = 1,inplace=True)\n",
    "    지역_비율 = (df.groupby(['지역'])['총세대수'].count())/(df.groupby(['지역'])['총세대수'].count().sum())*100\n",
    "    지역_비율=지역_비율.reset_index(name='지역_비율')\n",
    "    공급유형_비율 = (df.groupby(['공급유형'])['총세대수'].count())/(df.groupby(['공급유형'])['총세대수'].count().sum())*100\n",
    "    공급유형_비율=공급유형_비율.reset_index(name='공급유형_비율')\n",
    "    df = pd.merge(df,지역_비율, on='지역')\n",
    "    df = pd.merge(df,공급유형_비율, on='공급유형')\n",
    "    df.drop(columns=['지역','공급유형','단지코드'],axis = 1,inplace=True)\n",
    "    df=df.dropna(axis=0)\n",
    "    df = df[['총세대수', '전용면적', '전용면적별세대수', '공가수', '지하철', '버스', '단지내주차면수', '공급유형_비율',\n",
    "       '지역_비율', '등록차량수']]\n",
    "    return df"
   ]
  },
  {
   "cell_type": "code",
   "execution_count": 6,
   "id": "cb29585e",
   "metadata": {},
   "outputs": [],
   "source": [
    "df = preprocessing(df)"
   ]
  },
  {
   "cell_type": "code",
   "execution_count": 7,
   "id": "67f60409",
   "metadata": {},
   "outputs": [],
   "source": [
    "from sklearn.metrics import explained_variance_score,mean_absolute_error,r2_score"
   ]
  },
  {
   "cell_type": "markdown",
   "id": "8058699b",
   "metadata": {},
   "source": [
    "### train set, test set"
   ]
  },
  {
   "cell_type": "code",
   "execution_count": 8,
   "id": "d74f96f2",
   "metadata": {},
   "outputs": [],
   "source": [
    "from sklearn.neighbors import KNeighborsRegressor\n",
    "from sklearn.model_selection import train_test_split\n",
    "\n",
    "X = df.iloc[:, 1:-1]\n",
    "y = df.iloc[:,-1]\n",
    "\n",
    "X_train, X_test, y_train, y_test = train_test_split(X, y, test_size=0.2, random_state=42)"
   ]
  },
  {
   "cell_type": "code",
   "execution_count": 9,
   "id": "1c9b05dc",
   "metadata": {},
   "outputs": [],
   "source": [
    "base = X_test\n",
    "target = y_test"
   ]
  },
  {
   "cell_type": "markdown",
   "id": "7d690b92",
   "metadata": {},
   "source": [
    "## Evaluating Model"
   ]
  },
  {
   "cell_type": "code",
   "execution_count": 10,
   "id": "4c7ce89d",
   "metadata": {},
   "outputs": [],
   "source": [
    "mae_dict = dict()"
   ]
  },
  {
   "cell_type": "code",
   "execution_count": 11,
   "id": "33ffd3c7",
   "metadata": {},
   "outputs": [],
   "source": [
    "def evaluate_model(model):\n",
    "    pred = model.predict(base)\n",
    "    return mean_absolute_error(target, pred)"
   ]
  },
  {
   "cell_type": "markdown",
   "id": "95dcd984",
   "metadata": {},
   "source": [
    "### base model: LinearRegression"
   ]
  },
  {
   "cell_type": "code",
   "execution_count": 12,
   "id": "b81fee22",
   "metadata": {},
   "outputs": [],
   "source": [
    "from sklearn.linear_model import LinearRegression\n",
    "\n",
    "lr = LinearRegression()\n",
    "lr.fit(X_train, y_train)\n",
    "\n",
    "mae_dict['LinearRegression'] = evaluate_model(lr)"
   ]
  },
  {
   "cell_type": "markdown",
   "id": "27fbd2fe",
   "metadata": {},
   "source": [
    "### CatBoost"
   ]
  },
  {
   "cell_type": "code",
   "execution_count": 13,
   "id": "d28d0c00",
   "metadata": {},
   "outputs": [],
   "source": [
    "mae_dict['CatBoost'] = evaluate_model(catboost_model)"
   ]
  },
  {
   "cell_type": "markdown",
   "id": "86069687",
   "metadata": {},
   "source": [
    "### XGBoost"
   ]
  },
  {
   "cell_type": "code",
   "execution_count": 14,
   "id": "8a9377a2",
   "metadata": {},
   "outputs": [],
   "source": [
    "mae_dict['XGBoost'] = evaluate_model(xgboost_model)"
   ]
  },
  {
   "cell_type": "markdown",
   "id": "74380760",
   "metadata": {},
   "source": [
    "### LightGBM"
   ]
  },
  {
   "cell_type": "code",
   "execution_count": 15,
   "id": "ca63b163",
   "metadata": {},
   "outputs": [],
   "source": [
    "from sklearn.preprocessing import StandardScaler\n",
    "standardScaler = StandardScaler()\n",
    "train_data_standardScaled = standardScaler.fit_transform(df)\n",
    "\n",
    "X = pd.DataFrame(train_data_standardScaled).iloc[:, 1:-1]\n",
    "y = df.iloc[:,-1]\n",
    "\n",
    "X_train, X_test, y_train, y_test = train_test_split(X, y, test_size=0.2, random_state=42)\n",
    "\n",
    "pred = lightgbm_model.predict(X_test)\n",
    "mae_dict['LightGBM'] = mean_absolute_error(y_test, pred)"
   ]
  },
  {
   "cell_type": "markdown",
   "id": "4207c34f",
   "metadata": {},
   "source": [
    "### CNN"
   ]
  },
  {
   "cell_type": "code",
   "execution_count": 16,
   "id": "d897ba18",
   "metadata": {},
   "outputs": [],
   "source": [
    "mae_dict['CNN'] = 117.19342498779297"
   ]
  },
  {
   "cell_type": "markdown",
   "id": "e71d5443",
   "metadata": {},
   "source": [
    "## Visualization"
   ]
  },
  {
   "cell_type": "code",
   "execution_count": 17,
   "id": "1b31a37d",
   "metadata": {},
   "outputs": [
    {
     "data": {
      "text/plain": [
       "{'LinearRegression': 150.81692600640224,\n",
       " 'CatBoost': 36.84444338132358,\n",
       " 'XGBoost': 25.76014966982481,\n",
       " 'LightGBM': 57.882127508737405,\n",
       " 'CNN': 117.19342498779297}"
      ]
     },
     "execution_count": 17,
     "metadata": {},
     "output_type": "execute_result"
    }
   ],
   "source": [
    "mae_dict"
   ]
  },
  {
   "cell_type": "code",
   "execution_count": 18,
   "id": "3c83f3c0",
   "metadata": {},
   "outputs": [],
   "source": [
    "mae_key = list(mae_dict.keys())\n",
    "mae_value = list(mae_dict.values())"
   ]
  },
  {
   "cell_type": "code",
   "execution_count": 19,
   "id": "8d11de69",
   "metadata": {},
   "outputs": [
    {
     "data": {
      "image/png": "[encoded data removed]",
      "text/plain": [
       "<Figure size 640x480 with 1 Axes>"
      ]
     },
     "metadata": {},
     "output_type": "display_data"
    }
   ],
   "source": [
    "import matplotlib.pyplot as plt\n",
    "import seaborn as sns\n",
    "from matplotlib.ticker import FormatStrFormatter\n",
    "\n",
    "fig, ax = plt.subplots()\n",
    "\n",
    "ax.yaxis.set_major_formatter(FormatStrFormatter('%.2f'))\n",
    "\n",
    "ax = sns.barplot(x=mae_key, y=mae_value, palette=\"ch:.25\")\n",
    "plt.xlabel('Algorithm')\n",
    "plt.ylabel('MAE')\n",
    "\n",
    "for i in ax.containers:\n",
    "    ax.bar_label(i,)\n",
    "\n",
    "plt.show()"
   ]
  },
  {
   "cell_type": "code",
   "execution_count": null,
   "id": "e8c15be0",
   "metadata": {},
   "outputs": [],
   "source": []
  }
 ],
 "metadata": {
  "kernelspec": {
   "display_name": "Python 3 (ipykernel)",
   "language": "python",
   "name": "python3"
  },
  "language_info": {
   "codemirror_mode": {
    "name": "ipython",
    "version": 3
   },
   "file_extension": ".py",
   "mimetype": "text/x-python",
   "name": "python",
   "nbconvert_exporter": "python",
   "pygments_lexer": "ipython3",
   "version": "3.9.13"
  }
 },
 "nbformat": 4,
 "nbformat_minor": 5
}
