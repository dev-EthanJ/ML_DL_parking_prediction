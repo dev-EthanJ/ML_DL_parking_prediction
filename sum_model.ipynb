{
 "cells": [
  {
   "cell_type": "markdown",
   "id": "c547577a",
   "metadata": {},
   "source": [
    "## Comparing model score"
   ]
  },
  {
   "cell_type": "code",
   "execution_count": 1,
   "id": "b614a63b",
   "metadata": {},
   "outputs": [],
   "source": [
    "import pandas as pd\n",
    "import numpy as np\n",
    "import matplotlib.pyplot as plt\n",
    "\n",
    "# 글꼴깨짐 방지\n",
    "import matplotlib\n",
    "import matplotlib.font_manager as fm\n",
    "\n",
    "import warnings\n",
    "\n",
    "# 경고 메시지를 무시하고 숨기거나\n",
    "warnings.filterwarnings(action='ignore')\n",
    "\n",
    "fm.get_fontconfig_fonts()\n",
    "font_location = 'C:/Windows/Fonts/malgun.ttf' # For Windows\n",
    "font_name = fm.FontProperties(fname=font_location).get_name()\n",
    "matplotlib.rc('font', family=font_name)\n",
    "font_name = fm.FontProperties(fname=font_location).get_name()\n",
    "matplotlib.rc('font', family=font_name)"
   ]
  },
  {
   "cell_type": "code",
   "execution_count": 2,
   "id": "5b64045e",
   "metadata": {},
   "outputs": [],
   "source": [
    "from sklearn.metrics import explained_variance_score,mean_absolute_error,r2_score"
   ]
  },
  {
   "cell_type": "code",
   "execution_count": 3,
   "id": "afc5cf56",
   "metadata": {},
   "outputs": [],
   "source": [
    "import joblib\n",
    "import xgboost as xgb\n",
    "\n",
    "catboost_model = joblib.load('./Catboost_GridSearchCV_model.pkl')\n",
    "xgboost_model = joblib.load('./XGBoostingRegressor.pkl')\n",
    "lightgbm_model = joblib.load('./lightgbm.pkl')"
   ]
  },
  {
   "cell_type": "code",
   "execution_count": 4,
   "id": "ed602fcf",
   "metadata": {},
   "outputs": [],
   "source": [
    "df = pd.read_csv('train.csv')"
   ]
  },
  {
   "cell_type": "code",
   "execution_count": 5,
   "id": "39a13202",
   "metadata": {},
   "outputs": [],
   "source": [
    "def preprocessing(df):\n",
    "    # 오류 단지코드가 존재하는 행들을  사전에 제거\n",
    "    df_error =  ['C1095', 'C2051', 'C1218', 'C1894', 'C2483', 'C1502', 'C1988']\n",
    "    #df_error =  ['C2335', 'C1327']\n",
    "    df = df[~df['단지코드'].isin(df_error)].reset_index(drop=True)\n",
    "    df.rename(columns = {'도보 10분거리 내 지하철역 수(환승노선 수 반영)':'지하철','도보 10분거리 내 버스정류장 수':'버스'},inplace=True)\n",
    "    df.drop(columns=['임대보증금','임대료','자격유형','임대건물구분'],axis = 1,inplace=True)\n",
    "    지역_비율 = (df.groupby(['지역'])['총세대수'].count())/(df.groupby(['지역'])['총세대수'].count().sum())*100\n",
    "    지역_비율=지역_비율.reset_index(name='지역_비율')\n",
    "    공급유형_비율 = (df.groupby(['공급유형'])['총세대수'].count())/(df.groupby(['공급유형'])['총세대수'].count().sum())*100\n",
    "    공급유형_비율=공급유형_비율.reset_index(name='공급유형_비율')\n",
    "    df = pd.merge(df,지역_비율, on='지역')\n",
    "    df = pd.merge(df,공급유형_비율, on='공급유형')\n",
    "    df.drop(columns=['지역','공급유형','단지코드'],axis = 1,inplace=True)\n",
    "    df=df.dropna(axis=0)\n",
    "    df = df[['총세대수', '전용면적', '전용면적별세대수', '공가수', '지하철', '버스', '단지내주차면수', '공급유형_비율',\n",
    "       '지역_비율', '등록차량수']]\n",
    "    return df"
   ]
  },
  {
   "cell_type": "code",
   "execution_count": 6,
   "id": "cb29585e",
   "metadata": {},
   "outputs": [],
   "source": [
    "df = preprocessing(df)"
   ]
  },
  {
   "cell_type": "code",
   "execution_count": 7,
   "id": "67f60409",
   "metadata": {},
   "outputs": [],
   "source": [
    "from sklearn.metrics import explained_variance_score,mean_absolute_error,r2_score"
   ]
  },
  {
   "cell_type": "markdown",
   "id": "8058699b",
   "metadata": {},
   "source": [
    "### train set, test set"
   ]
  },
  {
   "cell_type": "code",
   "execution_count": 8,
   "id": "d74f96f2",
   "metadata": {},
   "outputs": [],
   "source": [
    "from sklearn.neighbors import KNeighborsRegressor\n",
    "from sklearn.model_selection import train_test_split\n",
    "\n",
    "X = df.iloc[:, :-1]\n",
    "y = df.iloc[:,-1]\n",
    "\n",
    "X_train, X_test, y_train, y_test = train_test_split(X, y, test_size=0.2, random_state=42)"
   ]
  },
  {
   "cell_type": "code",
   "execution_count": 9,
   "id": "1c9b05dc",
   "metadata": {},
   "outputs": [],
   "source": [
    "base = X_test\n",
    "target = y_test"
   ]
  },
  {
   "cell_type": "markdown",
   "id": "7d690b92",
   "metadata": {},
   "source": [
    "## Evaluating Model"
   ]
  },
  {
   "cell_type": "code",
   "execution_count": 10,
   "id": "4c7ce89d",
   "metadata": {},
   "outputs": [],
   "source": [
    "mae_dict = dict()"
   ]
  },
  {
   "cell_type": "code",
   "execution_count": 11,
   "id": "33ffd3c7",
   "metadata": {},
   "outputs": [],
   "source": [
    "def evaluate_model(model):\n",
    "    pred = model.predict(base)\n",
    "    return mean_absolute_error(target, pred)"
   ]
  },
  {
   "cell_type": "markdown",
   "id": "95dcd984",
   "metadata": {},
   "source": [
    "### base model: LinearRegression"
   ]
  },
  {
   "cell_type": "code",
   "execution_count": 12,
   "id": "b81fee22",
   "metadata": {},
   "outputs": [],
   "source": [
    "from sklearn.linear_model import LinearRegression\n",
    "\n",
    "lr = LinearRegression()\n",
    "lr.fit(X_train, y_train)\n",
    "\n",
    "mae_dict['LinearRegression'] = evaluate_model(lr)"
   ]
  },
  {
   "cell_type": "markdown",
   "id": "27fbd2fe",
   "metadata": {},
   "source": [
    "### CatBoost"
   ]
  },
  {
   "cell_type": "code",
   "execution_count": 13,
   "id": "dc96fb3d",
   "metadata": {},
   "outputs": [],
   "source": [
    "cat_param = {\n",
    "    # tree의 깊이, default: 6\n",
    "    'max_depth': [4, 6, 8, 10], \n",
    "    \n",
    "    # 생성 가능한 최대 tree 갯수, default: 1000\n",
    "    'n_estimators': [1000, 1500, 2000],\n",
    "    \n",
    "    # 오차 함수에서 조정하는 step의 크기, default: 자동 설정(0.03)\n",
    "    'learning_rate': [0.01, 0.03, 0.1, None],\n",
    "    \n",
    "    # tree에 랜덤하게 부여되는 가중치, defaul: 1\n",
    "    'rddandom_strength': [1, 1.2, 1.5, 2, 4]\n",
    "}\n",
    "# cat_best_param = learning_rate=0.01, max_depth=6, n_estimators=1000, random_strength=2)"
   ]
  },
  {
   "cell_type": "code",
   "execution_count": 14,
   "id": "d28d0c00",
   "metadata": {},
   "outputs": [],
   "source": [
    "mae_dict['CatBoost'] = evaluate_model(catboost_model)"
   ]
  },
  {
   "cell_type": "markdown",
   "id": "86069687",
   "metadata": {},
   "source": [
    "### XGBoost"
   ]
  },
  {
   "cell_type": "code",
   "execution_count": 15,
   "id": "8a9377a2",
   "metadata": {},
   "outputs": [],
   "source": [
    "'''\n",
    "n_estimators=100, learning_rate= 0.15, max_depth =3, gamma= 0, colsample_bytree = 0.9,\n",
    "eval_metric= 'mae', scale_pos_weight=0.5, subsample=0.5,min_child_weight =20,\n",
    "seed = 1337, reg_alpha= 0.01, reg_lambda=0.1'\n",
    "'''\n",
    "\n",
    "mae_dict['XGBoost'] = evaluate_model(xgboost_model)"
   ]
  },
  {
   "cell_type": "markdown",
   "id": "74380760",
   "metadata": {},
   "source": [
    "### LightGBM"
   ]
  },
  {
   "cell_type": "code",
   "execution_count": 16,
   "id": "5f89c908",
   "metadata": {},
   "outputs": [
    {
     "data": {
      "text/plain": [
       "\"\\n application= 'mean_absolute_error',\\n bagging_fraction= 0.6,\\n bagging_freq= 5,\\n boosting= 'gbdt',\\n feature_fraction= 0.9,\\n is_training_metric= True,\\n learning_rate= 0.1,\\n max_cat_group= 64,\\n max_depth= 4,\\n metric= 'mae',\\n min_data_in_leaf= 20,\\n num_leaves= 144,\\n objective= 'regression'\\n\""
      ]
     },
     "execution_count": 16,
     "metadata": {},
     "output_type": "execute_result"
    }
   ],
   "source": [
    "params = {'learning_rate': (0.2,0.3,0.4), # 부스팅 각 이터레이션 마다 곱해지는 가중치로 모형 성능과 학습시간에 영향을 준다. \n",
    "          'max_depth': [8, 4, 2, 1, -1],# 최대 깊이\n",
    "          'boosting': ['gbdt'], # ecision tree와 학습 데이터의 일부만 사용하여 부스팅을 수행한다.\n",
    "          'application':['mean_absolute_error'],\n",
    "          'min_data_in_leaf':[20], # left가 가지고 있는 최소한의 레코드. 디폴트 값은 20을 해결 할때 사용\n",
    "          'objective': ['regression'], # 회귀\n",
    "          'metric': ['mae'],# Mean absolute error\n",
    "          'maximum_leaves':[31],# 트리의  최대 리프 수. 트리의 최대 깊이, 모형 성능, 학습속도에 영향을 미친다.\n",
    "          'max_cat_group' :[64], # 카테고리의 수가 클때, 분기 포인트를 찾음\n",
    "          'is_training_metric': [True],\n",
    "          'column_sampling':[0.3],# 각 이터레이션에 사용되는 칼럼의 비율\n",
    "          'num_leaves': [144], # 'maximum_leaves' 와 함께 사용하는 파라미터 \n",
    "          'feature_fraction': [1,0.7,0.6],# 각 이터레이션에 사용되는 칼럼의 비율. \n",
    "          'bagging_fraction': [0.7,0.3,0.1 ],# 일반적으로 훈련 속도를 높이거나, 과적합을 피할때 사용한다.\n",
    "          'bagging_freq': [5] # 각 이터레이션에 사용되는 행의 비율}\n",
    "         }\n",
    "'''\n",
    " application= 'mean_absolute_error',\n",
    " bagging_fraction= 0.6,\n",
    " bagging_freq= 5,\n",
    " boosting= 'gbdt',\n",
    " feature_fraction= 0.9,\n",
    " is_training_metric= True,\n",
    " learning_rate= 0.1,\n",
    " max_cat_group= 64,\n",
    " max_depth= 4,\n",
    " metric= 'mae',\n",
    " min_data_in_leaf= 20,\n",
    " num_leaves= 144,\n",
    " objective= 'regression'\n",
    "'''"
   ]
  },
  {
   "cell_type": "code",
   "execution_count": 17,
   "id": "ca63b163",
   "metadata": {},
   "outputs": [],
   "source": [
    "from sklearn.preprocessing import StandardScaler\n",
    "\n",
    "mae_dict['LightGBM'] = evaluate_model(lightgbm_model)"
   ]
  },
  {
   "cell_type": "markdown",
   "id": "4207c34f",
   "metadata": {},
   "source": [
    "### CNN"
   ]
  },
  {
   "cell_type": "code",
   "execution_count": 18,
   "id": "d897ba18",
   "metadata": {},
   "outputs": [],
   "source": [
    "mae_dict['CNN'] = 117.19342498779297"
   ]
  },
  {
   "cell_type": "markdown",
   "id": "e71d5443",
   "metadata": {},
   "source": [
    "## Visualization"
   ]
  },
  {
   "cell_type": "code",
   "execution_count": 19,
   "id": "1b31a37d",
   "metadata": {},
   "outputs": [
    {
     "data": {
      "text/plain": [
       "{'LinearRegression': 146.34365537491593,\n",
       " 'CatBoost': 29.8928190870309,\n",
       " 'XGBoost': 16.872810357109795,\n",
       " 'LightGBM': 32.621006109570274,\n",
       " 'CNN': 117.19342498779297}"
      ]
     },
     "execution_count": 19,
     "metadata": {},
     "output_type": "execute_result"
    }
   ],
   "source": [
    "mae_dict"
   ]
  },
  {
   "cell_type": "code",
   "execution_count": 20,
   "id": "3c83f3c0",
   "metadata": {},
   "outputs": [],
   "source": [
    "mae_key = list(mae_dict.keys())\n",
    "mae_value = list(mae_dict.values())"
   ]
  },
  {
   "cell_type": "code",
   "execution_count": 21,
   "id": "8d11de69",
   "metadata": {},
   "outputs": [
    {
     "data": {
      "image/png": "[encoded data removed]",
      "text/plain": [
       "<Figure size 640x480 with 1 Axes>"
      ]
     },
     "metadata": {},
     "output_type": "display_data"
    }
   ],
   "source": [
    "import matplotlib.pyplot as plt\n",
    "import seaborn as sns\n",
    "from matplotlib.ticker import FormatStrFormatter\n",
    "\n",
    "fig, ax = plt.subplots()\n",
    "\n",
    "ax.yaxis.set_major_formatter(FormatStrFormatter('%.2f'))\n",
    "\n",
    "ax = sns.barplot(x=mae_key, y=mae_value, palette=\"ch:.25\")\n",
    "plt.xlabel('Model')\n",
    "plt.ylabel('MAE')\n",
    "\n",
    "for i in ax.containers:\n",
    "    ax.bar_label(i,)\n",
    "\n",
    "plt.show()"
   ]
  },
  {
   "cell_type": "code",
   "execution_count": null,
   "id": "e8c15be0",
   "metadata": {},
   "outputs": [],
   "source": []
  }
 ],
 "metadata": {
  "kernelspec": {
   "display_name": "Python 3 (ipykernel)",
   "language": "python",
   "name": "python3"
  },
  "language_info": {
   "codemirror_mode": {
    "name": "ipython",
    "version": 3
   },
   "file_extension": ".py",
   "mimetype": "text/x-python",
   "name": "python",
   "nbconvert_exporter": "python",
   "pygments_lexer": "ipython3",
   "version": "3.9.13"
  }
 },
 "nbformat": 4,
 "nbformat_minor": 5
}
