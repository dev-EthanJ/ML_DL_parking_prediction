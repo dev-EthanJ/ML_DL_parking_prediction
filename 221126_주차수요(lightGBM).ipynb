{
 "cells": [
  {
   "cell_type": "code",
   "execution_count": 17,
   "id": "8071b828",
   "metadata": {},
   "outputs": [],
   "source": [
    "import pandas as pd\n",
    "import numpy as np\n",
    "import matplotlib.pyplot as plt\n",
    "\n",
    "# 글꼴깨짐 방지\n",
    "import matplotlib\n",
    "import matplotlib.font_manager as fm\n",
    "\n",
    "import warnings\n",
    "\n",
    "# 경고 메시지를 무시하고 숨기거나\n",
    "warnings.filterwarnings(action='ignore')\n",
    "\n",
    "fm.get_fontconfig_fonts()\n",
    "font_location = 'C:/Windows/Fonts/malgun.ttf' # For Windows\n",
    "font_name = fm.FontProperties(fname=font_location).get_name()\n",
    "matplotlib.rc('font', family=font_name)"
   ]
  },
  {
   "cell_type": "code",
   "execution_count": 18,
   "id": "ff19ad8c",
   "metadata": {},
   "outputs": [
    {
     "data": {
      "text/html": [
       "<div>\n",
       "<style scoped>\n",
       "    .dataframe tbody tr th:only-of-type {\n",
       "        vertical-align: middle;\n",
       "    }\n",
       "\n",
       "    .dataframe tbody tr th {\n",
       "        vertical-align: top;\n",
       "    }\n",
       "\n",
       "    .dataframe thead th {\n",
       "        text-align: right;\n",
       "    }\n",
       "</style>\n",
       "<table border=\"1\" class=\"dataframe\">\n",
       "  <thead>\n",
       "    <tr style=\"text-align: right;\">\n",
       "      <th></th>\n",
       "      <th>단지코드</th>\n",
       "      <th>총세대수</th>\n",
       "      <th>임대건물구분</th>\n",
       "      <th>지역</th>\n",
       "      <th>공급유형</th>\n",
       "      <th>전용면적</th>\n",
       "      <th>전용면적별세대수</th>\n",
       "      <th>공가수</th>\n",
       "      <th>자격유형</th>\n",
       "      <th>임대보증금</th>\n",
       "      <th>임대료</th>\n",
       "      <th>도보 10분거리 내 지하철역 수(환승노선 수 반영)</th>\n",
       "      <th>도보 10분거리 내 버스정류장 수</th>\n",
       "      <th>단지내주차면수</th>\n",
       "      <th>등록차량수</th>\n",
       "    </tr>\n",
       "  </thead>\n",
       "  <tbody>\n",
       "    <tr>\n",
       "      <th>0</th>\n",
       "      <td>C2483</td>\n",
       "      <td>900</td>\n",
       "      <td>아파트</td>\n",
       "      <td>경상북도</td>\n",
       "      <td>국민임대</td>\n",
       "      <td>39.72</td>\n",
       "      <td>134</td>\n",
       "      <td>38.0</td>\n",
       "      <td>A</td>\n",
       "      <td>15667000</td>\n",
       "      <td>103680</td>\n",
       "      <td>0.0</td>\n",
       "      <td>3.0</td>\n",
       "      <td>1425.0</td>\n",
       "      <td>1015.0</td>\n",
       "    </tr>\n",
       "    <tr>\n",
       "      <th>1</th>\n",
       "      <td>C2483</td>\n",
       "      <td>900</td>\n",
       "      <td>아파트</td>\n",
       "      <td>경상북도</td>\n",
       "      <td>국민임대</td>\n",
       "      <td>39.72</td>\n",
       "      <td>15</td>\n",
       "      <td>38.0</td>\n",
       "      <td>A</td>\n",
       "      <td>15667000</td>\n",
       "      <td>103680</td>\n",
       "      <td>0.0</td>\n",
       "      <td>3.0</td>\n",
       "      <td>1425.0</td>\n",
       "      <td>1015.0</td>\n",
       "    </tr>\n",
       "    <tr>\n",
       "      <th>2</th>\n",
       "      <td>C2483</td>\n",
       "      <td>900</td>\n",
       "      <td>아파트</td>\n",
       "      <td>경상북도</td>\n",
       "      <td>국민임대</td>\n",
       "      <td>51.93</td>\n",
       "      <td>385</td>\n",
       "      <td>38.0</td>\n",
       "      <td>A</td>\n",
       "      <td>27304000</td>\n",
       "      <td>184330</td>\n",
       "      <td>0.0</td>\n",
       "      <td>3.0</td>\n",
       "      <td>1425.0</td>\n",
       "      <td>1015.0</td>\n",
       "    </tr>\n",
       "    <tr>\n",
       "      <th>3</th>\n",
       "      <td>C2483</td>\n",
       "      <td>900</td>\n",
       "      <td>아파트</td>\n",
       "      <td>경상북도</td>\n",
       "      <td>국민임대</td>\n",
       "      <td>51.93</td>\n",
       "      <td>15</td>\n",
       "      <td>38.0</td>\n",
       "      <td>A</td>\n",
       "      <td>27304000</td>\n",
       "      <td>184330</td>\n",
       "      <td>0.0</td>\n",
       "      <td>3.0</td>\n",
       "      <td>1425.0</td>\n",
       "      <td>1015.0</td>\n",
       "    </tr>\n",
       "    <tr>\n",
       "      <th>4</th>\n",
       "      <td>C2483</td>\n",
       "      <td>900</td>\n",
       "      <td>아파트</td>\n",
       "      <td>경상북도</td>\n",
       "      <td>국민임대</td>\n",
       "      <td>51.93</td>\n",
       "      <td>41</td>\n",
       "      <td>38.0</td>\n",
       "      <td>A</td>\n",
       "      <td>27304000</td>\n",
       "      <td>184330</td>\n",
       "      <td>0.0</td>\n",
       "      <td>3.0</td>\n",
       "      <td>1425.0</td>\n",
       "      <td>1015.0</td>\n",
       "    </tr>\n",
       "  </tbody>\n",
       "</table>\n",
       "</div>"
      ],
      "text/plain": [
       "    단지코드  총세대수 임대건물구분    지역  공급유형   전용면적  전용면적별세대수   공가수 자격유형     임대보증금  \\\n",
       "0  C2483   900    아파트  경상북도  국민임대  39.72       134  38.0    A  15667000   \n",
       "1  C2483   900    아파트  경상북도  국민임대  39.72        15  38.0    A  15667000   \n",
       "2  C2483   900    아파트  경상북도  국민임대  51.93       385  38.0    A  27304000   \n",
       "3  C2483   900    아파트  경상북도  국민임대  51.93        15  38.0    A  27304000   \n",
       "4  C2483   900    아파트  경상북도  국민임대  51.93        41  38.0    A  27304000   \n",
       "\n",
       "      임대료  도보 10분거리 내 지하철역 수(환승노선 수 반영)  도보 10분거리 내 버스정류장 수  단지내주차면수   등록차량수  \n",
       "0  103680                           0.0                 3.0   1425.0  1015.0  \n",
       "1  103680                           0.0                 3.0   1425.0  1015.0  \n",
       "2  184330                           0.0                 3.0   1425.0  1015.0  \n",
       "3  184330                           0.0                 3.0   1425.0  1015.0  \n",
       "4  184330                           0.0                 3.0   1425.0  1015.0  "
      ]
     },
     "execution_count": 18,
     "metadata": {},
     "output_type": "execute_result"
    }
   ],
   "source": [
    "df = pd.read_csv('train.csv')\n",
    "df.head()"
   ]
  },
  {
   "cell_type": "code",
   "execution_count": 19,
   "id": "4892ec7c",
   "metadata": {},
   "outputs": [],
   "source": [
    "def preprocessing(df):\n",
    "    # 오류 단지코드가 존재하는 행들을  사전에 제거\n",
    "    df_error =  ['C1095', 'C2051', 'C1218', 'C1894', 'C2483', 'C1502', 'C1988']\n",
    "    #df_error =  ['C2335', 'C1327']\n",
    "    df = df[~df['단지코드'].isin(df_error)].reset_index(drop=True)\n",
    "    df.rename(columns = {'도보 10분거리 내 지하철역 수(환승노선 수 반영)':'지하철','도보 10분거리 내 버스정류장 수':'버스'},inplace=True)\n",
    "    df.drop(columns=['임대보증금','임대료','자격유형','임대건물구분'],axis = 1,inplace=True)\n",
    "    지역_비율 = (df.groupby(['지역'])['총세대수'].count())/(df.groupby(['지역'])['총세대수'].count().sum())*100\n",
    "    지역_비율=지역_비율.reset_index(name='지역_비율')\n",
    "    공급유형_비율 = (df.groupby(['공급유형'])['총세대수'].count())/(df.groupby(['공급유형'])['총세대수'].count().sum())*100\n",
    "    공급유형_비율=공급유형_비율.reset_index(name='공급유형_비율')\n",
    "    df = pd.merge(df,지역_비율, on='지역')\n",
    "    df = pd.merge(df,공급유형_비율, on='공급유형')\n",
    "    df.drop(columns=['지역','공급유형','단지코드'],axis = 1,inplace=True)\n",
    "    df=df.dropna(axis=0)\n",
    "    df = df[['총세대수', '전용면적', '전용면적별세대수', '공가수', '지하철', '버스', '단지내주차면수', '공급유형_비율',\n",
    "       '지역_비율', '등록차량수']]\n",
    "    return df"
   ]
  },
  {
   "cell_type": "code",
   "execution_count": 20,
   "id": "ecf9a8c3",
   "metadata": {},
   "outputs": [
    {
     "data": {
      "text/html": [
       "<div>\n",
       "<style scoped>\n",
       "    .dataframe tbody tr th:only-of-type {\n",
       "        vertical-align: middle;\n",
       "    }\n",
       "\n",
       "    .dataframe tbody tr th {\n",
       "        vertical-align: top;\n",
       "    }\n",
       "\n",
       "    .dataframe thead th {\n",
       "        text-align: right;\n",
       "    }\n",
       "</style>\n",
       "<table border=\"1\" class=\"dataframe\">\n",
       "  <thead>\n",
       "    <tr style=\"text-align: right;\">\n",
       "      <th></th>\n",
       "      <th>총세대수</th>\n",
       "      <th>전용면적</th>\n",
       "      <th>전용면적별세대수</th>\n",
       "      <th>공가수</th>\n",
       "      <th>지하철</th>\n",
       "      <th>버스</th>\n",
       "      <th>단지내주차면수</th>\n",
       "      <th>공급유형_비율</th>\n",
       "      <th>지역_비율</th>\n",
       "      <th>등록차량수</th>\n",
       "    </tr>\n",
       "  </thead>\n",
       "  <tbody>\n",
       "    <tr>\n",
       "      <th>0</th>\n",
       "      <td>545</td>\n",
       "      <td>33.48</td>\n",
       "      <td>276</td>\n",
       "      <td>17.0</td>\n",
       "      <td>0.0</td>\n",
       "      <td>3.0</td>\n",
       "      <td>624.0</td>\n",
       "      <td>59.944751</td>\n",
       "      <td>12.741713</td>\n",
       "      <td>205.0</td>\n",
       "    </tr>\n",
       "    <tr>\n",
       "      <th>1</th>\n",
       "      <td>545</td>\n",
       "      <td>39.60</td>\n",
       "      <td>60</td>\n",
       "      <td>17.0</td>\n",
       "      <td>0.0</td>\n",
       "      <td>3.0</td>\n",
       "      <td>624.0</td>\n",
       "      <td>59.944751</td>\n",
       "      <td>12.741713</td>\n",
       "      <td>205.0</td>\n",
       "    </tr>\n",
       "    <tr>\n",
       "      <th>2</th>\n",
       "      <td>545</td>\n",
       "      <td>39.60</td>\n",
       "      <td>20</td>\n",
       "      <td>17.0</td>\n",
       "      <td>0.0</td>\n",
       "      <td>3.0</td>\n",
       "      <td>624.0</td>\n",
       "      <td>59.944751</td>\n",
       "      <td>12.741713</td>\n",
       "      <td>205.0</td>\n",
       "    </tr>\n",
       "    <tr>\n",
       "      <th>3</th>\n",
       "      <td>545</td>\n",
       "      <td>46.90</td>\n",
       "      <td>38</td>\n",
       "      <td>17.0</td>\n",
       "      <td>0.0</td>\n",
       "      <td>3.0</td>\n",
       "      <td>624.0</td>\n",
       "      <td>59.944751</td>\n",
       "      <td>12.741713</td>\n",
       "      <td>205.0</td>\n",
       "    </tr>\n",
       "    <tr>\n",
       "      <th>4</th>\n",
       "      <td>545</td>\n",
       "      <td>46.90</td>\n",
       "      <td>19</td>\n",
       "      <td>17.0</td>\n",
       "      <td>0.0</td>\n",
       "      <td>3.0</td>\n",
       "      <td>624.0</td>\n",
       "      <td>59.944751</td>\n",
       "      <td>12.741713</td>\n",
       "      <td>205.0</td>\n",
       "    </tr>\n",
       "    <tr>\n",
       "      <th>...</th>\n",
       "      <td>...</td>\n",
       "      <td>...</td>\n",
       "      <td>...</td>\n",
       "      <td>...</td>\n",
       "      <td>...</td>\n",
       "      <td>...</td>\n",
       "      <td>...</td>\n",
       "      <td>...</td>\n",
       "      <td>...</td>\n",
       "      <td>...</td>\n",
       "    </tr>\n",
       "    <tr>\n",
       "      <th>2891</th>\n",
       "      <td>370</td>\n",
       "      <td>51.99</td>\n",
       "      <td>80</td>\n",
       "      <td>9.0</td>\n",
       "      <td>0.0</td>\n",
       "      <td>3.0</td>\n",
       "      <td>1590.0</td>\n",
       "      <td>0.310773</td>\n",
       "      <td>2.209945</td>\n",
       "      <td>1595.0</td>\n",
       "    </tr>\n",
       "    <tr>\n",
       "      <th>2892</th>\n",
       "      <td>370</td>\n",
       "      <td>59.93</td>\n",
       "      <td>142</td>\n",
       "      <td>9.0</td>\n",
       "      <td>0.0</td>\n",
       "      <td>3.0</td>\n",
       "      <td>1590.0</td>\n",
       "      <td>0.310773</td>\n",
       "      <td>2.209945</td>\n",
       "      <td>1595.0</td>\n",
       "    </tr>\n",
       "    <tr>\n",
       "      <th>2893</th>\n",
       "      <td>790</td>\n",
       "      <td>51.32</td>\n",
       "      <td>126</td>\n",
       "      <td>13.0</td>\n",
       "      <td>0.0</td>\n",
       "      <td>3.0</td>\n",
       "      <td>673.0</td>\n",
       "      <td>0.310773</td>\n",
       "      <td>2.209945</td>\n",
       "      <td>645.0</td>\n",
       "    </tr>\n",
       "    <tr>\n",
       "      <th>2894</th>\n",
       "      <td>790</td>\n",
       "      <td>59.88</td>\n",
       "      <td>49</td>\n",
       "      <td>13.0</td>\n",
       "      <td>0.0</td>\n",
       "      <td>3.0</td>\n",
       "      <td>673.0</td>\n",
       "      <td>0.310773</td>\n",
       "      <td>2.209945</td>\n",
       "      <td>645.0</td>\n",
       "    </tr>\n",
       "    <tr>\n",
       "      <th>2895</th>\n",
       "      <td>790</td>\n",
       "      <td>59.94</td>\n",
       "      <td>75</td>\n",
       "      <td>13.0</td>\n",
       "      <td>0.0</td>\n",
       "      <td>3.0</td>\n",
       "      <td>673.0</td>\n",
       "      <td>0.310773</td>\n",
       "      <td>2.209945</td>\n",
       "      <td>645.0</td>\n",
       "    </tr>\n",
       "  </tbody>\n",
       "</table>\n",
       "<p>2685 rows × 10 columns</p>\n",
       "</div>"
      ],
      "text/plain": [
       "      총세대수   전용면적  전용면적별세대수   공가수  지하철   버스  단지내주차면수    공급유형_비율      지역_비율  \\\n",
       "0      545  33.48       276  17.0  0.0  3.0    624.0  59.944751  12.741713   \n",
       "1      545  39.60        60  17.0  0.0  3.0    624.0  59.944751  12.741713   \n",
       "2      545  39.60        20  17.0  0.0  3.0    624.0  59.944751  12.741713   \n",
       "3      545  46.90        38  17.0  0.0  3.0    624.0  59.944751  12.741713   \n",
       "4      545  46.90        19  17.0  0.0  3.0    624.0  59.944751  12.741713   \n",
       "...    ...    ...       ...   ...  ...  ...      ...        ...        ...   \n",
       "2891   370  51.99        80   9.0  0.0  3.0   1590.0   0.310773   2.209945   \n",
       "2892   370  59.93       142   9.0  0.0  3.0   1590.0   0.310773   2.209945   \n",
       "2893   790  51.32       126  13.0  0.0  3.0    673.0   0.310773   2.209945   \n",
       "2894   790  59.88        49  13.0  0.0  3.0    673.0   0.310773   2.209945   \n",
       "2895   790  59.94        75  13.0  0.0  3.0    673.0   0.310773   2.209945   \n",
       "\n",
       "       등록차량수  \n",
       "0      205.0  \n",
       "1      205.0  \n",
       "2      205.0  \n",
       "3      205.0  \n",
       "4      205.0  \n",
       "...      ...  \n",
       "2891  1595.0  \n",
       "2892  1595.0  \n",
       "2893   645.0  \n",
       "2894   645.0  \n",
       "2895   645.0  \n",
       "\n",
       "[2685 rows x 10 columns]"
      ]
     },
     "execution_count": 20,
     "metadata": {},
     "output_type": "execute_result"
    }
   ],
   "source": [
    "df = preprocessing(df)\n",
    "df"
   ]
  },
  {
   "cell_type": "code",
   "execution_count": 5,
   "id": "46910620",
   "metadata": {},
   "outputs": [],
   "source": [
    "# Splitting the data into train and test split\n",
    "#from sklearn.model_selection import train_test_split\n",
    "#X = df.iloc[:, 1:-1]\n",
    "#y = df.iloc[:,-1]\n",
    "#X_train, X_test, y_train, y_test = train_test_split(X, y, test_size=0.2, random_state=42)"
   ]
  },
  {
   "cell_type": "code",
   "execution_count": 6,
   "id": "fbeec299",
   "metadata": {},
   "outputs": [],
   "source": [
    "import lightgbm as lgb\n",
    "\n",
    "model = lgb.LGBMRegressor()\n",
    "# model.fit(X_train, y_train)\n",
    "# pred = model.predict(X_test)"
   ]
  },
  {
   "cell_type": "code",
   "execution_count": 7,
   "id": "3b0808b9",
   "metadata": {},
   "outputs": [
    {
     "ename": "NameError",
     "evalue": "name 'X_train' is not defined",
     "output_type": "error",
     "traceback": [
      "\u001b[1;31m---------------------------------------------------------------------------\u001b[0m",
      "\u001b[1;31mNameError\u001b[0m                                 Traceback (most recent call last)",
      "\u001b[1;32m~\\AppData\\Local\\Temp\\ipykernel_18736\\700542975.py\u001b[0m in \u001b[0;36m<module>\u001b[1;34m\u001b[0m\n\u001b[0;32m      4\u001b[0m \u001b[1;33m\u001b[0m\u001b[0m\n\u001b[0;32m      5\u001b[0m \u001b[0mstart\u001b[0m \u001b[1;33m=\u001b[0m \u001b[0mtime\u001b[0m\u001b[1;33m(\u001b[0m\u001b[1;33m)\u001b[0m\u001b[1;33m\u001b[0m\u001b[1;33m\u001b[0m\u001b[0m\n\u001b[1;32m----> 6\u001b[1;33m \u001b[0mmodel\u001b[0m\u001b[1;33m.\u001b[0m\u001b[0mfit\u001b[0m\u001b[1;33m(\u001b[0m\u001b[0mX_train\u001b[0m\u001b[1;33m,\u001b[0m \u001b[0my_train\u001b[0m\u001b[1;33m)\u001b[0m\u001b[1;33m\u001b[0m\u001b[1;33m\u001b[0m\u001b[0m\n\u001b[0m\u001b[0;32m      7\u001b[0m \u001b[0mtrain_time\u001b[0m \u001b[1;33m=\u001b[0m \u001b[0mtime\u001b[0m\u001b[1;33m(\u001b[0m\u001b[1;33m)\u001b[0m \u001b[1;33m-\u001b[0m \u001b[0mstart\u001b[0m\u001b[1;33m\u001b[0m\u001b[1;33m\u001b[0m\u001b[0m\n\u001b[0;32m      8\u001b[0m \u001b[0mstart\u001b[0m \u001b[1;33m=\u001b[0m \u001b[0mtime\u001b[0m\u001b[1;33m(\u001b[0m\u001b[1;33m)\u001b[0m\u001b[1;33m\u001b[0m\u001b[1;33m\u001b[0m\u001b[0m\n",
      "\u001b[1;31mNameError\u001b[0m: name 'X_train' is not defined"
     ]
    }
   ],
   "source": [
    "# 스케일링 없이\n",
    "from time import time\n",
    "from sklearn.metrics import explained_variance_score,mean_absolute_error,r2_score\n",
    "\n",
    "start = time()\n",
    "model.fit(X_train, y_train)\n",
    "train_time = time() - start\n",
    "start = time()\n",
    "y_pred = model.predict(X_test)\n",
    "predict_time = time()-start    \n",
    "print(model)\n",
    "print(\"\\tTraining time: %0.3fs\" % train_time)\n",
    "print(\"\\tPrediction time: %0.3fs\" % predict_time)\n",
    "print(\"\\tExplained variance:\", explained_variance_score(y_test, y_pred))\n",
    "print(\"\\tMean absolute error:\", mean_absolute_error(y_test, y_pred))\n",
    "print(\"\\tR2 score:\", r2_score(y_test, y_pred))\n",
    "print()"
   ]
  },
  {
   "cell_type": "code",
   "execution_count": 7,
   "id": "32d6b6e9",
   "metadata": {},
   "outputs": [
    {
     "name": "stdout",
     "output_type": "stream",
     "text": [
      "StandardScaler()\n"
     ]
    }
   ],
   "source": [
    "# 데이터 파일 스탠다드 스케일링\n",
    "from sklearn.preprocessing import StandardScaler\n",
    "standardScaler = StandardScaler()\n",
    "print(standardScaler.fit(df))\n",
    "train_data_standardScaled = standardScaler.transform(df)"
   ]
  },
  {
   "cell_type": "code",
   "execution_count": 10,
   "id": "be451ed1",
   "metadata": {},
   "outputs": [],
   "source": [
    "# Splitting the data into train and test split\n",
    "\n",
    "from sklearn.model_selection import train_test_split\n",
    "sc_X = df.iloc[:, :-1]\n",
    "y = df.iloc[:,-1]\n",
    "sc_X_train, sc_X_test, y_train, y_test = train_test_split(sc_X, y, test_size=0.2, random_state=42)"
   ]
  },
  {
   "cell_type": "code",
   "execution_count": 12,
   "id": "880fe45c",
   "metadata": {},
   "outputs": [],
   "source": [
    "#  스탠다드 스케일링\n",
    "import lightgbm as lgb\n",
    "\n",
    "sc_model = lgb.LGBMRegressor()\n",
    "model.fit(sc_X_train, y_train)\n",
    "sc_pred = model.predict(sc_X_test)"
   ]
  },
  {
   "cell_type": "code",
   "execution_count": 13,
   "id": "436c1cd0",
   "metadata": {
    "scrolled": true
   },
   "outputs": [
    {
     "name": "stdout",
     "output_type": "stream",
     "text": [
      "LGBMRegressor()\n",
      "\tsc_Training time: 0.145s\n",
      "\tsc_Prediction time: 0.004s\n",
      "\tsc_Explained variance: 0.9832310354572736\n",
      "\tsc_Mean absolute error: 32.621006109570274\n",
      "\tsc_R2 score: 0.9831380780340911\n",
      "\n"
     ]
    }
   ],
   "source": [
    "# 스케일링한 모델 평가 mse 0.8% 잡았음\n",
    "from time import time\n",
    "from sklearn.metrics import explained_variance_score,mean_absolute_error,r2_score\n",
    "\n",
    "start = time()\n",
    "sc_model.fit(sc_X_train, y_train)\n",
    "train_time = time() - start\n",
    "start = time()\n",
    "y_pred = sc_model.predict(sc_X_test)\n",
    "predict_time = time()-start    \n",
    "print(sc_model)\n",
    "print(\"\\tsc_Training time: %0.3fs\" % train_time)\n",
    "print(\"\\tsc_Prediction time: %0.3fs\" % predict_time)\n",
    "print(\"\\tsc_Explained variance:\", explained_variance_score(y_test, y_pred))\n",
    "print(\"\\tsc_Mean absolute error:\", mean_absolute_error(y_test, y_pred))\n",
    "print(\"\\tsc_R2 score:\", r2_score(y_test, y_pred))\n",
    "print()"
   ]
  },
  {
   "cell_type": "code",
   "execution_count": 14,
   "id": "8f30b407",
   "metadata": {},
   "outputs": [
    {
     "data": {
      "text/plain": [
       "['lightgbm.pkl']"
      ]
     },
     "execution_count": 14,
     "metadata": {},
     "output_type": "execute_result"
    }
   ],
   "source": [
    "# 오이피클\n",
    "import joblib\n",
    "\n",
    "joblib.dump(model, 'lightgbm.pkl')"
   ]
  },
  {
   "cell_type": "code",
   "execution_count": null,
   "id": "221660d9",
   "metadata": {},
   "outputs": [],
   "source": [
    "# 핵심 파라미터들 넣기\n",
    "params = {'learning_rate': (0.2,0.3,0.4), # 부스팅 각 이터레이션 마다 곱해지는 가중치로 모형 성능과 학습시간에 영향을 준다. \n",
    "          'max_depth': [8, 4, 2, 1, -1],# 최대 깊이\n",
    "          'boosting': ['gbdt'], # ecision tree와 학습 데이터의 일부만 사용하여 부스팅을 수행한다.\n",
    "          'application':['mean_absolute_error'],\n",
    "          'min_data_in_leaf':[20], # left가 가지고 있는 최소한의 레코드. 디폴트 값은 20을 해결 할때 사용\n",
    "          'objective': ['regression'], # 회귀\n",
    "          'metric': ['mae'],# Mean absolute error\n",
    "          'maximum_leaves':[31],# 트리의  최대 리프 수. 트리의 최대 깊이, 모형 성능, 학습속도에 영향을 미친다.\n",
    "          'max_cat_group' :[64], # 카테고리의 수가 클때, 분기 포인트를 찾음\n",
    "          'is_training_metric': [True],\n",
    "          'column_sampling':[0.3],# 각 이터레이션에 사용되는 칼럼의 비율\n",
    "          'num_leaves': [144], # 'maximum_leaves' 와 함께 사용하는 파라미터 \n",
    "          'feature_fraction': [1,0.7,0.6],# 각 이터레이션에 사용되는 칼럼의 비율. \n",
    "          'bagging_fraction': [0.7,0.3,0.1 ],# 일반적으로 훈련 속도를 높이거나, 과적합을 피할때 사용한다.\n",
    "          'bagging_freq': [5] # 각 이터레이션에 사용되는 행의 비율}"
   ]
  },
  {
   "cell_type": "code",
   "execution_count": null,
   "id": "aefdb269",
   "metadata": {},
   "outputs": [],
   "source": [
    "from sklearn.model_selection import GridSearchCV\n",
    "\n",
    "grid = GridSearchCV(sc_model,params, verbose=10)\n",
    "sc_model = grid.fit(X,y)\n",
    "print(sc_model.best_params_,'\\n')\n",
    "print(sc_model.best_estimator_,'\\n')"
   ]
  },
  {
   "cell_type": "code",
   "execution_count": null,
   "id": "9717e3f2",
   "metadata": {
    "scrolled": true
   },
   "outputs": [],
   "source": [
    "sc_params = sc_model.best_params_\n",
    "sc_params"
   ]
  },
  {
   "cell_type": "code",
   "execution_count": null,
   "id": "a48e7a78",
   "metadata": {
    "scrolled": true
   },
   "outputs": [],
   "source": [
    "scores_df = pd.DataFrame(grid.cv_results_)\n",
    "scores_df"
   ]
  },
  {
   "cell_type": "code",
   "execution_count": null,
   "id": "07fd96c9",
   "metadata": {},
   "outputs": [],
   "source": [
    "grid.best_score_"
   ]
  },
  {
   "cell_type": "code",
   "execution_count": null,
   "id": "c715f07b",
   "metadata": {},
   "outputs": [],
   "source": [
    "import lightgbm as lgb"
   ]
  },
  {
   "cell_type": "code",
   "execution_count": null,
   "id": "e21a9012",
   "metadata": {},
   "outputs": [],
   "source": [
    "LGBMRegressor_model = lgb.LGBMRegressor(application= 'mean_absolute_error',\n",
    " bagging_fraction= 0.6,\n",
    " bagging_freq= 5,\n",
    " boosting= 'gbdt',\n",
    " feature_fraction= 0.9,\n",
    " is_training_metric= True,\n",
    " learning_rate= 0.1,\n",
    " max_cat_group= 64,\n",
    " max_depth= 4,\n",
    " metric= 'mae',\n",
    " min_data_in_leaf= 20,\n",
    " num_leaves= 144,\n",
    " objective= 'regression')\n",
    "LGBMRegressor_model.fit(sc_X_train, y_train)\n",
    "pred = LGBMRegressor_model.predict(sc_X_test)"
   ]
  },
  {
   "cell_type": "code",
   "execution_count": null,
   "id": "78df11cc",
   "metadata": {},
   "outputs": [],
   "source": [
    "from sklearn.metrics import accuracy_score, mean_absolute_error\n",
    "mean_absolute_error(y_test, pred)"
   ]
  },
  {
   "cell_type": "code",
   "execution_count": null,
   "id": "eb9eaa69",
   "metadata": {},
   "outputs": [],
   "source": [
    "# 로버츠 스케일링(아웃라이어 최소화)\n",
    "from sklearn.preprocessing import RobustScaler\n",
    "rc = RobustScaler()\n",
    "rc_X_train = rc.fit_transform(X_train)\n",
    "rc_X_test = rc.transform(X_test)"
   ]
  },
  {
   "cell_type": "code",
   "execution_count": null,
   "id": "f9e33600",
   "metadata": {},
   "outputs": [],
   "source": [
    "import lightgbm as lgb\n",
    "\n",
    "rc_model = lgb.LGBMRegressor()\n",
    "model.fit(rc_X_train, y_train)\n",
    "rc_pred = model.predict(rc_X_test)"
   ]
  },
  {
   "cell_type": "code",
   "execution_count": null,
   "id": "1c5e9fd2",
   "metadata": {},
   "outputs": [],
   "source": [
    "# 로버츠스케일링한 모델평가 기준모델보다 mae는 0.7정도,R2 score는 0.006가량 높음\n",
    "from time import time\n",
    "from sklearn.metrics import explained_variance_score,mean_absolute_error,r2_score\n",
    "\n",
    "start = time()\n",
    "model.fit(rc_X_train, y_train)\n",
    "train_time = time() - start\n",
    "start = time()\n",
    "y_pred = model.predict(rc_X_test)\n",
    "predict_time = time()-start    \n",
    "print('rc_model')\n",
    "print(\"\\tsc_Training time: %0.3fs\" % train_time)\n",
    "print(\"\\tsc_Prediction time: %0.3fs\" % predict_time)\n",
    "print(\"\\tsc_Explained variance:\", explained_variance_score(y_test, y_pred))\n",
    "print(\"\\tsc_Mean absolute error:\", mean_absolute_error(y_test, y_pred))\n",
    "print(\"\\tsc_R2 score:\", r2_score(y_test, y_pred))\n",
    "print()"
   ]
  },
  {
   "cell_type": "code",
   "execution_count": null,
   "id": "1557cd79",
   "metadata": {},
   "outputs": [],
   "source": [
    "# best params 찾기\n",
    "from sklearn.model_selection import GridSearchCV\n",
    "\n",
    "rc_grid = GridSearchCV(rc_model,params, verbose=10)\n",
    "rc_model = grid.fit(X,y)\n",
    "print(rc_model.best_params_,'\\n')\n",
    "print(rc_model.best_estimator_,'\\n')\n",
    "print()"
   ]
  },
  {
   "cell_type": "code",
   "execution_count": null,
   "id": "471d7135",
   "metadata": {},
   "outputs": [],
   "source": [
    "# 똑같이 나옴\n",
    "rc_params = rc_model.best_params_\n",
    "rc_params"
   ]
  },
  {
   "cell_type": "code",
   "execution_count": null,
   "id": "77e2ffc7",
   "metadata": {},
   "outputs": [],
   "source": [
    "# 결론 StandardScaler한 기존 모델이 가장 높은 정확도를 지녔다 "
   ]
  }
 ],
 "metadata": {
  "kernelspec": {
   "display_name": "Python 3 (ipykernel)",
   "language": "python",
   "name": "python3"
  },
  "language_info": {
   "codemirror_mode": {
    "name": "ipython",
    "version": 3
   },
   "file_extension": ".py",
   "mimetype": "text/x-python",
   "name": "python",
   "nbconvert_exporter": "python",
   "pygments_lexer": "ipython3",
   "version": "3.9.13"
  },
  "toc": {
   "base_numbering": 1,
   "nav_menu": {},
   "number_sections": true,
   "sideBar": true,
   "skip_h1_title": false,
   "title_cell": "Table of Contents",
   "title_sidebar": "Contents",
   "toc_cell": false,
   "toc_position": {},
   "toc_section_display": true,
   "toc_window_display": false
  },
  "varInspector": {
   "cols": {
    "lenName": 16,
    "lenType": 16,
    "lenVar": 40
   },
   "kernels_config": {
    "python": {
     "delete_cmd_postfix": "",
     "delete_cmd_prefix": "del ",
     "library": "var_list.py",
     "varRefreshCmd": "print(var_dic_list())"
    },
    "r": {
     "delete_cmd_postfix": ") ",
     "delete_cmd_prefix": "rm(",
     "library": "var_list.r",
     "varRefreshCmd": "cat(var_dic_list()) "
    }
   },
   "types_to_exclude": [
    "module",
    "function",
    "builtin_function_or_method",
    "instance",
    "_Feature"
   ],
   "window_display": false
  }
 },
 "nbformat": 4,
 "nbformat_minor": 5
}
