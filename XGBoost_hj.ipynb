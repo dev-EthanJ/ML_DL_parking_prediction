{
 "cells": [
  {
   "cell_type": "code",
   "execution_count": 247,
   "id": "77f62688",
   "metadata": {},
   "outputs": [],
   "source": [
    "import pandas as pd\n",
    "import numpy as np\n",
    "import matplotlib.pyplot as plt\n",
    "\n",
    "# 글꼴깨짐 방지\n",
    "import matplotlib\n",
    "import matplotlib.font_manager as fm\n",
    "\n",
    "import warnings\n",
    "\n",
    "# 경고 메시지를 무시하고 숨기거나\n",
    "warnings.filterwarnings(action='ignore')\n",
    "\n",
    "fm.get_fontconfig_fonts()\n",
    "font_location = 'C:/Windows/Fonts/malgun.ttf' # For Windows\n",
    "font_name = fm.FontProperties(fname=font_location).get_name()\n",
    "matplotlib.rc('font', family=font_name)"
   ]
  },
  {
   "cell_type": "code",
   "execution_count": 248,
   "id": "760024d5",
   "metadata": {},
   "outputs": [
    {
     "data": {
      "text/html": [
       "<div>\n",
       "<style scoped>\n",
       "    .dataframe tbody tr th:only-of-type {\n",
       "        vertical-align: middle;\n",
       "    }\n",
       "\n",
       "    .dataframe tbody tr th {\n",
       "        vertical-align: top;\n",
       "    }\n",
       "\n",
       "    .dataframe thead th {\n",
       "        text-align: right;\n",
       "    }\n",
       "</style>\n",
       "<table border=\"1\" class=\"dataframe\">\n",
       "  <thead>\n",
       "    <tr style=\"text-align: right;\">\n",
       "      <th></th>\n",
       "      <th>단지코드</th>\n",
       "      <th>총세대수</th>\n",
       "      <th>임대건물구분</th>\n",
       "      <th>지역</th>\n",
       "      <th>공급유형</th>\n",
       "      <th>전용면적</th>\n",
       "      <th>전용면적별세대수</th>\n",
       "      <th>공가수</th>\n",
       "      <th>자격유형</th>\n",
       "      <th>임대보증금</th>\n",
       "      <th>임대료</th>\n",
       "      <th>도보 10분거리 내 지하철역 수(환승노선 수 반영)</th>\n",
       "      <th>도보 10분거리 내 버스정류장 수</th>\n",
       "      <th>단지내주차면수</th>\n",
       "      <th>등록차량수</th>\n",
       "    </tr>\n",
       "  </thead>\n",
       "  <tbody>\n",
       "    <tr>\n",
       "      <th>0</th>\n",
       "      <td>C2483</td>\n",
       "      <td>900</td>\n",
       "      <td>아파트</td>\n",
       "      <td>경상북도</td>\n",
       "      <td>국민임대</td>\n",
       "      <td>39.72</td>\n",
       "      <td>134</td>\n",
       "      <td>38.0</td>\n",
       "      <td>A</td>\n",
       "      <td>15667000</td>\n",
       "      <td>103680</td>\n",
       "      <td>0.0</td>\n",
       "      <td>3.0</td>\n",
       "      <td>1425.0</td>\n",
       "      <td>1015.0</td>\n",
       "    </tr>\n",
       "    <tr>\n",
       "      <th>1</th>\n",
       "      <td>C2483</td>\n",
       "      <td>900</td>\n",
       "      <td>아파트</td>\n",
       "      <td>경상북도</td>\n",
       "      <td>국민임대</td>\n",
       "      <td>39.72</td>\n",
       "      <td>15</td>\n",
       "      <td>38.0</td>\n",
       "      <td>A</td>\n",
       "      <td>15667000</td>\n",
       "      <td>103680</td>\n",
       "      <td>0.0</td>\n",
       "      <td>3.0</td>\n",
       "      <td>1425.0</td>\n",
       "      <td>1015.0</td>\n",
       "    </tr>\n",
       "    <tr>\n",
       "      <th>2</th>\n",
       "      <td>C2483</td>\n",
       "      <td>900</td>\n",
       "      <td>아파트</td>\n",
       "      <td>경상북도</td>\n",
       "      <td>국민임대</td>\n",
       "      <td>51.93</td>\n",
       "      <td>385</td>\n",
       "      <td>38.0</td>\n",
       "      <td>A</td>\n",
       "      <td>27304000</td>\n",
       "      <td>184330</td>\n",
       "      <td>0.0</td>\n",
       "      <td>3.0</td>\n",
       "      <td>1425.0</td>\n",
       "      <td>1015.0</td>\n",
       "    </tr>\n",
       "    <tr>\n",
       "      <th>3</th>\n",
       "      <td>C2483</td>\n",
       "      <td>900</td>\n",
       "      <td>아파트</td>\n",
       "      <td>경상북도</td>\n",
       "      <td>국민임대</td>\n",
       "      <td>51.93</td>\n",
       "      <td>15</td>\n",
       "      <td>38.0</td>\n",
       "      <td>A</td>\n",
       "      <td>27304000</td>\n",
       "      <td>184330</td>\n",
       "      <td>0.0</td>\n",
       "      <td>3.0</td>\n",
       "      <td>1425.0</td>\n",
       "      <td>1015.0</td>\n",
       "    </tr>\n",
       "    <tr>\n",
       "      <th>4</th>\n",
       "      <td>C2483</td>\n",
       "      <td>900</td>\n",
       "      <td>아파트</td>\n",
       "      <td>경상북도</td>\n",
       "      <td>국민임대</td>\n",
       "      <td>51.93</td>\n",
       "      <td>41</td>\n",
       "      <td>38.0</td>\n",
       "      <td>A</td>\n",
       "      <td>27304000</td>\n",
       "      <td>184330</td>\n",
       "      <td>0.0</td>\n",
       "      <td>3.0</td>\n",
       "      <td>1425.0</td>\n",
       "      <td>1015.0</td>\n",
       "    </tr>\n",
       "  </tbody>\n",
       "</table>\n",
       "</div>"
      ],
      "text/plain": [
       "    단지코드  총세대수 임대건물구분    지역  공급유형   전용면적  전용면적별세대수   공가수 자격유형     임대보증금  \\\n",
       "0  C2483   900    아파트  경상북도  국민임대  39.72       134  38.0    A  15667000   \n",
       "1  C2483   900    아파트  경상북도  국민임대  39.72        15  38.0    A  15667000   \n",
       "2  C2483   900    아파트  경상북도  국민임대  51.93       385  38.0    A  27304000   \n",
       "3  C2483   900    아파트  경상북도  국민임대  51.93        15  38.0    A  27304000   \n",
       "4  C2483   900    아파트  경상북도  국민임대  51.93        41  38.0    A  27304000   \n",
       "\n",
       "      임대료  도보 10분거리 내 지하철역 수(환승노선 수 반영)  도보 10분거리 내 버스정류장 수  단지내주차면수   등록차량수  \n",
       "0  103680                           0.0                 3.0   1425.0  1015.0  \n",
       "1  103680                           0.0                 3.0   1425.0  1015.0  \n",
       "2  184330                           0.0                 3.0   1425.0  1015.0  \n",
       "3  184330                           0.0                 3.0   1425.0  1015.0  \n",
       "4  184330                           0.0                 3.0   1425.0  1015.0  "
      ]
     },
     "execution_count": 248,
     "metadata": {},
     "output_type": "execute_result"
    }
   ],
   "source": [
    "df = pd.read_csv('train.csv')\n",
    "df.head()"
   ]
  },
  {
   "cell_type": "code",
   "execution_count": 249,
   "id": "eb33461e",
   "metadata": {},
   "outputs": [],
   "source": [
    "def preprocessing(df):\n",
    "    # 오류 단지코드가 존재하는 행들을  사전에 제거\n",
    "    df_error =  ['C1095', 'C2051', 'C1218', 'C1894', 'C2483', 'C1502', 'C1988']\n",
    "    #df_error =  ['C2335', 'C1327']\n",
    "    df = df[~df['단지코드'].isin(df_error)].reset_index(drop=True)\n",
    "    df.rename(columns = {'도보 10분거리 내 지하철역 수(환승노선 수 반영)':'지하철','도보 10분거리 내 버스정류장 수':'버스'},inplace=True)\n",
    "    df.drop(columns=['임대보증금','임대료','자격유형','임대건물구분'],axis = 1,inplace=True)\n",
    "    지역_비율 = (df.groupby(['지역'])['총세대수'].count())/(df.groupby(['지역'])['총세대수'].count().sum())*100\n",
    "    지역_비율=지역_비율.reset_index(name='지역_비율')\n",
    "    공급유형_비율 = (df.groupby(['공급유형'])['총세대수'].count())/(df.groupby(['공급유형'])['총세대수'].count().sum())*100\n",
    "    공급유형_비율=공급유형_비율.reset_index(name='공급유형_비율')\n",
    "    df = pd.merge(df,지역_비율, on='지역')\n",
    "    df = pd.merge(df,공급유형_비율, on='공급유형')\n",
    "    df.drop(columns=['지역','공급유형','단지코드'],axis = 1,inplace=True)\n",
    "    df=df.dropna(axis=0)\n",
    "    df = df[['총세대수', '전용면적', '전용면적별세대수', '공가수', '지하철', '버스', '단지내주차면수', '공급유형_비율',\n",
    "       '지역_비율', '등록차량수']]\n",
    "    return df"
   ]
  },
  {
   "cell_type": "code",
   "execution_count": 250,
   "id": "c2ff2cfb",
   "metadata": {},
   "outputs": [],
   "source": [
    "df = preprocessing(df)"
   ]
  },
  {
   "cell_type": "code",
   "execution_count": 251,
   "id": "767f66f7",
   "metadata": {},
   "outputs": [
    {
     "name": "stdout",
     "output_type": "stream",
     "text": [
      "Defaulting to user installation because normal site-packages is not writeable\n",
      "Requirement already satisfied: XGBoost in c:\\users\\win10\\appdata\\roaming\\python\\python39\\site-packages (1.7.1)\n",
      "Requirement already satisfied: numpy in c:\\programdata\\anaconda3\\lib\\site-packages (from XGBoost) (1.21.5)\n",
      "Requirement already satisfied: scipy in c:\\programdata\\anaconda3\\lib\\site-packages (from XGBoost) (1.7.3)\n"
     ]
    }
   ],
   "source": [
    "!pip install XGBoost"
   ]
  },
  {
   "cell_type": "code",
   "execution_count": 252,
   "id": "fd73a32d",
   "metadata": {},
   "outputs": [],
   "source": [
    "#Splitting the data into train and test split\n",
    "from sklearn.model_selection import train_test_split\n",
    "X = df.iloc[:, 1:-1]\n",
    "y = df.iloc[:,-1]\n",
    "X_train, X_test, y_train, y_test = train_test_split(X, y, test_size=0.2, random_state=42)"
   ]
  },
  {
   "cell_type": "code",
   "execution_count": 253,
   "id": "20cd82c8",
   "metadata": {},
   "outputs": [],
   "source": [
    "from sklearn.metrics import explained_variance_score,mean_absolute_error,r2_score\n",
    "\n",
    "from time import time\n",
    "\n",
    "from xgboost import XGBRegressor\n",
    "from sklearn.linear_model import LinearRegression, Ridge,Lasso\n",
    "from sklearn.neighbors import KNeighborsRegressor\n",
    "from sklearn.ensemble import GradientBoostingRegressor\n",
    "from sklearn.ensemble import ExtraTreesRegressor, RandomForestRegressor\n",
    "from sklearn.tree import DecisionTreeRegressor"
   ]
  },
  {
   "cell_type": "code",
   "execution_count": 254,
   "id": "59f36368",
   "metadata": {},
   "outputs": [],
   "source": [
    "regressors = [\n",
    "    KNeighborsRegressor(),\n",
    "    GradientBoostingRegressor(),\n",
    "    KNeighborsRegressor(),\n",
    "    ExtraTreesRegressor(),\n",
    "    RandomForestRegressor(),\n",
    "    DecisionTreeRegressor(),\n",
    "    XGBRegressor(),\n",
    "    LinearRegression(),\n",
    "    Lasso(),\n",
    "    Ridge()\n",
    "]"
   ]
  },
  {
   "cell_type": "code",
   "execution_count": 255,
   "id": "6e619bd4",
   "metadata": {
    "scrolled": true
   },
   "outputs": [
    {
     "name": "stdout",
     "output_type": "stream",
     "text": [
      "KNeighborsRegressor()\n",
      "\tTraining time: 0.004s\n",
      "\tPrediction time: 0.003s\n",
      "\tExplained variance: 0.8260783220523491\n",
      "\tMean absolute error: 108.38919925512104\n",
      "\tR2 score: 0.8260188657053464\n",
      "\n",
      "GradientBoostingRegressor()\n",
      "\tTraining time: 0.178s\n",
      "\tPrediction time: 0.002s\n",
      "\tExplained variance: 0.9244758101356931\n",
      "\tMean absolute error: 80.11029879321003\n",
      "\tR2 score: 0.9244607786132508\n",
      "\n",
      "KNeighborsRegressor()\n",
      "\tTraining time: 0.004s\n",
      "\tPrediction time: 0.004s\n",
      "\tExplained variance: 0.8260783220523491\n",
      "\tMean absolute error: 108.38919925512104\n",
      "\tR2 score: 0.8260188657053464\n",
      "\n",
      "ExtraTreesRegressor()\n",
      "\tTraining time: 0.212s\n",
      "\tPrediction time: 0.013s\n",
      "\tExplained variance: 0.9974473958993291\n",
      "\tMean absolute error: 8.144413407821228\n",
      "\tR2 score: 0.9974460199845662\n",
      "\n",
      "RandomForestRegressor()\n",
      "\tTraining time: 0.408s\n",
      "\tPrediction time: 0.013s\n",
      "\tExplained variance: 0.985648326318817\n",
      "\tMean absolute error: 21.816480446927375\n",
      "\tR2 score: 0.9856460828028577\n",
      "\n",
      "DecisionTreeRegressor()\n",
      "\tTraining time: 0.007s\n",
      "\tPrediction time: 0.001s\n",
      "\tExplained variance: 0.9781780361225622\n",
      "\tMean absolute error: 12.268156424581006\n",
      "\tR2 score: 0.9781473040844362\n",
      "\n",
      "XGBRegressor(base_score=0.5, booster='gbtree', callbacks=None,\n",
      "             colsample_bylevel=1, colsample_bynode=1, colsample_bytree=1,\n",
      "             early_stopping_rounds=None, enable_categorical=False,\n",
      "             eval_metric=None, feature_types=None, gamma=0, gpu_id=-1,\n",
      "             grow_policy='depthwise', importance_type=None,\n",
      "             interaction_constraints='', learning_rate=0.300000012, max_bin=256,\n",
      "             max_cat_threshold=64, max_cat_to_onehot=4, max_delta_step=0,\n",
      "             max_depth=6, max_leaves=0, min_child_weight=1, missing=nan,\n",
      "             monotone_constraints='()', n_estimators=100, n_jobs=0,\n",
      "             num_parallel_tree=1, predictor='auto', random_state=0, ...)\n",
      "\tTraining time: 0.129s\n",
      "\tPrediction time: 0.003s\n",
      "\tExplained variance: 0.9821692578560057\n",
      "\tMean absolute error: 25.76014966982481\n",
      "\tR2 score: 0.9821289337052278\n",
      "\n",
      "LinearRegression()\n",
      "\tTraining time: 0.003s\n",
      "\tPrediction time: 0.001s\n",
      "\tExplained variance: 0.7331769066885447\n",
      "\tMean absolute error: 150.81692600640224\n",
      "\tR2 score: 0.7319713373292025\n",
      "\n",
      "Lasso()\n",
      "\tTraining time: 0.002s\n",
      "\tPrediction time: 0.001s\n",
      "\tExplained variance: 0.7323750393595655\n",
      "\tMean absolute error: 150.94927305158998\n",
      "\tR2 score: 0.7311879473694738\n",
      "\n",
      "Ridge()\n",
      "\tTraining time: 0.002s\n",
      "\tPrediction time: 0.001s\n",
      "\tExplained variance: 0.7331549902309364\n",
      "\tMean absolute error: 150.8208023912488\n",
      "\tR2 score: 0.7319498529543746\n",
      "\n"
     ]
    }
   ],
   "source": [
    "head = 10\n",
    "for model in regressors[:head]:\n",
    "    start = time()\n",
    "    model.fit(X_train, y_train)\n",
    "    train_time = time() - start\n",
    "    start = time()\n",
    "    y_pred = model.predict(X_test)\n",
    "    predict_time = time()-start    \n",
    "    print(model)\n",
    "    print(\"\\tTraining time: %0.3fs\" % train_time)\n",
    "    print(\"\\tPrediction time: %0.3fs\" % predict_time)\n",
    "    print(\"\\tExplained variance:\", explained_variance_score(y_test, y_pred))\n",
    "    print(\"\\tMean absolute error:\", mean_absolute_error(y_test, y_pred))\n",
    "    print(\"\\tR2 score:\", r2_score(y_test, y_pred))\n",
    "    print()"
   ]
  },
  {
   "cell_type": "code",
   "execution_count": 256,
   "id": "998654fe",
   "metadata": {},
   "outputs": [],
   "source": [
    "parameters = {'n_estimators':[100],\n",
    "              'learning_rate' : [0.1],\n",
    "              'max_depth':[3],#트리의 최대 깊이\n",
    "              'gamma' : [0],#분할을 수행하는데 필요한 최소 손실 감소를 지정, loss function에 따라 조정해야함\n",
    "              'colsample_bytree':[0.9],#각 트리마다의 feature 샘플링 비율\n",
    "              'eval_metric': ['mae'],\n",
    "              'scale_pos_weight':[0.5],\n",
    "              'objective':['reg:linear'],\n",
    "              'subsample': [0.5],#각 트리마다의 관측 데이터 샘플링 비율, 값을 적게 주면 오버피팅, 더 작게 주면 언더 피팅\n",
    "              'min_child_weight': [22],\n",
    "              'seed': [1337],\n",
    "              'eta': [0.02],\n",
    "              \n",
    "             }"
   ]
  },
  {
   "cell_type": "code",
   "execution_count": 257,
   "id": "a07f6751",
   "metadata": {},
   "outputs": [
    {
     "name": "stdout",
     "output_type": "stream",
     "text": [
      "Fitting 5 folds for each of 1 candidates, totalling 5 fits\n",
      "[CV 1/5; 1/1] START colsample_bytree=0.9, eta=0.02, eval_metric=mae, gamma=0, learning_rate=0.1, max_depth=3, min_child_weight=22, n_estimators=100, objective=reg:linear, scale_pos_weight=0.5, seed=1337, subsample=0.5\n",
      "[16:55:46] WARNING: C:/buildkite-agent/builds/buildkite-windows-cpu-autoscaling-group-i-03de431ba26204c4d-1/xgboost/xgboost-ci-windows/src/objective/regression_obj.cu:213: reg:linear is now deprecated in favor of reg:squarederror.\n",
      "[CV 1/5; 1/1] END colsample_bytree=0.9, eta=0.02, eval_metric=mae, gamma=0, learning_rate=0.1, max_depth=3, min_child_weight=22, n_estimators=100, objective=reg:linear, scale_pos_weight=0.5, seed=1337, subsample=0.5;, score=0.403 total time=   0.0s\n",
      "[CV 2/5; 1/1] START colsample_bytree=0.9, eta=0.02, eval_metric=mae, gamma=0, learning_rate=0.1, max_depth=3, min_child_weight=22, n_estimators=100, objective=reg:linear, scale_pos_weight=0.5, seed=1337, subsample=0.5\n",
      "[16:55:46] WARNING: C:/buildkite-agent/builds/buildkite-windows-cpu-autoscaling-group-i-03de431ba26204c4d-1/xgboost/xgboost-ci-windows/src/objective/regression_obj.cu:213: reg:linear is now deprecated in favor of reg:squarederror.\n",
      "[CV 2/5; 1/1] END colsample_bytree=0.9, eta=0.02, eval_metric=mae, gamma=0, learning_rate=0.1, max_depth=3, min_child_weight=22, n_estimators=100, objective=reg:linear, scale_pos_weight=0.5, seed=1337, subsample=0.5;, score=0.844 total time=   0.0s\n",
      "[CV 3/5; 1/1] START colsample_bytree=0.9, eta=0.02, eval_metric=mae, gamma=0, learning_rate=0.1, max_depth=3, min_child_weight=22, n_estimators=100, objective=reg:linear, scale_pos_weight=0.5, seed=1337, subsample=0.5\n",
      "[16:55:46] WARNING: C:/buildkite-agent/builds/buildkite-windows-cpu-autoscaling-group-i-03de431ba26204c4d-1/xgboost/xgboost-ci-windows/src/objective/regression_obj.cu:213: reg:linear is now deprecated in favor of reg:squarederror.\n",
      "[CV 3/5; 1/1] END colsample_bytree=0.9, eta=0.02, eval_metric=mae, gamma=0, learning_rate=0.1, max_depth=3, min_child_weight=22, n_estimators=100, objective=reg:linear, scale_pos_weight=0.5, seed=1337, subsample=0.5;, score=0.710 total time=   0.0s\n",
      "[CV 4/5; 1/1] START colsample_bytree=0.9, eta=0.02, eval_metric=mae, gamma=0, learning_rate=0.1, max_depth=3, min_child_weight=22, n_estimators=100, objective=reg:linear, scale_pos_weight=0.5, seed=1337, subsample=0.5\n",
      "[16:55:46] WARNING: C:/buildkite-agent/builds/buildkite-windows-cpu-autoscaling-group-i-03de431ba26204c4d-1/xgboost/xgboost-ci-windows/src/objective/regression_obj.cu:213: reg:linear is now deprecated in favor of reg:squarederror.\n",
      "[CV 4/5; 1/1] END colsample_bytree=0.9, eta=0.02, eval_metric=mae, gamma=0, learning_rate=0.1, max_depth=3, min_child_weight=22, n_estimators=100, objective=reg:linear, scale_pos_weight=0.5, seed=1337, subsample=0.5;, score=0.805 total time=   0.0s\n",
      "[CV 5/5; 1/1] START colsample_bytree=0.9, eta=0.02, eval_metric=mae, gamma=0, learning_rate=0.1, max_depth=3, min_child_weight=22, n_estimators=100, objective=reg:linear, scale_pos_weight=0.5, seed=1337, subsample=0.5\n",
      "[16:55:46] WARNING: C:/buildkite-agent/builds/buildkite-windows-cpu-autoscaling-group-i-03de431ba26204c4d-1/xgboost/xgboost-ci-windows/src/objective/regression_obj.cu:213: reg:linear is now deprecated in favor of reg:squarederror.\n",
      "[CV 5/5; 1/1] END colsample_bytree=0.9, eta=0.02, eval_metric=mae, gamma=0, learning_rate=0.1, max_depth=3, min_child_weight=22, n_estimators=100, objective=reg:linear, scale_pos_weight=0.5, seed=1337, subsample=0.5;, score=0.732 total time=   0.0s\n",
      "[16:55:46] WARNING: C:/buildkite-agent/builds/buildkite-windows-cpu-autoscaling-group-i-03de431ba26204c4d-1/xgboost/xgboost-ci-windows/src/objective/regression_obj.cu:213: reg:linear is now deprecated in favor of reg:squarederror.\n",
      "{'colsample_bytree': 0.9, 'eta': 0.02, 'eval_metric': 'mae', 'gamma': 0, 'learning_rate': 0.1, 'max_depth': 3, 'min_child_weight': 22, 'n_estimators': 100, 'objective': 'reg:linear', 'scale_pos_weight': 0.5, 'seed': 1337, 'subsample': 0.5} \n",
      "\n",
      "XGBRegressor(base_score=0.5, booster='gbtree', callbacks=None,\n",
      "             colsample_bylevel=1, colsample_bynode=1, colsample_bytree=0.9,\n",
      "             early_stopping_rounds=None, enable_categorical=False, eta=0.02,\n",
      "             eval_metric='mae', feature_types=None, gamma=0, gpu_id=-1,\n",
      "             grow_policy='depthwise', importance_type=None,\n",
      "             interaction_constraints='', learning_rate=0.1, max_bin=256,\n",
      "             max_cat_threshold=64, max_cat_to_onehot=4, max_delta_step=0,\n",
      "             max_depth=3, max_leaves=0, min_child_weight=22, missing=nan,\n",
      "             monotone_constraints='()', n_estimators=100, n_jobs=0,\n",
      "             num_parallel_tree=1, objective='reg:linear', ...) \n",
      "\n"
     ]
    }
   ],
   "source": [
    "from sklearn.model_selection import GridSearchCV\n",
    "\n",
    "grid = GridSearchCV(XGBRegressor(),parameters,verbose=10)\n",
    "model = grid.fit(X,y)\n",
    "print(model.best_params_,'\\n')\n",
    "print(model.best_estimator_,'\\n')"
   ]
  },
  {
   "cell_type": "code",
   "execution_count": 258,
   "id": "ddff1ac6",
   "metadata": {},
   "outputs": [
    {
     "data": {
      "text/plain": [
       "GridSearchCV(estimator=XGBRegressor(base_score=None, booster=None,\n",
       "                                    callbacks=None, colsample_bylevel=None,\n",
       "                                    colsample_bynode=None,\n",
       "                                    colsample_bytree=None,\n",
       "                                    early_stopping_rounds=None,\n",
       "                                    enable_categorical=False, eval_metric=None,\n",
       "                                    feature_types=None, gamma=None, gpu_id=None,\n",
       "                                    grow_policy=None, importance_type=None,\n",
       "                                    interaction_constraints=None,\n",
       "                                    learning_rate=None, max_bi...\n",
       "                                    monotone_constraints=None, n_estimators=100,\n",
       "                                    n_jobs=None, num_parallel_tree=None,\n",
       "                                    predictor=None, random_state=None, ...),\n",
       "             param_grid={'colsample_bytree': [0.9], 'eta': [0.02],\n",
       "                         'eval_metric': ['mae'], 'gamma': [0],\n",
       "                         'learning_rate': [0.1], 'max_depth': [3],\n",
       "                         'min_child_weight': [22], 'n_estimators': [100],\n",
       "                         'objective': ['reg:linear'], 'scale_pos_weight': [0.5],\n",
       "                         'seed': [1337], 'subsample': [0.5]},\n",
       "             verbose=10)"
      ]
     },
     "execution_count": 258,
     "metadata": {},
     "output_type": "execute_result"
    }
   ],
   "source": [
    "model"
   ]
  },
  {
   "cell_type": "code",
   "execution_count": 259,
   "id": "e7fe60ab",
   "metadata": {},
   "outputs": [
    {
     "data": {
      "text/html": [
       "<div>\n",
       "<style scoped>\n",
       "    .dataframe tbody tr th:only-of-type {\n",
       "        vertical-align: middle;\n",
       "    }\n",
       "\n",
       "    .dataframe tbody tr th {\n",
       "        vertical-align: top;\n",
       "    }\n",
       "\n",
       "    .dataframe thead th {\n",
       "        text-align: right;\n",
       "    }\n",
       "</style>\n",
       "<table border=\"1\" class=\"dataframe\">\n",
       "  <thead>\n",
       "    <tr style=\"text-align: right;\">\n",
       "      <th></th>\n",
       "      <th>mean_fit_time</th>\n",
       "      <th>std_fit_time</th>\n",
       "      <th>mean_score_time</th>\n",
       "      <th>std_score_time</th>\n",
       "      <th>param_colsample_bytree</th>\n",
       "      <th>param_eta</th>\n",
       "      <th>param_eval_metric</th>\n",
       "      <th>param_gamma</th>\n",
       "      <th>param_learning_rate</th>\n",
       "      <th>param_max_depth</th>\n",
       "      <th>...</th>\n",
       "      <th>param_subsample</th>\n",
       "      <th>params</th>\n",
       "      <th>split0_test_score</th>\n",
       "      <th>split1_test_score</th>\n",
       "      <th>split2_test_score</th>\n",
       "      <th>split3_test_score</th>\n",
       "      <th>split4_test_score</th>\n",
       "      <th>mean_test_score</th>\n",
       "      <th>std_test_score</th>\n",
       "      <th>rank_test_score</th>\n",
       "    </tr>\n",
       "  </thead>\n",
       "  <tbody>\n",
       "    <tr>\n",
       "      <th>0</th>\n",
       "      <td>0.055348</td>\n",
       "      <td>0.00572</td>\n",
       "      <td>0.002611</td>\n",
       "      <td>0.000495</td>\n",
       "      <td>0.9</td>\n",
       "      <td>0.02</td>\n",
       "      <td>mae</td>\n",
       "      <td>0</td>\n",
       "      <td>0.1</td>\n",
       "      <td>3</td>\n",
       "      <td>...</td>\n",
       "      <td>0.5</td>\n",
       "      <td>{'colsample_bytree': 0.9, 'eta': 0.02, 'eval_m...</td>\n",
       "      <td>0.403446</td>\n",
       "      <td>0.844446</td>\n",
       "      <td>0.709554</td>\n",
       "      <td>0.804589</td>\n",
       "      <td>0.731556</td>\n",
       "      <td>0.698718</td>\n",
       "      <td>0.155452</td>\n",
       "      <td>1</td>\n",
       "    </tr>\n",
       "  </tbody>\n",
       "</table>\n",
       "<p>1 rows × 25 columns</p>\n",
       "</div>"
      ],
      "text/plain": [
       "   mean_fit_time  std_fit_time  mean_score_time  std_score_time  \\\n",
       "0       0.055348       0.00572         0.002611        0.000495   \n",
       "\n",
       "  param_colsample_bytree param_eta param_eval_metric param_gamma  \\\n",
       "0                    0.9      0.02               mae           0   \n",
       "\n",
       "  param_learning_rate param_max_depth  ... param_subsample  \\\n",
       "0                 0.1               3  ...             0.5   \n",
       "\n",
       "                                              params split0_test_score  \\\n",
       "0  {'colsample_bytree': 0.9, 'eta': 0.02, 'eval_m...          0.403446   \n",
       "\n",
       "  split1_test_score split2_test_score split3_test_score split4_test_score  \\\n",
       "0          0.844446          0.709554          0.804589          0.731556   \n",
       "\n",
       "   mean_test_score  std_test_score  rank_test_score  \n",
       "0         0.698718        0.155452                1  \n",
       "\n",
       "[1 rows x 25 columns]"
      ]
     },
     "execution_count": 259,
     "metadata": {},
     "output_type": "execute_result"
    }
   ],
   "source": [
    "scores_df = pd.DataFrame(grid.cv_results_)\n",
    "scores_df"
   ]
  },
  {
   "cell_type": "code",
   "execution_count": 260,
   "id": "851c7306",
   "metadata": {},
   "outputs": [
    {
     "data": {
      "text/plain": [
       "0.6987182360417263"
      ]
     },
     "execution_count": 260,
     "metadata": {},
     "output_type": "execute_result"
    }
   ],
   "source": [
    "grid.best_score_"
   ]
  },
  {
   "cell_type": "code",
   "execution_count": 261,
   "id": "8e53035d",
   "metadata": {},
   "outputs": [
    {
     "data": {
      "text/plain": [
       "['XGBRegressor.pkl']"
      ]
     },
     "execution_count": 261,
     "metadata": {},
     "output_type": "execute_result"
    }
   ],
   "source": [
    "import joblib\n",
    "\n",
    "joblib.dump(model, 'XGBRegressor.pkl')"
   ]
  },
  {
   "cell_type": "code",
   "execution_count": 262,
   "id": "51c539ce",
   "metadata": {},
   "outputs": [
    {
     "data": {
      "text/plain": [
       "array([475.4874 , 503.50873, 491.30405, ..., 684.4114 , 720.46814,\n",
       "       802.7541 ], dtype=float32)"
      ]
     },
     "execution_count": 262,
     "metadata": {},
     "output_type": "execute_result"
    }
   ],
   "source": [
    "XGBRegressor = joblib.load('XGBRegressor.pkl')\n",
    "pred = XGBRegressor.predict(X)\n",
    "pred"
   ]
  },
  {
   "cell_type": "code",
   "execution_count": null,
   "id": "e0b3018f",
   "metadata": {},
   "outputs": [],
   "source": []
  }
 ],
 "metadata": {
  "kernelspec": {
   "display_name": "Python 3 (ipykernel)",
   "language": "python",
   "name": "python3"
  },
  "language_info": {
   "codemirror_mode": {
    "name": "ipython",
    "version": 3
   },
   "file_extension": ".py",
   "mimetype": "text/x-python",
   "name": "python",
   "nbconvert_exporter": "python",
   "pygments_lexer": "ipython3",
   "version": "3.9.12"
  }
 },
 "nbformat": 4,
 "nbformat_minor": 5
}
